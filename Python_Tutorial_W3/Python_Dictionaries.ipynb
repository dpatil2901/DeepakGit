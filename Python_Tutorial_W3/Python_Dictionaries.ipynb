{
 "cells": [
  {
   "cell_type": "markdown",
   "id": "7d5209b1",
   "metadata": {},
   "source": [
    "# Dictionaries"
   ]
  },
  {
   "cell_type": "code",
   "execution_count": null,
   "id": "e6184991",
   "metadata": {},
   "outputs": [],
   "source": [
    "1. Built-in collection data type.\n",
    "2. Dictionaries are used to store data values in key:value pairs.\n",
    "3. Dictionaries are written with curly brackets and have key-value pairs.\n",
    "4. Dictionaries are defined as objects with the data type 'dict'"
   ]
  },
  {
   "cell_type": "code",
   "execution_count": 41,
   "id": "b1e14890",
   "metadata": {},
   "outputs": [
    {
     "name": "stdout",
     "output_type": "stream",
     "text": [
      "{'Name': 'Neenu', 'Age': '30', 'Place': 'USA'}\n"
     ]
    }
   ],
   "source": [
    "#Example of a dictionaries\n",
    "\n",
    "my_dict = {\"Name\":\"Neenu\",\"Age\":\"30\",\"Place\":\"USA\"}\n",
    "print(my_dict)"
   ]
  },
  {
   "cell_type": "markdown",
   "id": "b23614a0",
   "metadata": {},
   "source": [
    "### Characteristics of a Dictionaries"
   ]
  },
  {
   "cell_type": "code",
   "execution_count": null,
   "id": "525c79dc",
   "metadata": {},
   "outputs": [],
   "source": [
    "Ordered                   : As of Python version 3.7, dictionaries are ordered.it means that the items have\n",
    "                            a defined order, and that order will not change.\n",
    "        \n",
    "Changeable                : Dictionaries are changeable, meaning that we can change, add or remove items after \n",
    "                            the dictionary has been created.\n",
    "    \n",
    "Dose not allow duplicates : Dictionaries cannot have two items with the same key.Duplicate values will \n",
    "                            overwrite existing values.\n",
    "\n",
    "Dictionary items are presented in key:value pairs, and can be referred to by using the key name."
   ]
  },
  {
   "cell_type": "code",
   "execution_count": 14,
   "id": "f859f272",
   "metadata": {},
   "outputs": [
    {
     "name": "stdout",
     "output_type": "stream",
     "text": [
      "{'Name': 'Neenu', 'Age': '30', 'Place': 'India'}\n"
     ]
    }
   ],
   "source": [
    "#When there is duplicate values(two items with same key),duplicate values will overwrite existing values.\n",
    "\n",
    "\n",
    "my_dict = {\"Name\":\"Neenu\",\"Age\":\"30\",\"Place\":\"USA\",\"Place\":\"India\"} #here, key 'Place' is duplicated.\n",
    "print(my_dict)"
   ]
  },
  {
   "cell_type": "markdown",
   "id": "0fa6753c",
   "metadata": {},
   "source": [
    "### Dictionary Methods"
   ]
  },
  {
   "cell_type": "code",
   "execution_count": null,
   "id": "20310b91",
   "metadata": {},
   "outputs": [],
   "source": [
    "Set of built-in methods that you can use on dictionaries are given below:\n",
    "    \n",
    "Method                      Description\n",
    "\n",
    "clear()            Removes all the elements from the dictionary\n",
    "copy()             Returns a copy of the dictionary\n",
    "fromkeys()         Returns a dictionary with the specified keys and value\n",
    "get()              Returns the value of the specified key\n",
    "items()            Returns a list containing a tuple for each key value pair\n",
    "keys()             Returns a list containing the dictionary's keys\n",
    "pop()              Removes the element with the specified key\n",
    "popitem()          Removes the last inserted key-value pair\n",
    "setdefault()       Returns the value of the specified key. If the key does not exist: \n",
    "                   insert the key, with the specified value.\n",
    "update()           Updates the dictionary with the specified key-value pairs\n",
    "values()           Returns a list of all the values in the dictionary"
   ]
  },
  {
   "cell_type": "markdown",
   "id": "96fa3630",
   "metadata": {},
   "source": [
    "### Dictionary Length\n",
    "\n",
    "len()   :Method used to determine the no. of items in a dictionary."
   ]
  },
  {
   "cell_type": "code",
   "execution_count": 8,
   "id": "1f569734",
   "metadata": {},
   "outputs": [
    {
     "name": "stdout",
     "output_type": "stream",
     "text": [
      "3\n"
     ]
    }
   ],
   "source": [
    "#Length of a dictionary\n",
    "\n",
    "my_dict = {\"Name\":\"Neenu\",\"Age\":\"30\",\"Place\":\"USA\"} #Here, dictionary 'dict' has 3 items\n",
    "print(len(my_dict))\n"
   ]
  },
  {
   "cell_type": "markdown",
   "id": "da1ea7aa",
   "metadata": {},
   "source": [
    "### Dictionary Items - Data Types"
   ]
  },
  {
   "cell_type": "markdown",
   "id": "6cc99606",
   "metadata": {},
   "source": [
    "The values in dictionary items can be of any data type such integer,string,float,Boolean,list etc.\n",
    "\n",
    "type() : Method to find the datatype of a given variable."
   ]
  },
  {
   "cell_type": "code",
   "execution_count": 12,
   "id": "6b7bdf1e",
   "metadata": {},
   "outputs": [
    {
     "name": "stdout",
     "output_type": "stream",
     "text": [
      "{'Brand': 'Tesla', 'Electric': True, 'Year': 2003, 'Colors': ['Black', 'Silver', 'Blue']}\n"
     ]
    }
   ],
   "source": [
    "#Dictionary with different data items.\n",
    "\n",
    "my_dict = {\n",
    "  \"Brand\": \"Tesla\",\n",
    "  \"Electric\": True,\n",
    "  \"Year\": 2003,\n",
    "  \"Colors\": [\"Black\", \"Silver\", \"Blue\"]\n",
    "}\n",
    "print (dict)"
   ]
  },
  {
   "cell_type": "code",
   "execution_count": 16,
   "id": "57829cdb",
   "metadata": {},
   "outputs": [
    {
     "name": "stdout",
     "output_type": "stream",
     "text": [
      "<class 'dict'>\n"
     ]
    }
   ],
   "source": [
    "#Type of a dictionary\n",
    "\n",
    "my_dict = {\"Name\":\"Neenu\",\"Age\":\"30\",\"Place\":\"USA\"} \n",
    "print(type(my_dict))"
   ]
  },
  {
   "cell_type": "markdown",
   "id": "57051601",
   "metadata": {},
   "source": [
    "### The dict() Constructor\n",
    "\n",
    "dict()  :The dict() constructor creates a dictionary."
   ]
  },
  {
   "cell_type": "code",
   "execution_count": 16,
   "id": "619b4ec7",
   "metadata": {},
   "outputs": [
    {
     "name": "stdout",
     "output_type": "stream",
     "text": [
      "{'Name': 'Smith', 'Age': 36, 'Country': 'England'}\n",
      "<class 'dict'>\n"
     ]
    }
   ],
   "source": [
    "#Create dictionary using dict()\n",
    "\n",
    "my_dict = dict(Name = \"Smith\", Age = 36, Country = \"England\")\n",
    "print(my_dict)\n",
    "print(type(my_dict))"
   ]
  },
  {
   "cell_type": "code",
   "execution_count": 20,
   "id": "13ea028f",
   "metadata": {},
   "outputs": [
    {
     "name": "stdout",
     "output_type": "stream",
     "text": [
      "{'Name': 'Smith', 'Age': 36, 'Country': 'England'}\n",
      "<class 'dict'>\n"
     ]
    }
   ],
   "source": [
    "#Another way to create dictionary using dict()\n",
    "\n",
    "my_dict = dict({\"Name\":\"Smith\", \"Age\":36, \"Country\":\"England\"})\n",
    "print(my_dict)\n",
    "print(type(my_dict))"
   ]
  },
  {
   "cell_type": "code",
   "execution_count": 17,
   "id": "90022ddb",
   "metadata": {},
   "outputs": [
    {
     "name": "stdout",
     "output_type": "stream",
     "text": [
      "{}\n",
      "<class 'dict'>\n"
     ]
    }
   ],
   "source": [
    "#Create a empty dictionary using dict()\n",
    "my_dict = dict()\n",
    "print(my_dict)\n",
    "print(type(my_dict))"
   ]
  },
  {
   "cell_type": "markdown",
   "id": "800c808b",
   "metadata": {},
   "source": [
    "### Access Dictionary Items"
   ]
  },
  {
   "cell_type": "code",
   "execution_count": null,
   "id": "09104a1a",
   "metadata": {},
   "outputs": [],
   "source": [
    "We can access the items of a dictionary by referring to its key name, inside square brackets.\n",
    "\n",
    "get()       : Method to access items in a dictinaory.\n",
    "keys()      : Return a list of all the keys in the dictionary.\n",
    "values()    : Return a list of all the values in the dictionary.\n",
    "items()     : Return each item in a dictionary, as tuples in a list."
   ]
  },
  {
   "cell_type": "code",
   "execution_count": 58,
   "id": "34d11684",
   "metadata": {},
   "outputs": [
    {
     "name": "stdout",
     "output_type": "stream",
     "text": [
      "Tesla\n",
      "2003\n"
     ]
    }
   ],
   "source": [
    "# Access Dictionary Items\n",
    "\n",
    "my_dict = {\n",
    "  \"Brand\": \"Tesla\",\n",
    "  \"Electric\": True,\n",
    "  \"Year\": 2003,\n",
    "  \"Colors\": [\"Black\", \"Silver\", \"Blue\"]\n",
    "}\n",
    "print (dict[\"Brand\"])\n",
    "print (dict[\"Year\"])"
   ]
  },
  {
   "cell_type": "code",
   "execution_count": 59,
   "id": "49592f9e",
   "metadata": {},
   "outputs": [
    {
     "name": "stdout",
     "output_type": "stream",
     "text": [
      "Tesla\n",
      "2003\n"
     ]
    }
   ],
   "source": [
    "# Access Dictionary Items using get()\n",
    "\n",
    "my_dict = {\n",
    "  \"Brand\": \"Tesla\",\n",
    "  \"Electric\": True,\n",
    "  \"Year\": 2003,\n",
    "  \"Colors\": [\"Black\", \"Silver\", \"Blue\"]\n",
    "}\n",
    "brand = my_dict.get(\"Brand\")\n",
    "year = my_dict.get(\"Year\")\n",
    "print (brand)\n",
    "print (year)"
   ]
  },
  {
   "cell_type": "code",
   "execution_count": 61,
   "id": "57977e8b",
   "metadata": {},
   "outputs": [
    {
     "name": "stdout",
     "output_type": "stream",
     "text": [
      "dict_keys(['Brand', 'Electric', 'Year', 'Colors'])\n"
     ]
    }
   ],
   "source": [
    "#use of keys() method to access all the keys in the dictionary\n",
    "\n",
    "my_dict = {\n",
    "  \"Brand\": \"Tesla\",\n",
    "  \"Electric\": True,\n",
    "  \"Year\": 2003,\n",
    "  \"Colors\": [\"Black\", \"Silver\", \"Blue\"]\n",
    "}\n",
    "\n",
    "k = my_dict.keys()\n",
    "print(k)"
   ]
  },
  {
   "cell_type": "code",
   "execution_count": 62,
   "id": "896e773a",
   "metadata": {},
   "outputs": [
    {
     "name": "stdout",
     "output_type": "stream",
     "text": [
      "dict_values(['Tesla', True, 2003, ['Black', 'Silver', 'Blue']])\n"
     ]
    }
   ],
   "source": [
    "#use of values() method to access all the values in the dictionary\n",
    "\n",
    "my_dict = {\n",
    "  \"Brand\": \"Tesla\",\n",
    "  \"Electric\": True,\n",
    "  \"Year\": 2003,\n",
    "  \"Colors\": [\"Black\", \"Silver\", \"Blue\"]\n",
    "}\n",
    "\n",
    "v = my_dict.values()\n",
    "print(v)"
   ]
  },
  {
   "cell_type": "code",
   "execution_count": 63,
   "id": "7d878276",
   "metadata": {},
   "outputs": [
    {
     "name": "stdout",
     "output_type": "stream",
     "text": [
      "dict_items([('Brand', 'Tesla'), ('Electric', True), ('Year', 2003), ('Colors', ['Black', 'Silver', 'Blue'])])\n"
     ]
    }
   ],
   "source": [
    "#use of items() method to get each item in a dictionary as tuples, in a list\n",
    "\n",
    "my_dict = {\n",
    "  \"Brand\": \"Tesla\",\n",
    "  \"Electric\": True,\n",
    "  \"Year\": 2003,\n",
    "  \"Colors\": [\"Black\", \"Silver\", \"Blue\"]\n",
    "}\n",
    "\n",
    "i = my_dict.items()\n",
    "print(i)"
   ]
  },
  {
   "cell_type": "markdown",
   "id": "9474beb0",
   "metadata": {},
   "source": [
    "### Check if Key Exists"
   ]
  },
  {
   "cell_type": "code",
   "execution_count": null,
   "id": "c21a9e88",
   "metadata": {},
   "outputs": [],
   "source": [
    "in : Keyword used to check if a key present or not."
   ]
  },
  {
   "cell_type": "code",
   "execution_count": 1,
   "id": "231c7cb4",
   "metadata": {},
   "outputs": [
    {
     "name": "stdout",
     "output_type": "stream",
     "text": [
      "Yes, Year present in my_dict \n"
     ]
    }
   ],
   "source": [
    "#Check if a specified key present or not\n",
    "\n",
    "my_dict = {\n",
    "  \"Brand\": \"Tesla\",\n",
    "  \"Electric\": True,\n",
    "  \"Year\": 2003,\n",
    "  \"Colors\": [\"Black\", \"Silver\", \"Blue\"]\n",
    "}\n",
    "\n",
    "if \"Year\" in my_dict:\n",
    "    print(\"Yes, Year present in my_dict \")\n",
    "else:\n",
    "    print(\"No, Year not present in my_dict \")"
   ]
  },
  {
   "cell_type": "markdown",
   "id": "487aca9c",
   "metadata": {},
   "source": [
    "### Change Dictionary Items\n",
    "If you want to change the values in the dictionary:\n",
    "\n",
    "1. By referring to its key name, inside square brackets\n",
    "\n",
    "2. update ()  : This method update the dictionary with the items from the given argument.\n",
    "                The argument must be a dictionary, or an iterable object with key:value pairs"
   ]
  },
  {
   "cell_type": "code",
   "execution_count": 3,
   "id": "d247460e",
   "metadata": {},
   "outputs": [
    {
     "name": "stdout",
     "output_type": "stream",
     "text": [
      "{'Brand': 'Tesla', 'Electric': True, 'Year': 2013, 'Colors': ['Black', 'Silver', 'Blue']}\n"
     ]
    }
   ],
   "source": [
    "#Change dictionary items by referring to its key name, inside square brackets.\n",
    "\n",
    "my_dict = {\n",
    "  \"Brand\": \"Tesla\",\n",
    "  \"Electric\": True,\n",
    "  \"Year\": 2003,\n",
    "  \"Colors\": [\"Black\", \"Silver\", \"Blue\"]\n",
    "}\n",
    "\n",
    "my_dict[\"Year\"] = 2013 #Year value has been changed.\n",
    "print(my_dict)"
   ]
  },
  {
   "cell_type": "code",
   "execution_count": 10,
   "id": "d6c263ce",
   "metadata": {},
   "outputs": [
    {
     "name": "stdout",
     "output_type": "stream",
     "text": [
      "{'Brand': 'Tesla', 'Electric': True, 'Year': 2013, 'Colors': ['Black', 'Silver', 'Blue']}\n"
     ]
    }
   ],
   "source": [
    "#Change dictionary items by update() method\n",
    "\n",
    "my_dict = {\n",
    "  \"Brand\": \"Tesla\",\n",
    "  \"Electric\": True,\n",
    "  \"Year\": 2003,\n",
    "  \"Colors\": [\"Black\", \"Silver\", \"Blue\"]\n",
    "}\n",
    "my_dict.update({\"Year\" : 2013})\n",
    "\n",
    "print(my_dict)"
   ]
  },
  {
   "cell_type": "markdown",
   "id": "8eb5d518",
   "metadata": {},
   "source": [
    "### Add Dictionary Items\n",
    "Adding an item to the dictionary is done by using a new index key and assigning a value to it."
   ]
  },
  {
   "cell_type": "code",
   "execution_count": 21,
   "id": "2f7c78b2",
   "metadata": {},
   "outputs": [
    {
     "name": "stdout",
     "output_type": "stream",
     "text": [
      "{'Brand': 'Tesla', 'Electric': True, 'Year': 2003, 'Colors': ['Black', 'Silver', 'Blue'], 'Model': 'S'}\n"
     ]
    }
   ],
   "source": [
    "#Add a new item to the dictionary\n",
    "\n",
    "my_dict = {\n",
    "  \"Brand\": \"Tesla\",\n",
    "  \"Electric\": True,\n",
    "  \"Year\": 2003,\n",
    "  \"Colors\": [\"Black\", \"Silver\", \"Blue\"]\n",
    "}\n",
    "my_dict[\"Model\"] = \"S\" # new item has been added to the dictionary.\n",
    "print(my_dict)"
   ]
  },
  {
   "cell_type": "code",
   "execution_count": null,
   "id": "d090b308",
   "metadata": {},
   "outputs": [],
   "source": [
    "#Add a new item to the dictionary using update()"
   ]
  },
  {
   "cell_type": "code",
   "execution_count": 22,
   "id": "842c6b6a",
   "metadata": {},
   "outputs": [
    {
     "name": "stdout",
     "output_type": "stream",
     "text": [
      "{'Brand': 'Tesla', 'Electric': True, 'Year': 2003, 'Colors': ['Black', 'Silver', 'Blue'], 'Model': 'S'}\n"
     ]
    }
   ],
   "source": [
    "\n",
    "my_dict = {\n",
    "  \"Brand\": \"Tesla\",\n",
    "  \"Electric\": True,\n",
    "  \"Year\": 2003,\n",
    "  \"Colors\": [\"Black\", \"Silver\", \"Blue\"]\n",
    "}\n",
    "my_dict.update({\"Model\": \"S\"}) # new item has been added to the dictionary.\n",
    "print(my_dict)"
   ]
  },
  {
   "cell_type": "markdown",
   "id": "24351e9f",
   "metadata": {},
   "source": [
    "### Remove Dictionary Items"
   ]
  },
  {
   "cell_type": "code",
   "execution_count": null,
   "id": "f5549e4c",
   "metadata": {},
   "outputs": [],
   "source": [
    "There are several methods to remove items from a dictionary:\n",
    "    \n",
    "1. pop()      : Removes the item with the specified key name.\n",
    "    \n",
    "2. popitem()  : Removes the last inserted item.\n",
    "    \n",
    "3. del        : keyword used to remove the item with the specified key name. \n",
    "                The del keyword can also delete the dictionary completely.\n",
    "        \n",
    "4. clear()    : Method used to empties the dictionary.\n",
    "    "
   ]
  },
  {
   "cell_type": "code",
   "execution_count": 24,
   "id": "71566e07",
   "metadata": {},
   "outputs": [
    {
     "name": "stdout",
     "output_type": "stream",
     "text": [
      "{'Brand': 'Tesla', 'Electric': True, 'Colors': ['Black', 'Silver', 'Blue'], 'Model': 'S'}\n"
     ]
    }
   ],
   "source": [
    "#use pop() method to remove an item with the specified key.\n",
    "\n",
    "my_dict = {\n",
    "  \"Brand\": \"Tesla\",\n",
    "  \"Electric\": True,\n",
    "  \"Year\": 2003,\n",
    "  \"Colors\": [\"Black\", \"Silver\", \"Blue\"],\n",
    "  \"Model\" : \"S\"\n",
    "}\n",
    "my_dict.pop(\"Year\") #item with key \"Yeaar\" has been removed\n",
    "print(my_dict)"
   ]
  },
  {
   "cell_type": "code",
   "execution_count": 26,
   "id": "acbfc65e",
   "metadata": {},
   "outputs": [
    {
     "name": "stdout",
     "output_type": "stream",
     "text": [
      "{'Brand': 'Tesla', 'Electric': True, 'Year': 2003, 'Colors': ['Black', 'Silver', 'Blue']}\n"
     ]
    }
   ],
   "source": [
    "#use popitem() method to remove the last item from the dictionary.\n",
    "\n",
    "my_dict = {\n",
    "  \"Brand\": \"Tesla\",\n",
    "  \"Electric\": True,\n",
    "  \"Year\": 2003,\n",
    "  \"Colors\": [\"Black\", \"Silver\", \"Blue\"],\n",
    "  \"Model\" : \"S\"\n",
    "}\n",
    "my_dict.popitem() #removes the last item.\n",
    "print(my_dict)"
   ]
  },
  {
   "cell_type": "code",
   "execution_count": 27,
   "id": "dd439088",
   "metadata": {},
   "outputs": [
    {
     "name": "stdout",
     "output_type": "stream",
     "text": [
      "{'Brand': 'Tesla', 'Year': 2003, 'Colors': ['Black', 'Silver', 'Blue'], 'Model': 'S'}\n"
     ]
    }
   ],
   "source": [
    "#use del keyword to remove the item with specified key from the dictionary.\n",
    "\n",
    "my_dict = {\n",
    "  \"Brand\": \"Tesla\",\n",
    "  \"Electric\": True,\n",
    "  \"Year\": 2003,\n",
    "  \"Colors\": [\"Black\", \"Silver\", \"Blue\"],\n",
    "  \"Model\" : \"S\"\n",
    "}\n",
    "del my_dict[\"Electric\"]\n",
    "print(my_dict)"
   ]
  },
  {
   "cell_type": "code",
   "execution_count": 28,
   "id": "c14ee74d",
   "metadata": {},
   "outputs": [
    {
     "ename": "NameError",
     "evalue": "name 'my_dict' is not defined",
     "output_type": "error",
     "traceback": [
      "\u001b[1;31m---------------------------------------------------------------------------\u001b[0m",
      "\u001b[1;31mNameError\u001b[0m                                 Traceback (most recent call last)",
      "Cell \u001b[1;32mIn[28], line 11\u001b[0m\n\u001b[0;32m      3\u001b[0m my_dict \u001b[38;5;241m=\u001b[39m {\n\u001b[0;32m      4\u001b[0m   \u001b[38;5;124m\"\u001b[39m\u001b[38;5;124mBrand\u001b[39m\u001b[38;5;124m\"\u001b[39m: \u001b[38;5;124m\"\u001b[39m\u001b[38;5;124mTesla\u001b[39m\u001b[38;5;124m\"\u001b[39m,\n\u001b[0;32m      5\u001b[0m   \u001b[38;5;124m\"\u001b[39m\u001b[38;5;124mElectric\u001b[39m\u001b[38;5;124m\"\u001b[39m: \u001b[38;5;28;01mTrue\u001b[39;00m,\n\u001b[1;32m   (...)\u001b[0m\n\u001b[0;32m      8\u001b[0m   \u001b[38;5;124m\"\u001b[39m\u001b[38;5;124mModel\u001b[39m\u001b[38;5;124m\"\u001b[39m : \u001b[38;5;124m\"\u001b[39m\u001b[38;5;124mS\u001b[39m\u001b[38;5;124m\"\u001b[39m\n\u001b[0;32m      9\u001b[0m }\n\u001b[0;32m     10\u001b[0m \u001b[38;5;28;01mdel\u001b[39;00m my_dict\n\u001b[1;32m---> 11\u001b[0m \u001b[38;5;28mprint\u001b[39m(\u001b[43mmy_dict\u001b[49m)\n",
      "\u001b[1;31mNameError\u001b[0m: name 'my_dict' is not defined"
     ]
    }
   ],
   "source": [
    "#use del keyword to delete the dictionary completely.\n",
    "\n",
    "my_dict = {\n",
    "  \"Brand\": \"Tesla\",\n",
    "  \"Electric\": True,\n",
    "  \"Year\": 2003,\n",
    "  \"Colors\": [\"Black\", \"Silver\", \"Blue\"],\n",
    "  \"Model\" : \"S\"\n",
    "}\n",
    "del my_dict\n",
    "print(my_dict) # Throws error since the dictionary has been deleted."
   ]
  },
  {
   "cell_type": "code",
   "execution_count": 29,
   "id": "1301804b",
   "metadata": {},
   "outputs": [
    {
     "name": "stdout",
     "output_type": "stream",
     "text": [
      "{}\n"
     ]
    }
   ],
   "source": [
    "my_dict = {\n",
    "  \"Brand\": \"Tesla\",\n",
    "  \"Electric\": True,\n",
    "  \"Year\": 2003,\n",
    "  \"Colors\": [\"Black\", \"Silver\", \"Blue\"],\n",
    "  \"Model\" : \"S\"\n",
    "}\n",
    "my_dict.clear() #Empties the dictionary\n",
    "print(my_dict)"
   ]
  },
  {
   "cell_type": "markdown",
   "id": "f25f1d45",
   "metadata": {},
   "source": [
    "### Loop Dictionaries"
   ]
  },
  {
   "cell_type": "code",
   "execution_count": null,
   "id": "9894a113",
   "metadata": {},
   "outputs": [],
   "source": [
    "We can use for loop to iterate through a dictionary:\n",
    "    \n",
    "for loop  : When looping through a dictionary, the return value are the keys of the dictionary, \n",
    "            but there are methods to return the values as well.\n",
    "\n",
    "Methods used with for loop to return different results:\n",
    "\n",
    "values()  :Return values of a dictionary.\n",
    "keys()    :Return keys of a dictionary.\n",
    "items()   :Return key:value pairs of a dictionary."
   ]
  },
  {
   "cell_type": "code",
   "execution_count": 31,
   "id": "949ff1e4",
   "metadata": {},
   "outputs": [
    {
     "name": "stdout",
     "output_type": "stream",
     "text": [
      "Brand\n",
      "Electric\n",
      "Year\n",
      "Colors\n",
      "Model\n"
     ]
    }
   ],
   "source": [
    "#Using for loop to iterate through keys \n",
    "\n",
    "my_dict = {\n",
    "  \"Brand\": \"Tesla\",\n",
    "  \"Electric\": True,\n",
    "  \"Year\": 2003,\n",
    "  \"Colors\": [\"Black\", \"Silver\", \"Blue\"],\n",
    "  \"Model\" : \"S\"\n",
    "}\n",
    "for k in my_dict:\n",
    "    print(k) #print all keys"
   ]
  },
  {
   "cell_type": "code",
   "execution_count": 32,
   "id": "8f3983ea",
   "metadata": {},
   "outputs": [
    {
     "name": "stdout",
     "output_type": "stream",
     "text": [
      "Tesla\n",
      "True\n",
      "2003\n",
      "['Black', 'Silver', 'Blue']\n",
      "S\n"
     ]
    }
   ],
   "source": [
    "#Using for loop to iterate through values \n",
    "\n",
    "my_dict = {\n",
    "  \"Brand\": \"Tesla\",\n",
    "  \"Electric\": True,\n",
    "  \"Year\": 2003,\n",
    "  \"Colors\": [\"Black\", \"Silver\", \"Blue\"],\n",
    "  \"Model\" : \"S\"\n",
    "}\n",
    "for k in my_dict:\n",
    "    print(my_dict[k]) #print all values"
   ]
  },
  {
   "cell_type": "code",
   "execution_count": 33,
   "id": "aae622e4",
   "metadata": {},
   "outputs": [
    {
     "name": "stdout",
     "output_type": "stream",
     "text": [
      "Tesla\n",
      "True\n",
      "2003\n",
      "['Black', 'Silver', 'Blue']\n",
      "S\n"
     ]
    }
   ],
   "source": [
    "#Using for loop to iterate through values  using values() method\n",
    "\n",
    "my_dict = {\n",
    "  \"Brand\": \"Tesla\",\n",
    "  \"Electric\": True,\n",
    "  \"Year\": 2003,\n",
    "  \"Colors\": [\"Black\", \"Silver\", \"Blue\"],\n",
    "  \"Model\" : \"S\"\n",
    "}\n",
    "for v in my_dict.values():\n",
    "    print(v) #print all values"
   ]
  },
  {
   "cell_type": "code",
   "execution_count": 34,
   "id": "8b1ec571",
   "metadata": {},
   "outputs": [
    {
     "name": "stdout",
     "output_type": "stream",
     "text": [
      "Brand\n",
      "Electric\n",
      "Year\n",
      "Colors\n",
      "Model\n"
     ]
    }
   ],
   "source": [
    "#Using for loop to iterate through keys using keys() method\n",
    "\n",
    "my_dict = {\n",
    "  \"Brand\": \"Tesla\",\n",
    "  \"Electric\": True,\n",
    "  \"Year\": 2003,\n",
    "  \"Colors\": [\"Black\", \"Silver\", \"Blue\"],\n",
    "  \"Model\" : \"S\"\n",
    "}\n",
    "for k in my_dict.keys():\n",
    "    print(k) #print all keys"
   ]
  },
  {
   "cell_type": "code",
   "execution_count": 38,
   "id": "9d1efdbb",
   "metadata": {},
   "outputs": [
    {
     "name": "stdout",
     "output_type": "stream",
     "text": [
      "Brand      Tesla\n",
      "Electric      True\n",
      "Year      2003\n",
      "Colors      ['Black', 'Silver', 'Blue']\n",
      "Model      S\n"
     ]
    }
   ],
   "source": [
    "#Using for loop to iterate through items using items() method\n",
    "\n",
    "my_dict = {\n",
    "  \"Brand\": \"Tesla\",\n",
    "  \"Electric\": True,\n",
    "  \"Year\": 2003,\n",
    "  \"Colors\": [\"Black\", \"Silver\", \"Blue\"],\n",
    "  \"Model\" : \"S\"\n",
    "}\n",
    "for k,v in my_dict.items():\n",
    "    print(k,\"    \",v) #print all keys"
   ]
  },
  {
   "cell_type": "markdown",
   "id": "ade3d3fe",
   "metadata": {},
   "source": [
    "### Copy Dictionaries"
   ]
  },
  {
   "cell_type": "code",
   "execution_count": null,
   "id": "869d0dce",
   "metadata": {},
   "outputs": [],
   "source": [
    "We can make a copy of a dictionary using the following built-in mehtods:\n",
    "    \n",
    "1. copy()     \n",
    "2. dict()     "
   ]
  },
  {
   "cell_type": "code",
   "execution_count": 39,
   "id": "120e1300",
   "metadata": {},
   "outputs": [
    {
     "name": "stdout",
     "output_type": "stream",
     "text": [
      "{'Brand': 'Tesla', 'Electric': True, 'Year': 2003, 'Colors': ['Black', 'Silver', 'Blue'], 'Model': 'S'}\n"
     ]
    }
   ],
   "source": [
    "#Make copy of dictionary using copy() mehtod\n",
    "\n",
    "my_dict = {\n",
    "  \"Brand\": \"Tesla\",\n",
    "  \"Electric\": True,\n",
    "  \"Year\": 2003,\n",
    "  \"Colors\": [\"Black\", \"Silver\", \"Blue\"],\n",
    "  \"Model\" : \"S\"\n",
    "}\n",
    "\n",
    "my_dict_copy = my_dict.copy()\n",
    "print(my_dict_copy)"
   ]
  },
  {
   "cell_type": "code",
   "execution_count": 40,
   "id": "e8bde87c",
   "metadata": {},
   "outputs": [
    {
     "name": "stdout",
     "output_type": "stream",
     "text": [
      "{'Brand': 'Tesla', 'Electric': True, 'Year': 2003, 'Colors': ['Black', 'Silver', 'Blue'], 'Model': 'S'}\n"
     ]
    }
   ],
   "source": [
    "#Make copy of dictionary using dict() mehtod\n",
    "\n",
    "my_dict = {\n",
    "  \"Brand\": \"Tesla\",\n",
    "  \"Electric\": True,\n",
    "  \"Year\": 2003,\n",
    "  \"Colors\": [\"Black\", \"Silver\", \"Blue\"],\n",
    "  \"Model\" : \"S\"\n",
    "}\n",
    "\n",
    "my_dict_copy = dict(my_dict)\n",
    "print(my_dict_copy)"
   ]
  },
  {
   "cell_type": "markdown",
   "id": "b1da733b",
   "metadata": {},
   "source": [
    "### Nested Dictionaries\n",
    "A dictionary can contain dictionaries, this is called nested dictionaries."
   ]
  },
  {
   "cell_type": "code",
   "execution_count": 44,
   "id": "cd51985a",
   "metadata": {},
   "outputs": [
    {
     "name": "stdout",
     "output_type": "stream",
     "text": [
      "{'f1': {'name': 'Apple', 'color': 'Red'}, 'f2': {'name': 'Mango', 'color': 'Yellow'}, 'f3': {'name': 'Blueberry', 'color': 'Blue'}}\n",
      "Acessing items:  Apple\n"
     ]
    }
   ],
   "source": [
    "#Example of a nested dictionary.\n",
    "\n",
    "fruit1 = {\n",
    "  \"name\"  : \"Apple\",\n",
    "  \"color\" : \"Red\"\n",
    "}\n",
    "fruit2 = {\n",
    "  \"name\"  : \"Mango\",\n",
    "  \"color\" : \"Yellow\"\n",
    "}\n",
    "fruit3 = {\n",
    "  \"name\" : \"Blueberry\",\n",
    "  \"color\" : \"Blue\"\n",
    "}\n",
    "\n",
    "myFruits = {\n",
    "  \"f1\" : fruit1,\n",
    "  \"f2\" : fruit2,\n",
    "  \"f3\" : fruit3\n",
    "}\n",
    "\n",
    "print(myFruits) #Nested dictionary\n",
    "print(\"Acessing items: \", myFruits[\"f1\"][\"name\"]) #Acessing items from nested dictionary"
   ]
  },
  {
   "cell_type": "markdown",
   "id": "5e102755",
   "metadata": {},
   "source": [
    "# END"
   ]
  }
 ],
 "metadata": {
  "kernelspec": {
   "display_name": "Python 3 (ipykernel)",
   "language": "python",
   "name": "python3"
  },
  "language_info": {
   "codemirror_mode": {
    "name": "ipython",
    "version": 3
   },
   "file_extension": ".py",
   "mimetype": "text/x-python",
   "name": "python",
   "nbconvert_exporter": "python",
   "pygments_lexer": "ipython3",
   "version": "3.10.13"
  }
 },
 "nbformat": 4,
 "nbformat_minor": 5
}
