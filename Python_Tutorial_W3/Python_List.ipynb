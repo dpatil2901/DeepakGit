{
 "cells": [
  {
   "cell_type": "markdown",
   "id": "c6914ef8",
   "metadata": {},
   "source": [
    "### Python Collection"
   ]
  },
  {
   "cell_type": "code",
   "execution_count": null,
   "id": "cd1f9493",
   "metadata": {},
   "outputs": [],
   "source": [
    "Python has 4 built-in data structures that can be used to hold a collection of objects, they are :\n",
    "1. list \n",
    "2. tuple\n",
    "3. set\n",
    "4. dictionary"
   ]
  },
  {
   "cell_type": "markdown",
   "id": "7e280f2a",
   "metadata": {},
   "source": [
    "### List\n",
    "Used to store multiple items(collection of data) in a single variable.Lists are created using square brackets."
   ]
  },
  {
   "cell_type": "markdown",
   "id": "aa544aca",
   "metadata": {},
   "source": [
    "### Create a List"
   ]
  },
  {
   "cell_type": "code",
   "execution_count": 3,
   "id": "47b5cf48",
   "metadata": {},
   "outputs": [
    {
     "name": "stdout",
     "output_type": "stream",
     "text": [
      "My List : [1, 2, 3, 4, 5]\n"
     ]
    }
   ],
   "source": [
    "my_list = [1,2,3,4,5]\n",
    "print(\"My List :\",my_list)"
   ]
  },
  {
   "cell_type": "markdown",
   "id": "27d4f8b8",
   "metadata": {},
   "source": [
    "### Characteristics of List"
   ]
  },
  {
   "cell_type": "code",
   "execution_count": null,
   "id": "28307a56",
   "metadata": {},
   "outputs": [],
   "source": [
    "List items are:\n",
    "1. Ordered                : The items have a defined order, and that order will not change.\n",
    "                            If you add new items to a list,the new items will be placed at the end of the list.\n",
    "2. Changeable (Mutable)   : We can change, add, and remove items in a list after it has been created.\n",
    "3. Allow duplicate values : List can have any number of duplicate values.\n",
    "4. indexed                : The first item has index 0, the second item has index 1 etc."
   ]
  },
  {
   "cell_type": "markdown",
   "id": "aa2a2b0e",
   "metadata": {},
   "source": [
    "### List Methods"
   ]
  },
  {
   "cell_type": "code",
   "execution_count": null,
   "id": "b8a2773d",
   "metadata": {},
   "outputs": [],
   "source": [
    "Given below are the predefined methods of a list:\n",
    "    \n",
    "Method              Description\n",
    "\n",
    "append()               Adds an element at the end of the list\n",
    "clear()                Removes all the elements from the list\n",
    "copy()                 Returns a copy of the list\n",
    "count()                Returns the number of elements with the specified value\n",
    "extend()               Add the elements of a list (or any iterable), to the end of the current list\n",
    "index()                Returns the index of the first element with the specified value\n",
    "insert()               Adds an element at the specified position\n",
    "pop()                  Removes the element at the specified position\n",
    "remove()               Removes the item with the specified value\n",
    "reverse()              Reverses the order of the list\n",
    "sort()                 Sorts the list"
   ]
  },
  {
   "cell_type": "code",
   "execution_count": 4,
   "id": "af8ba00c",
   "metadata": {},
   "outputs": [
    {
     "name": "stdout",
     "output_type": "stream",
     "text": [
      "[12, 23, 12, 55, 70, 23, 12]\n"
     ]
    }
   ],
   "source": [
    "#Checking whether list allows duplicate values.\n",
    "my_list = [12,23,12,55,70,23,12]\n",
    "print(my_list)"
   ]
  },
  {
   "cell_type": "markdown",
   "id": "1dcf4bf6",
   "metadata": {},
   "source": [
    "### Length of List "
   ]
  },
  {
   "cell_type": "code",
   "execution_count": null,
   "id": "938696e7",
   "metadata": {},
   "outputs": [],
   "source": [
    "len() : Function used to find the length of list. Length of a list is equal to the number of elements in that list."
   ]
  },
  {
   "cell_type": "code",
   "execution_count": 5,
   "id": "34ea55a8",
   "metadata": {},
   "outputs": [
    {
     "name": "stdout",
     "output_type": "stream",
     "text": [
      "7\n"
     ]
    }
   ],
   "source": [
    "#Length of a list\n",
    "my_list = [1,2,3,4,5,6,7]\n",
    "l = len(my_list)\n",
    "print(l)"
   ]
  },
  {
   "cell_type": "markdown",
   "id": "72cfff90",
   "metadata": {},
   "source": [
    "### Datatypes"
   ]
  },
  {
   "cell_type": "code",
   "execution_count": null,
   "id": "45223497",
   "metadata": {},
   "outputs": [],
   "source": [
    "A list can contain different data types."
   ]
  },
  {
   "cell_type": "code",
   "execution_count": 6,
   "id": "35dd022a",
   "metadata": {},
   "outputs": [
    {
     "name": "stdout",
     "output_type": "stream",
     "text": [
      "[12, 'Smith', 5.5, 'Hello']\n"
     ]
    }
   ],
   "source": [
    "#List allows different datatypes.\n",
    "my_list = [12,\"Smith\",5.5,\"Hello\"]\n",
    "print(my_list)\n"
   ]
  },
  {
   "cell_type": "code",
   "execution_count": null,
   "id": "2a9dc041",
   "metadata": {},
   "outputs": [],
   "source": [
    "type() :Function to identify the type of a list."
   ]
  },
  {
   "cell_type": "code",
   "execution_count": 7,
   "id": "510d9e84",
   "metadata": {},
   "outputs": [
    {
     "name": "stdout",
     "output_type": "stream",
     "text": [
      "<class 'list'>\n"
     ]
    }
   ],
   "source": [
    "#To identify the datatype of given variable.\n",
    "my_list = [1,2,3,4,5,6,7]\n",
    "print(type(my_list)) #here , my_list is a object of class list."
   ]
  },
  {
   "cell_type": "markdown",
   "id": "17b30be1",
   "metadata": {},
   "source": [
    "### list() Constructor"
   ]
  },
  {
   "cell_type": "code",
   "execution_count": null,
   "id": "c6470f17",
   "metadata": {},
   "outputs": [],
   "source": [
    "A new list can be creat using list() constructor.\n",
    "function with same name as the class is called a constructor.\n",
    "here, list() method is a constructor of class list."
   ]
  },
  {
   "cell_type": "code",
   "execution_count": 8,
   "id": "4ac0f862",
   "metadata": {},
   "outputs": [
    {
     "name": "stdout",
     "output_type": "stream",
     "text": [
      "[1, 2, 3, 4, 5]\n",
      "<class 'list'>\n"
     ]
    }
   ],
   "source": [
    "#Create list using list() constructor\n",
    "my_list = list((1,2,3,4,5))\n",
    "print(my_list)\n",
    "print(type(my_list))"
   ]
  },
  {
   "cell_type": "markdown",
   "id": "5adcb7c3",
   "metadata": {},
   "source": [
    "### Access List Items"
   ]
  },
  {
   "cell_type": "code",
   "execution_count": null,
   "id": "8e48540d",
   "metadata": {},
   "outputs": [],
   "source": [
    "List items are indexed and you can access them by referring to the index number.\n",
    "There are two types of indexing:\n",
    "    1. Positive indexing\n",
    "           List index starts at 0. index 0 points to the first item in the list.\n",
    "           1 refers to the second item in the list an so on.\n",
    "    2. Negative indexing\n",
    "           Negative indexing means start from the end.-1 refers to the last item, \n",
    "           -2 refers to the second last item etc.\n",
    "    "
   ]
  },
  {
   "cell_type": "code",
   "execution_count": 11,
   "id": "62816e3a",
   "metadata": {},
   "outputs": [
    {
     "name": "stdout",
     "output_type": "stream",
     "text": [
      "1\n",
      "2\n"
     ]
    }
   ],
   "source": [
    "#Access items of a list using Positive index.\n",
    "my_list = [1,2,3,4,5,6]\n",
    "print(my_list[0]) #Accessing first item\n",
    "print(my_list[1]) #Accessing second item"
   ]
  },
  {
   "cell_type": "code",
   "execution_count": 12,
   "id": "ea58e31e",
   "metadata": {},
   "outputs": [
    {
     "name": "stdout",
     "output_type": "stream",
     "text": [
      "6\n",
      "5\n"
     ]
    }
   ],
   "source": [
    "#Access items of a list using Negative index.\n",
    "my_list = [1,2,3,4,5,6]\n",
    "print(my_list[-1]) #Accessing last item\n",
    "print(my_list[-2]) #Accessing second last item"
   ]
  },
  {
   "cell_type": "markdown",
   "id": "d8c053b9",
   "metadata": {},
   "source": [
    "### Range of Positive Indexes"
   ]
  },
  {
   "cell_type": "code",
   "execution_count": null,
   "id": "b6c25193",
   "metadata": {},
   "outputs": [],
   "source": [
    "We can specify a range of indexes by specifying where to start and where to end the range.\n",
    "eg: list1(start:end)\n",
    "here, start:end is the range of the new list items.start indicates the start index and\n",
    "end indicates the end index of new list. \n",
    "When specifying a range, the return value will be a new list with the specified items."
   ]
  },
  {
   "cell_type": "code",
   "execution_count": 13,
   "id": "29e8bbd9",
   "metadata": {},
   "outputs": [
    {
     "name": "stdout",
     "output_type": "stream",
     "text": [
      "[2, 3, 4]\n"
     ]
    }
   ],
   "source": [
    "#new list with the given range using positive indexes\n",
    "my_list = [1,2,3,4,5,6]\n",
    "new_list = my_list[1:4] #The search will start at index 1 (included) and end at index 4 (not included).\n",
    "print (new_list)"
   ]
  },
  {
   "cell_type": "markdown",
   "id": "75452904",
   "metadata": {},
   "source": [
    "### Range of Negative Indexes\n",
    "Specify negative indexes if you want to start the search from the end of the list."
   ]
  },
  {
   "cell_type": "code",
   "execution_count": 16,
   "id": "e5c0a756",
   "metadata": {},
   "outputs": [
    {
     "name": "stdout",
     "output_type": "stream",
     "text": [
      "[2, 3]\n"
     ]
    }
   ],
   "source": [
    "#new list with the given range using negative indexes\n",
    "my_list = [1,2,3,4,5,6]\n",
    "new_list = my_list[-5:-3] # The search will start at index -5 (included) and end at index -3 (not included).\n",
    "print(new_list)"
   ]
  },
  {
   "cell_type": "markdown",
   "id": "2a000d2c",
   "metadata": {},
   "source": [
    "### Check if Item Exists"
   ]
  },
  {
   "cell_type": "code",
   "execution_count": null,
   "id": "091a980e",
   "metadata": {},
   "outputs": [],
   "source": [
    "in : A keyword used to check whether a specified item is present in the list or not."
   ]
  },
  {
   "cell_type": "code",
   "execution_count": 21,
   "id": "e0128628",
   "metadata": {},
   "outputs": [
    {
     "name": "stdout",
     "output_type": "stream",
     "text": [
      "yes , item present in the list\n"
     ]
    }
   ],
   "source": [
    "#Check if item (string data) is present or not\n",
    "my_list = [\"apple\",\"banana\",\"grapes\",\"orange\"]\n",
    "if \"apple\" in my_list:\n",
    "    print (\"yes , item present in the list\")\n",
    "else:\n",
    "    print(\"No,item not in the list\")"
   ]
  },
  {
   "cell_type": "code",
   "execution_count": 22,
   "id": "de83062a",
   "metadata": {},
   "outputs": [
    {
     "name": "stdout",
     "output_type": "stream",
     "text": [
      "yes , item present in the list\n"
     ]
    }
   ],
   "source": [
    "#Check if item (integer data) is present or not\n",
    "my_list = [1,2,3,4,5]\n",
    "if 1 in my_list:\n",
    "    print (\"yes , item present in the list\")\n",
    "else:\n",
    "    print(\"No,item not in the list\")"
   ]
  },
  {
   "cell_type": "markdown",
   "id": "fc6c7795",
   "metadata": {},
   "source": [
    "### Change Item Value\n",
    "To change the value of a specific item, refer to the index number."
   ]
  },
  {
   "cell_type": "code",
   "execution_count": 2,
   "id": "fbd9b644",
   "metadata": {},
   "outputs": [
    {
     "name": "stdout",
     "output_type": "stream",
     "text": [
      "[1, 2, 3, 'four', 5, 6]\n"
     ]
    }
   ],
   "source": [
    "#ex: To change the item at index 4 in a list.\n",
    "my_list = [1,2,3,4,5,6]\n",
    "my_list[3] =\"four\"\n",
    "print(my_list)\n"
   ]
  },
  {
   "cell_type": "markdown",
   "id": "a744a7c1",
   "metadata": {},
   "source": [
    "### Change a Range of Item Values\n",
    "To change the range of items in a given list,define a list with the new values, and refer to the range of index numbers where you want to insert the new values. If you insert more items than you replace, the new items will be inserted where you specified, and the remaining items will move accordingly.  The length of the list will change when the number of items inserted does not match the number of items replaced."
   ]
  },
  {
   "cell_type": "code",
   "execution_count": 3,
   "id": "93cc7def",
   "metadata": {},
   "outputs": [
    {
     "name": "stdout",
     "output_type": "stream",
     "text": [
      "[1, 'two', 'three', 'four', 5, 6]\n"
     ]
    }
   ],
   "source": [
    "#ex: To change the range of items in a list.\n",
    "my_list = [1,2,3,4,5,6]\n",
    "my_list[1:4] =[\"two\",\"three\",\"four\"] #changed the items at index 1,2,and 3\n",
    "print(my_list)"
   ]
  },
  {
   "cell_type": "code",
   "execution_count": 4,
   "id": "e95395b9",
   "metadata": {},
   "outputs": [
    {
     "name": "stdout",
     "output_type": "stream",
     "text": [
      "[1, 'two', 'three', 'four', 'five', 'six', 5, 6]\n"
     ]
    }
   ],
   "source": [
    "#ex: To change the range of items in a list.(When you insert more items than the no. of items want to be replaced)\n",
    "my_list = [1,2,3,4,5,6]\n",
    "my_list[1:4] =[\"two\",\"three\",\"four\",\"five\",\"six\"] #add 5 items instead of 3.\n",
    "print(my_list)"
   ]
  },
  {
   "cell_type": "markdown",
   "id": "cf599a5d",
   "metadata": {},
   "source": [
    "### Insert Items"
   ]
  },
  {
   "cell_type": "code",
   "execution_count": null,
   "id": "bbcd9cc2",
   "metadata": {},
   "outputs": [],
   "source": [
    "insert()  :Function to insert a new item to the list without replacing any existing values. The insert() method can\n",
    "           insert an item at the specified index"
   ]
  },
  {
   "cell_type": "code",
   "execution_count": 9,
   "id": "541f058c",
   "metadata": {},
   "outputs": [
    {
     "name": "stdout",
     "output_type": "stream",
     "text": [
      "[10, 20, 30, 40, 50, 60]\n"
     ]
    }
   ],
   "source": [
    "# insert a new item to the list.\n",
    "my_list = [10,20,40,50,60]\n",
    "my_list.insert(2,30) #insert item 30 at index 2\n",
    "print(my_list)"
   ]
  },
  {
   "cell_type": "markdown",
   "id": "35508146",
   "metadata": {},
   "source": [
    "### Append Items\n",
    "append() : method to add an item to the end of the list."
   ]
  },
  {
   "cell_type": "code",
   "execution_count": null,
   "id": "da76b46a",
   "metadata": {},
   "outputs": [],
   "source": []
  },
  {
   "cell_type": "code",
   "execution_count": 10,
   "id": "870561ab",
   "metadata": {},
   "outputs": [
    {
     "name": "stdout",
     "output_type": "stream",
     "text": [
      "[10, 20, 40, 50, 60, 70]\n"
     ]
    }
   ],
   "source": [
    "# append an item to the list.\n",
    "my_list = [10,20,40,50,60]\n",
    "my_list.append(70) # add item 70 at the end of the list\n",
    "print(my_list)"
   ]
  },
  {
   "cell_type": "markdown",
   "id": "edc3cb78",
   "metadata": {},
   "source": [
    "### Extend List"
   ]
  },
  {
   "cell_type": "markdown",
   "id": "5dcc9633",
   "metadata": {},
   "source": [
    "extend() :\n",
    "    1.Method to append elements from another list to the current list.The elements will be added \n",
    "      to the end of the list.\n",
    "    2. The extend() method can append a list,tuple, set or dictinaries at the end of the current list. "
   ]
  },
  {
   "cell_type": "code",
   "execution_count": 11,
   "id": "26088acc",
   "metadata": {},
   "outputs": [
    {
     "name": "stdout",
     "output_type": "stream",
     "text": [
      "[1, 2, 3, 4, 5, 6, 7, 8]\n"
     ]
    }
   ],
   "source": [
    "# extend a list\n",
    "my_list1 = [1,2,3,4]\n",
    "my_list2 = [5,6,7,8]\n",
    "my_list1.extend(my_list2)\n",
    "print(my_list1)"
   ]
  },
  {
   "cell_type": "code",
   "execution_count": 15,
   "id": "97abb9c6",
   "metadata": {},
   "outputs": [
    {
     "name": "stdout",
     "output_type": "stream",
     "text": [
      "[1, 2, 3, 4, 8, 5, 6, 7]\n"
     ]
    }
   ],
   "source": [
    "#The extend() method can append a list,tuple, set or dictinaries at the end of the current list. \n",
    "my_list1 = [1,2,3,4]\n",
    "my_list2 = (5,6,7,8) #tuple\n",
    "my_list3 = {5,6,7,8} #set\n",
    "#my_list1.extend(my_list2) # appending a tuple at the end of a list\n",
    "my_list1.extend(my_list3) # appending a set at the end of a list (order may varry since set is unordered)\n",
    "print(my_list1)"
   ]
  },
  {
   "cell_type": "markdown",
   "id": "d2b63621",
   "metadata": {},
   "source": [
    "### Remove List Items\n",
    "remove() : Method to remove an item from a list.\n",
    "pop()    : Method to remove an iten at specified index. If you do not specify the index,\n",
    "           the pop() method removes the last item.\n",
    "del      : Keyword to remove an item at specified index"
   ]
  },
  {
   "cell_type": "code",
   "execution_count": 18,
   "id": "0e5b141e",
   "metadata": {},
   "outputs": [
    {
     "name": "stdout",
     "output_type": "stream",
     "text": [
      "[1, 2, 4]\n"
     ]
    }
   ],
   "source": [
    "#remove an item from the list\n",
    "my_list = [1,2,3,4]\n",
    "my_list.remove(3) #item 3 will be removed\n",
    "print(my_list)\n"
   ]
  },
  {
   "cell_type": "code",
   "execution_count": 20,
   "id": "bdad5ca0",
   "metadata": {},
   "outputs": [
    {
     "name": "stdout",
     "output_type": "stream",
     "text": [
      "[1, 2, 4]\n"
     ]
    }
   ],
   "source": [
    "#remove an item at specified index from the list\n",
    "my_list = [1,2,3,4]\n",
    "my_list.pop(2) #item at index 2 will be removed\n",
    "print(my_list)"
   ]
  },
  {
   "cell_type": "code",
   "execution_count": 21,
   "id": "ee6fb57a",
   "metadata": {},
   "outputs": [
    {
     "name": "stdout",
     "output_type": "stream",
     "text": [
      "[1, 2, 3]\n"
     ]
    }
   ],
   "source": [
    "#remove an last item from the list\n",
    "my_list = [1,2,3,4]\n",
    "my_list.pop() # pop method with out any argument remove the last element of the list, here 4 will be removed.\n",
    "print(my_list)"
   ]
  },
  {
   "cell_type": "code",
   "execution_count": 22,
   "id": "6f577648",
   "metadata": {},
   "outputs": [
    {
     "name": "stdout",
     "output_type": "stream",
     "text": [
      "[1, 2, 4]\n"
     ]
    }
   ],
   "source": [
    "#remove an item at specified index from the list\n",
    "my_list = [1,2,3,4]\n",
    "del my_list[2] #item at index 2 will be removed\n",
    "print(my_list)"
   ]
  },
  {
   "cell_type": "markdown",
   "id": "c0648897",
   "metadata": {},
   "source": [
    "### Clear the List"
   ]
  },
  {
   "cell_type": "code",
   "execution_count": null,
   "id": "6b0844af",
   "metadata": {},
   "outputs": [],
   "source": [
    "clear() :Method to empties the list.\n",
    "The list still remains, but it has no content."
   ]
  },
  {
   "cell_type": "code",
   "execution_count": 23,
   "id": "d5a99aa2",
   "metadata": {},
   "outputs": [
    {
     "name": "stdout",
     "output_type": "stream",
     "text": [
      "[]\n"
     ]
    }
   ],
   "source": [
    "#To empty the list\n",
    "my_list = [1,2,3,4]\n",
    "my_list.clear()\n",
    "print(my_list) #empty the list.\n"
   ]
  },
  {
   "cell_type": "markdown",
   "id": "004fccde",
   "metadata": {},
   "source": [
    "### Loop Through a List\n",
    "We can use for loop to iterate through list elements."
   ]
  },
  {
   "cell_type": "code",
   "execution_count": 8,
   "id": "88ef0aa3",
   "metadata": {},
   "outputs": [
    {
     "name": "stdout",
     "output_type": "stream",
     "text": [
      "Hai\n",
      "welcome\n",
      "to\n",
      "python\n",
      "list\n"
     ]
    }
   ],
   "source": [
    "#for loop to iterate through items in a list \n",
    "my_list = [\"Hai\",\"welcome\",\"to\",\"python\",\"list\"]\n",
    "for i in my_list:\n",
    "    print(i) "
   ]
  },
  {
   "cell_type": "markdown",
   "id": "e9167404",
   "metadata": {},
   "source": [
    "### Loop Through the Index Numbers\n",
    "We can use range() and len() methods to iterate through index numbers of a list."
   ]
  },
  {
   "cell_type": "code",
   "execution_count": 14,
   "id": "d87355a3",
   "metadata": {},
   "outputs": [
    {
     "name": "stdout",
     "output_type": "stream",
     "text": [
      "0\n",
      "1\n",
      "2\n",
      "3\n",
      "4\n"
     ]
    }
   ],
   "source": [
    "#for loop to iterate through index numbers of a list\n",
    "my_list = [\"Hai\",\"welcome\",\"to\",\"python\",\"list\"]\n",
    "#l = len(my_list)\n",
    "#print(l) #retun no.of items in the list(here,5)\n",
    "for i in range(len(my_list)):\n",
    "    print(i) "
   ]
  },
  {
   "cell_type": "code",
   "execution_count": 23,
   "id": "3815e9aa",
   "metadata": {},
   "outputs": [
    {
     "name": "stdout",
     "output_type": "stream",
     "text": [
      "0\n",
      "1\n",
      "2\n",
      "3\n",
      "4\n"
     ]
    }
   ],
   "source": [
    "#range function\n",
    "for i in range(5):\n",
    "    print(i)"
   ]
  },
  {
   "cell_type": "markdown",
   "id": "d484bd66",
   "metadata": {},
   "source": [
    "### Using a While Loop\n",
    "We can iterate list using for loop"
   ]
  },
  {
   "cell_type": "code",
   "execution_count": 27,
   "id": "bb3b9e20",
   "metadata": {},
   "outputs": [
    {
     "name": "stdout",
     "output_type": "stream",
     "text": [
      "Hai\n",
      "welcome\n",
      "to\n",
      "python\n",
      "list\n"
     ]
    }
   ],
   "source": [
    "#while loop to iterate through items in a list \n",
    "my_list = [\"Hai\",\"welcome\",\"to\",\"python\",\"list\"]\n",
    "i=0\n",
    "while i<len(my_list):\n",
    "    print(my_list[i])\n",
    "    i = i+1"
   ]
  },
  {
   "cell_type": "code",
   "execution_count": 28,
   "id": "36732d7b",
   "metadata": {},
   "outputs": [
    {
     "name": "stdout",
     "output_type": "stream",
     "text": [
      "0\n",
      "1\n",
      "2\n",
      "3\n",
      "4\n"
     ]
    }
   ],
   "source": [
    "#while loop to iterate through all the index numbers in a list \n",
    "my_list = [\"Hai\",\"welcome\",\"to\",\"python\",\"list\"]\n",
    "i=0\n",
    "while i<len(my_list):\n",
    "    print(i)\n",
    "    i = i+1"
   ]
  },
  {
   "cell_type": "markdown",
   "id": "fdab588b",
   "metadata": {},
   "source": [
    "### Looping Using List Comprehension\n",
    "List comprehension offers a shorter syntax when you want to create a new list based on the values of an existing list."
   ]
  },
  {
   "cell_type": "code",
   "execution_count": 29,
   "id": "1f7bdbae",
   "metadata": {},
   "outputs": [
    {
     "name": "stdout",
     "output_type": "stream",
     "text": [
      "Hai\n",
      "welcome\n",
      "to\n",
      "python\n",
      "list\n"
     ]
    },
    {
     "data": {
      "text/plain": [
       "[None, None, None, None, None]"
      ]
     },
     "execution_count": 29,
     "metadata": {},
     "output_type": "execute_result"
    }
   ],
   "source": [
    "#Short hand of for loop :\n",
    "my_list = [\"Hai\",\"welcome\",\"to\",\"python\",\"list\"]\n",
    "[print(i) for i in my_list]"
   ]
  },
  {
   "cell_type": "code",
   "execution_count": 32,
   "id": "374f57ab",
   "metadata": {},
   "outputs": [
    {
     "name": "stdout",
     "output_type": "stream",
     "text": [
      "welcome\n",
      "to\n",
      "python\n"
     ]
    },
    {
     "data": {
      "text/plain": [
       "[None, None, None]"
      ]
     },
     "execution_count": 32,
     "metadata": {},
     "output_type": "execute_result"
    }
   ],
   "source": [
    "#Short hand of for loop :\n",
    "my_list = [\"Hai\",\"welcome\",\"to\",\"python\",\"list\"]\n",
    "[print(i) for i in my_list if 'o' in i] # print all the items in list that has 'o' in it."
   ]
  },
  {
   "cell_type": "markdown",
   "id": "8280986d",
   "metadata": {},
   "source": [
    "### Sort Lists"
   ]
  },
  {
   "cell_type": "markdown",
   "id": "d42ae193",
   "metadata": {},
   "source": [
    "sort() :1.  Method to sort the list elements alphanumerically, ascending by default.\n",
    "\n",
    "        2. By default the sort() method is case sensitive, resulting in all capital \n",
    "           letters being sorted before lower case letters"
   ]
  },
  {
   "cell_type": "code",
   "execution_count": 35,
   "id": "b2f2ddd6",
   "metadata": {},
   "outputs": [
    {
     "name": "stdout",
     "output_type": "stream",
     "text": [
      "[2, 9, 12, 15, 23, 44]\n"
     ]
    }
   ],
   "source": [
    "#sort list elements\n",
    "my_list = [12,2,44,23,9,15]\n",
    "my_list.sort()\n",
    "print(my_list)"
   ]
  },
  {
   "cell_type": "code",
   "execution_count": 39,
   "id": "6242c46a",
   "metadata": {},
   "outputs": [
    {
     "name": "stdout",
     "output_type": "stream",
     "text": [
      "['TO', 'TUTORIAL', 'Welcome', 'pyhton']\n"
     ]
    }
   ],
   "source": [
    "#sort list elements\n",
    "my_list = [\"Welcome\",\"TO\",\"pyhton\",\"TUTORIAL\"] #uppercase sorted first since sort() method is case sensitive\n",
    "my_list.sort()\n",
    "print(my_list)"
   ]
  },
  {
   "cell_type": "markdown",
   "id": "fd5162f0",
   "metadata": {},
   "source": [
    "### Case Insensitive Sort\n",
    "If you want to sort list elemets irrespective of case(upper case or lower case) , use the keyword argument ' key = str.lower '."
   ]
  },
  {
   "cell_type": "code",
   "execution_count": 40,
   "id": "acf5a92c",
   "metadata": {},
   "outputs": [
    {
     "name": "stdout",
     "output_type": "stream",
     "text": [
      "['pyhton', 'TO', 'TUTORIAL', 'Welcome']\n"
     ]
    }
   ],
   "source": [
    "#sort list elements\n",
    "my_list = [\"Welcome\",\"TO\",\"pyhton\",\"TUTORIAL\"] #uppercase sorted first since sort() method is case sensitive\n",
    "my_list.sort(key = str.lower) #case insensitive sorting\n",
    "print(my_list)"
   ]
  },
  {
   "cell_type": "markdown",
   "id": "8460e382",
   "metadata": {},
   "source": [
    "### Sort Descending\n",
    "To sort descending, use the keyword argument : reverse = True"
   ]
  },
  {
   "cell_type": "code",
   "execution_count": 38,
   "id": "a6ff07f8",
   "metadata": {},
   "outputs": [
    {
     "name": "stdout",
     "output_type": "stream",
     "text": [
      "[44, 23, 15, 12, 9, 2]\n"
     ]
    }
   ],
   "source": [
    "#sort list elements descending\n",
    "my_list = [12,2,44,23,9,15]\n",
    "my_list.sort(reverse = True)\n",
    "print(my_list)"
   ]
  },
  {
   "cell_type": "markdown",
   "id": "4a61c25e",
   "metadata": {},
   "source": [
    "### Reverse Order\n",
    "reverse() : Method to print reverse order of a list."
   ]
  },
  {
   "cell_type": "code",
   "execution_count": 41,
   "id": "00c6a805",
   "metadata": {},
   "outputs": [
    {
     "name": "stdout",
     "output_type": "stream",
     "text": [
      "['TUTORIAL', 'pyhton', 'TO', 'Welcome']\n"
     ]
    }
   ],
   "source": [
    "#Print list items in reverse order\n",
    "my_list = [\"Welcome\",\"TO\",\"pyhton\",\"TUTORIAL\"] \n",
    "my_list.reverse()\n",
    "print(my_list)"
   ]
  },
  {
   "cell_type": "markdown",
   "id": "16f5decd",
   "metadata": {},
   "source": [
    "### Copy Lists"
   ]
  },
  {
   "cell_type": "code",
   "execution_count": null,
   "id": "74502947",
   "metadata": {},
   "outputs": [],
   "source": [
    "There are two methods to make a copy of a list:\n",
    "    1. copy() : built-in List mehtod to make a copy of a list.\n",
    "    2. list() : built-in constructor to make a copy of a list."
   ]
  },
  {
   "cell_type": "code",
   "execution_count": 44,
   "id": "a3f27720",
   "metadata": {},
   "outputs": [
    {
     "name": "stdout",
     "output_type": "stream",
     "text": [
      "['Welcome', 'TO', 'pyhton', 'TUTORIAL']\n"
     ]
    }
   ],
   "source": [
    "#make a copy of a list using copy()\n",
    "my_list = [\"Welcome\",\"TO\",\"pyhton\",\"TUTORIAL\"] \n",
    "my_list_copy = my_list.copy()\n",
    "print(my_list_copy)"
   ]
  },
  {
   "cell_type": "code",
   "execution_count": 46,
   "id": "3e458684",
   "metadata": {},
   "outputs": [
    {
     "name": "stdout",
     "output_type": "stream",
     "text": [
      "['Welcome', 'TO', 'pyhton', 'TUTORIAL']\n"
     ]
    }
   ],
   "source": [
    "#make a copy of a list using list()\n",
    "my_list = [\"Welcome\",\"TO\",\"pyhton\",\"TUTORIAL\"] \n",
    "my_list_copy =list(my_list)\n",
    "print(my_list_copy)"
   ]
  },
  {
   "cell_type": "markdown",
   "id": "42553657",
   "metadata": {},
   "source": [
    "### Join Lists"
   ]
  },
  {
   "cell_type": "code",
   "execution_count": null,
   "id": "c1e40e5e",
   "metadata": {},
   "outputs": [],
   "source": [
    "There are several methods to join two lists:\n",
    "    1. Using '+' operator\n",
    "    2. Using append() method\n",
    "    3. Using extend() method"
   ]
  },
  {
   "cell_type": "markdown",
   "id": "dc2fb9ea",
   "metadata": {},
   "source": [
    "### join list using '+' operator"
   ]
  },
  {
   "cell_type": "code",
   "execution_count": 48,
   "id": "136d42a6",
   "metadata": {},
   "outputs": [
    {
     "name": "stdout",
     "output_type": "stream",
     "text": [
      "[1, 2, 3, 4, 5, 6, 7, 8]\n"
     ]
    }
   ],
   "source": [
    "#join two listsusing '+' operator\n",
    "list1 = [1,2,3,4]\n",
    "list2 = [5,6,7,8]\n",
    "list3 = list1 + list2 #concatenation\n",
    "print(list3)"
   ]
  },
  {
   "cell_type": "markdown",
   "id": "bd8d4861",
   "metadata": {},
   "source": [
    "### join list using append() method"
   ]
  },
  {
   "cell_type": "code",
   "execution_count": 51,
   "id": "3d09f2fe",
   "metadata": {},
   "outputs": [
    {
     "name": "stdout",
     "output_type": "stream",
     "text": [
      "[1, 2, 3, 4, 5, 6, 7, 8]\n"
     ]
    }
   ],
   "source": [
    "### join list using append()\n",
    "list1 = [1,2,3,4]\n",
    "list2 = [5,6,7,8]\n",
    "for i in list2:\n",
    "    list1.append(i)\n",
    "print(list1)"
   ]
  },
  {
   "cell_type": "markdown",
   "id": "f078f19b",
   "metadata": {},
   "source": [
    "### join list using extend() method"
   ]
  },
  {
   "cell_type": "code",
   "execution_count": 53,
   "id": "9b608eea",
   "metadata": {},
   "outputs": [
    {
     "name": "stdout",
     "output_type": "stream",
     "text": [
      "[1, 2, 3, 4, 5, 6, 7, 8]\n"
     ]
    }
   ],
   "source": [
    "### join list using extend()\n",
    "list1 = [1,2,3,4]\n",
    "list2 = [5,6,7,8]\n",
    "list1.extend(list2)\n",
    "print(list1)"
   ]
  },
  {
   "cell_type": "markdown",
   "id": "eae3551e",
   "metadata": {},
   "source": [
    "## End"
   ]
  }
 ],
 "metadata": {
  "kernelspec": {
   "display_name": "Python 3 (ipykernel)",
   "language": "python",
   "name": "python3"
  },
  "language_info": {
   "codemirror_mode": {
    "name": "ipython",
    "version": 3
   },
   "file_extension": ".py",
   "mimetype": "text/x-python",
   "name": "python",
   "nbconvert_exporter": "python",
   "pygments_lexer": "ipython3",
   "version": "3.10.13"
  }
 },
 "nbformat": 4,
 "nbformat_minor": 5
}
