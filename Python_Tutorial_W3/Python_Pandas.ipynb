{
 "cells": [
  {
   "cell_type": "markdown",
   "id": "f03e1be2",
   "metadata": {},
   "source": [
    "# Pandas"
   ]
  },
  {
   "cell_type": "code",
   "execution_count": null,
   "id": "6133ade4",
   "metadata": {},
   "outputs": [],
   "source": [
    "1. Pandas is a Python library used for working with data sets.\n",
    "2. It has functions for analyzing, cleaning, exploring, and manipulating data.\n",
    "3. Pandas can clean messy data sets, and make them readable and relevant.\n",
    "4. Pandas are also able to delete rows that are not relevant, or contains wrong values, like empty or NULL values.\n",
    "   This is called cleaning the data."
   ]
  },
  {
   "cell_type": "markdown",
   "id": "3e4e0418",
   "metadata": {},
   "source": [
    "### Installation of Pandas"
   ]
  },
  {
   "cell_type": "code",
   "execution_count": 1,
   "id": "bd8782cf",
   "metadata": {},
   "outputs": [
    {
     "name": "stdout",
     "output_type": "stream",
     "text": [
      "Requirement already satisfied: pandas in c:\\users\\rajee\\anaconda3\\lib\\site-packages (1.5.3)\n",
      "Requirement already satisfied: pytz>=2020.1 in c:\\users\\rajee\\anaconda3\\lib\\site-packages (from pandas) (2022.7)\n",
      "Requirement already satisfied: numpy>=1.21.0 in c:\\users\\rajee\\anaconda3\\lib\\site-packages (from pandas) (1.23.5)\n",
      "Requirement already satisfied: python-dateutil>=2.8.1 in c:\\users\\rajee\\anaconda3\\lib\\site-packages (from pandas) (2.8.2)\n",
      "Requirement already satisfied: six>=1.5 in c:\\users\\rajee\\anaconda3\\lib\\site-packages (from python-dateutil>=2.8.1->pandas) (1.16.0)\n",
      "Note: you may need to restart the kernel to use updated packages.\n"
     ]
    }
   ],
   "source": [
    "pip install pandas"
   ]
  },
  {
   "cell_type": "markdown",
   "id": "cc39d4f3",
   "metadata": {},
   "source": [
    "### Import Pandas"
   ]
  },
  {
   "cell_type": "code",
   "execution_count": null,
   "id": "c280bce6",
   "metadata": {},
   "outputs": [],
   "source": [
    "import : keyword used to import pandas library\n",
    "pd     : Usually used as Alias name for pandas while importing. \n",
    "\n",
    "    Syntax : import pandas as pd\n",
    "        \n",
    "Now the Pandas package can be referred to as pd instead of pandas"
   ]
  },
  {
   "cell_type": "code",
   "execution_count": 2,
   "id": "76ae40a5",
   "metadata": {},
   "outputs": [],
   "source": [
    "import pandas as pd #importing pandas \n",
    "import numpy as np  #importind numpy"
   ]
  },
  {
   "cell_type": "markdown",
   "id": "a508b90f",
   "metadata": {},
   "source": [
    "### Pandas Series"
   ]
  },
  {
   "cell_type": "code",
   "execution_count": null,
   "id": "acb68949",
   "metadata": {},
   "outputs": [],
   "source": [
    "1. A Pandas Series is like a column in a table.\n",
    "\n",
    "2. It is a one-dimensional array holding data of any type.\n",
    "\n",
    "We can create a pandas series using different inputs like:\n",
    "    \n",
    "    1.  list and Nested list.\n",
    "    2.  Empty series\n",
    "    3.  ndarray\n",
    "    4.  ndarray with custom index\n",
    "    5.  dictionary\n",
    "    6.  Scalar value\n",
    "    7.  ndarray method arange()\n",
    "    8.  range function\n",
    "    9.  random method \n",
    "    \n",
    "There are several more ways to create a pandas series."
   ]
  },
  {
   "cell_type": "markdown",
   "id": "a0607972",
   "metadata": {},
   "source": [
    "###### Create a Series from a list"
   ]
  },
  {
   "cell_type": "code",
   "execution_count": 3,
   "id": "e1cab30f",
   "metadata": {},
   "outputs": [
    {
     "name": "stdout",
     "output_type": "stream",
     "text": [
      "0    1\n",
      "1    2\n",
      "2    3\n",
      "3    4\n",
      "4    5\n",
      "dtype: int64\n"
     ]
    }
   ],
   "source": [
    "#Create a Series from a list\n",
    "\n",
    "l = [1,2,3,4,5]\n",
    "\n",
    "myseries = pd.Series(l)\n",
    "\n",
    "print(myseries)"
   ]
  },
  {
   "cell_type": "markdown",
   "id": "6adbcd07",
   "metadata": {},
   "source": [
    "###### Create an empty series"
   ]
  },
  {
   "cell_type": "code",
   "execution_count": 4,
   "id": "76d81b45",
   "metadata": {},
   "outputs": [
    {
     "name": "stdout",
     "output_type": "stream",
     "text": [
      "Series([], dtype: float64)\n"
     ]
    },
    {
     "name": "stderr",
     "output_type": "stream",
     "text": [
      "C:\\Users\\rajee\\AppData\\Local\\Temp\\ipykernel_28392\\1801970861.py:3: FutureWarning: The default dtype for empty Series will be 'object' instead of 'float64' in a future version. Specify a dtype explicitly to silence this warning.\n",
      "  s = pd.Series()\n"
     ]
    }
   ],
   "source": [
    "#Creating an empty Series\n",
    "\n",
    "s = pd.Series()\n",
    "\n",
    "print(s)"
   ]
  },
  {
   "cell_type": "markdown",
   "id": "d2effc47",
   "metadata": {},
   "source": [
    "###### Create a series using an array"
   ]
  },
  {
   "cell_type": "code",
   "execution_count": 3,
   "id": "1cd143fd",
   "metadata": {},
   "outputs": [
    {
     "name": "stdout",
     "output_type": "stream",
     "text": [
      "0    1\n",
      "1    2\n",
      "2    3\n",
      "3    4\n",
      "4    5\n",
      "dtype: int32\n"
     ]
    }
   ],
   "source": [
    "#Creating a series using an array\n",
    "\n",
    "arr = np.array([1,2,3,4,5])\n",
    "s = pd.Series(arr)\n",
    "print(s)"
   ]
  },
  {
   "cell_type": "markdown",
   "id": "034ae48c",
   "metadata": {},
   "source": [
    "###### Create a Series using an array with custom index"
   ]
  },
  {
   "cell_type": "code",
   "execution_count": 4,
   "id": "254306e2",
   "metadata": {},
   "outputs": [
    {
     "name": "stdout",
     "output_type": "stream",
     "text": [
      "a    10\n",
      "b    20\n",
      "c    30\n",
      "d    40\n",
      "e    50\n",
      "dtype: int32\n"
     ]
    }
   ],
   "source": [
    "#Creating Series using an array with custom index\n",
    "\n",
    "arr = np.array([10,20,30,40,50])\n",
    "s = pd.Series(arr,index=['a','b','c','d','e'])\n",
    "print(s)"
   ]
  },
  {
   "cell_type": "markdown",
   "id": "1f5b48c3",
   "metadata": {},
   "source": [
    "###### Create a series from a Nested list"
   ]
  },
  {
   "cell_type": "code",
   "execution_count": 5,
   "id": "e88a819a",
   "metadata": {},
   "outputs": [
    {
     "name": "stdout",
     "output_type": "stream",
     "text": [
      "0            1\n",
      "1    [2, 3, 4]\n",
      "2            5\n",
      "3            6\n",
      "dtype: object\n"
     ]
    }
   ],
   "source": [
    "#create a simple pandas series from a Nested list\n",
    "l = [1,[2,3,4],5,6]\n",
    "\n",
    "s = pd.Series(l)\n",
    "\n",
    "print(s)"
   ]
  },
  {
   "cell_type": "markdown",
   "id": "cacf217d",
   "metadata": {},
   "source": [
    "### Accessing items from Pandas Series\n",
    "\n",
    "    We can access each item of a pandas  series by referring to its index number inside a square brackets. If there is no custom index, the values are labeled with their index number. First value has index 0, second value has index 1 etc.\n",
    "\n",
    "How to create custom index ?\n",
    "\n",
    "index  :Keyword used to define custom index for each items of a series."
   ]
  },
  {
   "cell_type": "code",
   "execution_count": 6,
   "id": "55425f2f",
   "metadata": {},
   "outputs": [
    {
     "name": "stdout",
     "output_type": "stream",
     "text": [
      "0    1\n",
      "1    2\n",
      "2    3\n",
      "3    4\n",
      "4    5\n",
      "dtype: int64\n",
      "1\n",
      "2\n"
     ]
    }
   ],
   "source": [
    "#Accessing items from pandas series\n",
    "\n",
    "l = [1,2,3,4,5]\n",
    "\n",
    "my_series = pd.Series(l)\n",
    "\n",
    "print(my_series)\n",
    "print(my_series[0]) #Accessing 1st item\n",
    "print(my_series[1]) #Accessing 2nd item"
   ]
  },
  {
   "cell_type": "code",
   "execution_count": 10,
   "id": "2e6d6703",
   "metadata": {},
   "outputs": [
    {
     "name": "stdout",
     "output_type": "stream",
     "text": [
      "a    10\n",
      "b    20\n",
      "c    30\n",
      "d    40\n",
      "dtype: int64\n",
      "First Item :  10\n",
      "Last Item:   40\n"
     ]
    }
   ],
   "source": [
    "#Accessing each item in a series that has custom index\n",
    "\n",
    "s =pd.Series([10,20,30,40], index = ['a','b','c','d']) #series with custom index\n",
    "\n",
    "print (s)\n",
    "print(\"First Item : \",s['a']) # acessing first item using custom index label 'a'\n",
    "print(\"Last Item:  \",s['d']) # accessing last item using custom index label 'd'\n"
   ]
  },
  {
   "cell_type": "markdown",
   "id": "c15387ca",
   "metadata": {},
   "source": [
    "###### Create a Series from a dictionary"
   ]
  },
  {
   "cell_type": "code",
   "execution_count": 12,
   "id": "14181c0c",
   "metadata": {},
   "outputs": [
    {
     "name": "stdout",
     "output_type": "stream",
     "text": [
      "Name     Neenu\n",
      "Age         30\n",
      "Place      USA\n",
      "dtype: object\n"
     ]
    }
   ],
   "source": [
    "#Create a Pandas Series from a dictionary\n",
    "#The keys of the dictionary become the labels(index).\n",
    "\n",
    "my_dict = {\"Name\":\"Neenu\",\"Age\":30,\"Place\":\"USA\"}\n",
    "s = pd.Series(my_dict)\n",
    "print(s)\n"
   ]
  },
  {
   "cell_type": "code",
   "execution_count": 13,
   "id": "4f5ef591",
   "metadata": {},
   "outputs": [
    {
     "name": "stdout",
     "output_type": "stream",
     "text": [
      "Name    Neenu\n",
      "Age        30\n",
      "dtype: object\n"
     ]
    }
   ],
   "source": [
    "#Create a Pandas Series using a specified indexes (keys) from dictionary.\n",
    "\n",
    "my_dict = {\"Name\":\"Neenu\",\"Age\":30,\"Place\":\"USA\"}\n",
    "s = pd.Series(my_dict,index=[\"Name\",\"Age\"])\n",
    "print(s)\n"
   ]
  },
  {
   "cell_type": "markdown",
   "id": "ea309800",
   "metadata": {},
   "source": [
    "###### Create a series from a scalar value"
   ]
  },
  {
   "cell_type": "code",
   "execution_count": 15,
   "id": "8bd95243",
   "metadata": {},
   "outputs": [
    {
     "name": "stdout",
     "output_type": "stream",
     "text": [
      "0    20\n",
      "1    20\n",
      "2    20\n",
      "3    20\n",
      "4    20\n",
      "5    20\n",
      "dtype: int64\n"
     ]
    }
   ],
   "source": [
    "# Creating a series from a scalar value\n",
    "\n",
    "s = pd.Series(20,index=[0,1,2,3,4,5]) #Create a series using scalar value 20\n",
    "print(s)"
   ]
  },
  {
   "cell_type": "markdown",
   "id": "d16b2c9e",
   "metadata": {},
   "source": [
    "###### Create a series using arange() method"
   ]
  },
  {
   "cell_type": "code",
   "execution_count": 19,
   "id": "40db7b8d",
   "metadata": {},
   "outputs": [
    {
     "name": "stdout",
     "output_type": "stream",
     "text": [
      "0    1\n",
      "1    3\n",
      "2    5\n",
      "3    7\n",
      "4    9\n",
      "dtype: int32\n"
     ]
    }
   ],
   "source": [
    "#Creating using built-in method arange()\n",
    "\n",
    "s = pd.Series(np.arange(1,10,2))\n",
    "print(s)"
   ]
  },
  {
   "cell_type": "code",
   "execution_count": 20,
   "id": "988f6b14",
   "metadata": {},
   "outputs": [
    {
     "name": "stdout",
     "output_type": "stream",
     "text": [
      "a    1\n",
      "b    3\n",
      "c    5\n",
      "d    7\n",
      "e    9\n",
      "dtype: int32\n"
     ]
    }
   ],
   "source": [
    "#Create custom index for above series using argument index\n",
    "\n",
    "s.index = ['a','b','c','d','e']\n",
    "print(s)"
   ]
  },
  {
   "cell_type": "code",
   "execution_count": 26,
   "id": "96f470d6",
   "metadata": {},
   "outputs": [
    {
     "data": {
      "text/html": [
       "<div>\n",
       "<style scoped>\n",
       "    .dataframe tbody tr th:only-of-type {\n",
       "        vertical-align: middle;\n",
       "    }\n",
       "\n",
       "    .dataframe tbody tr th {\n",
       "        vertical-align: top;\n",
       "    }\n",
       "\n",
       "    .dataframe thead th {\n",
       "        text-align: right;\n",
       "    }\n",
       "</style>\n",
       "<table border=\"1\" class=\"dataframe\">\n",
       "  <thead>\n",
       "    <tr style=\"text-align: right;\">\n",
       "      <th></th>\n",
       "      <th>index</th>\n",
       "      <th>0</th>\n",
       "    </tr>\n",
       "  </thead>\n",
       "  <tbody>\n",
       "    <tr>\n",
       "      <th>0</th>\n",
       "      <td>a</td>\n",
       "      <td>1</td>\n",
       "    </tr>\n",
       "    <tr>\n",
       "      <th>1</th>\n",
       "      <td>b</td>\n",
       "      <td>3</td>\n",
       "    </tr>\n",
       "    <tr>\n",
       "      <th>2</th>\n",
       "      <td>c</td>\n",
       "      <td>5</td>\n",
       "    </tr>\n",
       "    <tr>\n",
       "      <th>3</th>\n",
       "      <td>d</td>\n",
       "      <td>7</td>\n",
       "    </tr>\n",
       "    <tr>\n",
       "      <th>4</th>\n",
       "      <td>e</td>\n",
       "      <td>9</td>\n",
       "    </tr>\n",
       "  </tbody>\n",
       "</table>\n",
       "</div>"
      ],
      "text/plain": [
       "  index  0\n",
       "0     a  1\n",
       "1     b  3\n",
       "2     c  5\n",
       "3     d  7\n",
       "4     e  9"
      ]
     },
     "execution_count": 26,
     "metadata": {},
     "output_type": "execute_result"
    }
   ],
   "source": [
    "#To reset custom index for above series\n",
    "\n",
    "s.reset_index() #method to change custom index\n"
   ]
  },
  {
   "cell_type": "code",
   "execution_count": 28,
   "id": "e1e7d27c",
   "metadata": {},
   "outputs": [
    {
     "data": {
      "text/plain": [
       "0    1\n",
       "1    3\n",
       "2    5\n",
       "3    7\n",
       "4    9\n",
       "dtype: int32"
      ]
     },
     "execution_count": 28,
     "metadata": {},
     "output_type": "execute_result"
    }
   ],
   "source": [
    "s.reset_index(drop=True) #drop the custom index created using argument index"
   ]
  },
  {
   "cell_type": "markdown",
   "id": "2733b1a4",
   "metadata": {},
   "source": [
    "###### Create a Series using range function"
   ]
  },
  {
   "cell_type": "code",
   "execution_count": 30,
   "id": "68a96727",
   "metadata": {},
   "outputs": [
    {
     "name": "stdout",
     "output_type": "stream",
     "text": [
      "0    0\n",
      "1    1\n",
      "2    2\n",
      "3    3\n",
      "4    4\n",
      "5    5\n",
      "6    6\n",
      "7    7\n",
      "8    8\n",
      "9    9\n",
      "dtype: int64\n"
     ]
    }
   ],
   "source": [
    "#Creating a Series using range function\n",
    "\n",
    "s = pd.Series(range(10))\n",
    "print(s)"
   ]
  },
  {
   "cell_type": "markdown",
   "id": "9acd83e6",
   "metadata": {},
   "source": [
    "##### Create a series using random method"
   ]
  },
  {
   "cell_type": "code",
   "execution_count": 4,
   "id": "e626a2fb",
   "metadata": {},
   "outputs": [
    {
     "name": "stdout",
     "output_type": "stream",
     "text": [
      "0   -1.509536\n",
      "1   -0.315707\n",
      "2    1.866252\n",
      "3   -0.953432\n",
      "4   -1.480670\n",
      "5   -0.918300\n",
      "6    0.410857\n",
      "dtype: float64\n"
     ]
    }
   ],
   "source": [
    "#Create a series with random method\n",
    "\n",
    "import pandas as pd\n",
    "import numpy as np\n",
    "s = pd.Series(np.random.randn(7))\n",
    "print (s)"
   ]
  },
  {
   "cell_type": "markdown",
   "id": "44022749",
   "metadata": {},
   "source": [
    "### Pandas DataFrames"
   ]
  },
  {
   "cell_type": "code",
   "execution_count": null,
   "id": "75f576b8",
   "metadata": {},
   "outputs": [],
   "source": [
    "A Pandas DataFrame is a 2 dimensional data structure, like a 2 dimensional array, or a table with rows and columns.\n",
    "\n",
    "Features of DataFrame:\n",
    "    \n",
    "1. Columns are of different types\n",
    "2. Size – Mutable\n",
    "3. Labeled axes (rows and columns)\n",
    "4. Can Perform Arithmetic operations on rows and columns\n",
    "\n",
    "A pandas DataFrame can be created using various inputs like :\n",
    "\n",
    "1. Lists\n",
    "2. dictionary\n",
    "3. Series\n",
    "4. Numpy ndarrays\n",
    "5. Another DataFrame etc."
   ]
  },
  {
   "cell_type": "markdown",
   "id": "5ee7190b",
   "metadata": {},
   "source": [
    "##### Create a DataFrame from DataFrame() constructor"
   ]
  },
  {
   "cell_type": "code",
   "execution_count": null,
   "id": "cef75c84",
   "metadata": {},
   "outputs": [],
   "source": [
    "A pandas DataFrame can be created using the DataFrame() constructor :\n",
    "\n",
    "syntax:    \n",
    "pandas.DataFrame( data, index, columns, dtype, copy)\n",
    "\n",
    "The parameters of the constructor are :−\n",
    "    \n",
    "1. data     --  data takes various forms like ndarray, series, map, lists, dict, constants and also another DataFrame.\n",
    "2. index    --  For the row labels, the Index to be used for the resulting frame is Optional.\n",
    "                Default np.arange(n) if no index is passed.\n",
    "3. columns  --  For column labels, the optional default syntax is - np.arange(n). This is only true if no index is passed.\n",
    "4. dtype    --  Data type of each column.\n",
    "5. copy     --  The copy() method returns a copy of the DataFrame. By default, the copy is a \"deep copy\" meaning that \n",
    "                any changes made in the original DataFrame will NOT be reflected in the copy."
   ]
  },
  {
   "cell_type": "markdown",
   "id": "c90acb98",
   "metadata": {},
   "source": [
    "### Create DataFrame"
   ]
  },
  {
   "cell_type": "markdown",
   "id": "f24fb4a3",
   "metadata": {},
   "source": [
    "###### Create empty DataFrame"
   ]
  },
  {
   "cell_type": "code",
   "execution_count": 32,
   "id": "694810c7",
   "metadata": {},
   "outputs": [
    {
     "name": "stdout",
     "output_type": "stream",
     "text": [
      "Empty DataFrame\n",
      "Columns: []\n",
      "Index: []\n"
     ]
    }
   ],
   "source": [
    "# Create a empty DataFrame\n",
    "\n",
    "df = pd.DataFrame()\n",
    "print(df)"
   ]
  },
  {
   "cell_type": "markdown",
   "id": "544c9147",
   "metadata": {},
   "source": [
    "###### Create a DataFrame from Lists"
   ]
  },
  {
   "cell_type": "code",
   "execution_count": 71,
   "id": "aefc30be",
   "metadata": {},
   "outputs": [
    {
     "name": "stdout",
     "output_type": "stream",
     "text": [
      "   0\n",
      "0  1\n",
      "1  2\n",
      "2  3\n",
      "3  4\n",
      "4  5\n",
      "5  6\n"
     ]
    }
   ],
   "source": [
    "# Create a DataFrame from Lists (The DataFrame can be created using a single list or a list of lists)\n",
    "\n",
    "l = [1,2,3,4,5,6]\n",
    "df = pd.DataFrame(l)\n",
    "df1 = pd.DataFrame(data=l,columns=[\"Number\"]) #Assigning custom label for column.\n",
    "print(df)\n",
    "#print(df1)"
   ]
  },
  {
   "cell_type": "markdown",
   "id": "b5896fc1",
   "metadata": {},
   "source": [
    "###### Create a DataFrame from Nested list"
   ]
  },
  {
   "cell_type": "code",
   "execution_count": 35,
   "id": "8d078d22",
   "metadata": {},
   "outputs": [
    {
     "name": "stdout",
     "output_type": "stream",
     "text": [
      "           0\n",
      "0          1\n",
      "1          2\n",
      "2          3\n",
      "3  [4, 5, 6]\n"
     ]
    }
   ],
   "source": [
    "# Create a DataFrame from Nested list.\n",
    "\n",
    "l = [1,2,3,[4,5,6]]\n",
    "df = pd.DataFrame(l)\n",
    "print(df)"
   ]
  },
  {
   "cell_type": "markdown",
   "id": "c66a0c80",
   "metadata": {},
   "source": [
    "###### Create a DataFrame from two series"
   ]
  },
  {
   "cell_type": "code",
   "execution_count": 11,
   "id": "4e0035e9",
   "metadata": {},
   "outputs": [
    {
     "name": "stdout",
     "output_type": "stream",
     "text": [
      "    Name  Age\n",
      "0  Maria   30\n",
      "1   John   40\n",
      "2  Angel   25\n"
     ]
    }
   ],
   "source": [
    "# create a DataFrame from two series\n",
    "data = {\n",
    "  \"Name\": [\"Maria\",\"John\",\"Angel\"],\n",
    "  \"Age\": [30,40,25]\n",
    "}\n",
    "\n",
    "df = pd.DataFrame(data)\n",
    "\n",
    "print(df)"
   ]
  },
  {
   "cell_type": "markdown",
   "id": "739ebe07",
   "metadata": {},
   "source": [
    "### Access rows from the dataframe\n",
    "\n",
    "loc  : Pandas use the loc attribute to return one or more specified row(s)."
   ]
  },
  {
   "cell_type": "code",
   "execution_count": 19,
   "id": "77292ed1",
   "metadata": {},
   "outputs": [
    {
     "name": "stdout",
     "output_type": "stream",
     "text": [
      "    Name  Age\n",
      "0  Maria   30\n",
      "1   John   40\n",
      "2  Angel   25\n",
      "\n",
      " Name    Maria\n",
      "Age        30\n",
      "Name: 0, dtype: object\n",
      "<class 'pandas.core.frame.DataFrame'>\n",
      "<class 'pandas.core.series.Series'>\n"
     ]
    }
   ],
   "source": [
    "# Accessing 0th row of a given dataframe (returns a series)\n",
    "data = {\n",
    "  \"Name\": [\"Maria\",\"John\",\"Angel\"],\n",
    "  \"Age\": [30,40,25]\n",
    "}\n",
    "\n",
    "df = pd.DataFrame(data)\n",
    "\n",
    "print(df)\n",
    "s = df.loc[0] \n",
    "print(\"\\n\",s) #Accessing 0th row , This rerurns a series. \n",
    "\n",
    "print(type(df))\n",
    "print(type(s))"
   ]
  },
  {
   "cell_type": "code",
   "execution_count": 21,
   "id": "6acb86b4",
   "metadata": {},
   "outputs": [
    {
     "name": "stdout",
     "output_type": "stream",
     "text": [
      "    Name  Age\n",
      "0  Maria   30\n",
      "1   John   40\n",
      "2  Angel   25\n",
      "\n",
      "     Name  Age\n",
      "0  Maria   30\n",
      "<class 'pandas.core.frame.DataFrame'>\n",
      "<class 'pandas.core.frame.DataFrame'>\n"
     ]
    }
   ],
   "source": [
    "# Accessing 0th row of a given dataframe (returns a DataFrame)\n",
    "data = {\n",
    "  \"Name\": [\"Maria\",\"John\",\"Angel\"],\n",
    "  \"Age\": [30,40,25]\n",
    "}\n",
    "\n",
    "df = pd.DataFrame(data)\n",
    "\n",
    "print(df)\n",
    "df1 = df.loc[[0]]\n",
    "print(\"\\n\",df1) #Accessing 0th row , This rerurns a DataFrame. \n",
    "\n",
    "print(type(df))\n",
    "print(type(df1))"
   ]
  },
  {
   "cell_type": "code",
   "execution_count": 24,
   "id": "a540c4ea",
   "metadata": {},
   "outputs": [
    {
     "name": "stdout",
     "output_type": "stream",
     "text": [
      "    Name  Age\n",
      "0  Maria   30\n",
      "1   John   40\n",
      "2  Angel   25\n",
      "\n",
      "     Name  Age\n",
      "0  Maria   30\n",
      "1   John   40\n"
     ]
    }
   ],
   "source": [
    "# Accessing 0th and 1st rows of a given dataframe\n",
    "data = {\n",
    "  \"Name\": [\"Maria\",\"John\",\"Angel\"],\n",
    "  \"Age\": [30,40,25]\n",
    "}\n",
    "\n",
    "df = pd.DataFrame(data)\n",
    "\n",
    "print(df)\n",
    "print(\"\\n\",df.loc[[0,1]]) #Accessing 0th and 1st row"
   ]
  },
  {
   "cell_type": "markdown",
   "id": "49e3a000",
   "metadata": {},
   "source": [
    "### Named Indexes\n",
    "\n",
    "index : Argument used to set your own indexes (custom indexes)."
   ]
  },
  {
   "cell_type": "code",
   "execution_count": 26,
   "id": "6e59eadd",
   "metadata": {},
   "outputs": [
    {
     "name": "stdout",
     "output_type": "stream",
     "text": [
      "    Name  Age\n",
      "a  Maria   30\n",
      "b   John   40\n",
      "c  Angel   25\n"
     ]
    }
   ],
   "source": [
    "#Creating your own indexes using index argument\n",
    "\n",
    "data = {\n",
    "  \"Name\": [\"Maria\",\"John\",\"Angel\"],\n",
    "  \"Age\": [30,40,25]\n",
    "}\n",
    "\n",
    "df = pd.DataFrame(data, index = ['a','b','c']) #custom indexex a,b and c has been set.\n",
    "\n",
    "print(df)"
   ]
  },
  {
   "cell_type": "markdown",
   "id": "4432ab7c",
   "metadata": {},
   "source": [
    "### Locate custom Indexes\n",
    "\n",
    "Use the named index in the loc attribute to return the specified row(s)."
   ]
  },
  {
   "cell_type": "code",
   "execution_count": 28,
   "id": "5181a7cd",
   "metadata": {},
   "outputs": [
    {
     "name": "stdout",
     "output_type": "stream",
     "text": [
      "    Name  Age\n",
      "a  Maria   30\n",
      "b   John   40\n"
     ]
    }
   ],
   "source": [
    "# Accessing first two rows of a given dataframe with custom index\n",
    "\n",
    "data = {\n",
    "  \"Name\": [\"Maria\",\"John\",\"Angel\"],\n",
    "  \"Age\": [30,40,25]\n",
    "}\n",
    "\n",
    "df = pd.DataFrame(data, index = ['a','b','c'])\n",
    "\n",
    "print(df.loc[['a','b']]) "
   ]
  },
  {
   "cell_type": "markdown",
   "id": "61ddf006",
   "metadata": {},
   "source": [
    "###### Create a DataFrame from dictionary"
   ]
  },
  {
   "cell_type": "code",
   "execution_count": 55,
   "id": "6538a076",
   "metadata": {},
   "outputs": [
    {
     "data": {
      "text/html": [
       "<div>\n",
       "<style scoped>\n",
       "    .dataframe tbody tr th:only-of-type {\n",
       "        vertical-align: middle;\n",
       "    }\n",
       "\n",
       "    .dataframe tbody tr th {\n",
       "        vertical-align: top;\n",
       "    }\n",
       "\n",
       "    .dataframe thead th {\n",
       "        text-align: right;\n",
       "    }\n",
       "</style>\n",
       "<table border=\"1\" class=\"dataframe\">\n",
       "  <thead>\n",
       "    <tr style=\"text-align: right;\">\n",
       "      <th></th>\n",
       "      <th>day</th>\n",
       "      <th>temperature</th>\n",
       "      <th>windspeed</th>\n",
       "      <th>event</th>\n",
       "    </tr>\n",
       "  </thead>\n",
       "  <tbody>\n",
       "    <tr>\n",
       "      <th>0</th>\n",
       "      <td>1/1/2017</td>\n",
       "      <td>32</td>\n",
       "      <td>6</td>\n",
       "      <td>Rain</td>\n",
       "    </tr>\n",
       "    <tr>\n",
       "      <th>1</th>\n",
       "      <td>1/2/2017</td>\n",
       "      <td>35</td>\n",
       "      <td>7</td>\n",
       "      <td>Sunny</td>\n",
       "    </tr>\n",
       "    <tr>\n",
       "      <th>2</th>\n",
       "      <td>1/3/2017</td>\n",
       "      <td>28</td>\n",
       "      <td>2</td>\n",
       "      <td>Snow</td>\n",
       "    </tr>\n",
       "  </tbody>\n",
       "</table>\n",
       "</div>"
      ],
      "text/plain": [
       "        day  temperature  windspeed  event\n",
       "0  1/1/2017           32          6   Rain\n",
       "1  1/2/2017           35          7  Sunny\n",
       "2  1/3/2017           28          2   Snow"
      ]
     },
     "execution_count": 55,
     "metadata": {},
     "output_type": "execute_result"
    }
   ],
   "source": [
    "#Using a dictionary\n",
    "weather_data = {\n",
    "    'day': ['1/1/2017','1/2/2017','1/3/2017'],\n",
    "    'temperature': [32,35,28],\n",
    "    'windspeed': [6,7,2],\n",
    "    'event': ['Rain', 'Sunny', 'Snow']\n",
    "}\n",
    "df = pd.DataFrame(weather_data)\n",
    "df"
   ]
  },
  {
   "cell_type": "markdown",
   "id": "f879934f",
   "metadata": {},
   "source": [
    "###### Create a DataFrame from list of dictionaries"
   ]
  },
  {
   "cell_type": "code",
   "execution_count": 59,
   "id": "fba20dcb",
   "metadata": {},
   "outputs": [
    {
     "data": {
      "text/html": [
       "<div>\n",
       "<style scoped>\n",
       "    .dataframe tbody tr th:only-of-type {\n",
       "        vertical-align: middle;\n",
       "    }\n",
       "\n",
       "    .dataframe tbody tr th {\n",
       "        vertical-align: top;\n",
       "    }\n",
       "\n",
       "    .dataframe thead th {\n",
       "        text-align: right;\n",
       "    }\n",
       "</style>\n",
       "<table border=\"1\" class=\"dataframe\">\n",
       "  <thead>\n",
       "    <tr style=\"text-align: right;\">\n",
       "      <th></th>\n",
       "      <th>day</th>\n",
       "      <th>temperature</th>\n",
       "      <th>windspeed</th>\n",
       "      <th>event</th>\n",
       "    </tr>\n",
       "  </thead>\n",
       "  <tbody>\n",
       "    <tr>\n",
       "      <th>0</th>\n",
       "      <td>1/1/2017</td>\n",
       "      <td>32</td>\n",
       "      <td>6</td>\n",
       "      <td>Rain</td>\n",
       "    </tr>\n",
       "    <tr>\n",
       "      <th>1</th>\n",
       "      <td>1/2/2017</td>\n",
       "      <td>35</td>\n",
       "      <td>7</td>\n",
       "      <td>Sunny</td>\n",
       "    </tr>\n",
       "    <tr>\n",
       "      <th>2</th>\n",
       "      <td>1/3/2017</td>\n",
       "      <td>28</td>\n",
       "      <td>2</td>\n",
       "      <td>Snow</td>\n",
       "    </tr>\n",
       "  </tbody>\n",
       "</table>\n",
       "</div>"
      ],
      "text/plain": [
       "        day  temperature  windspeed  event\n",
       "0  1/1/2017           32          6   Rain\n",
       "1  1/2/2017           35          7  Sunny\n",
       "2  1/3/2017           28          2   Snow"
      ]
     },
     "execution_count": 59,
     "metadata": {},
     "output_type": "execute_result"
    }
   ],
   "source": [
    "#Using a list of dictionaries\n",
    "weather_data = [\n",
    "    {'day': '1/1/2017', 'temperature': 32, 'windspeed': 6, 'event': 'Rain'},\n",
    "    {'day': '1/2/2017', 'temperature': 35, 'windspeed': 7, 'event': 'Sunny'},\n",
    "    {'day': '1/3/2017', 'temperature': 28, 'windspeed': 2, 'event': 'Snow'},\n",
    "    \n",
    "]\n",
    "df = pd.DataFrame(weather_data,)\n",
    "df"
   ]
  },
  {
   "cell_type": "markdown",
   "id": "ce1c918d",
   "metadata": {},
   "source": [
    "###### Create a DataFrame from list of tuples"
   ]
  },
  {
   "cell_type": "code",
   "execution_count": 57,
   "id": "c8f8b594",
   "metadata": {},
   "outputs": [
    {
     "name": "stdout",
     "output_type": "stream",
     "text": [
      "        day  temperature  windspeed  event\n",
      "0  1/1/2017           32          6   Rain\n",
      "1  1/2/2017           35          7  Sunny\n",
      "2  1/3/2017           28          2   Snow\n"
     ]
    }
   ],
   "source": [
    "# Create a DataFrame using list of tuples\n",
    "weather_data = [\n",
    "    ('1/1/2017',32,6,'Rain'),\n",
    "    ('1/2/2017',35,7,'Sunny'),\n",
    "    ('1/3/2017',28,2,'Snow')\n",
    "]\n",
    "df = pd.DataFrame(data=weather_data, columns=['day','temperature','windspeed','event'])\n",
    "print(df)"
   ]
  },
  {
   "cell_type": "markdown",
   "id": "268ca86a",
   "metadata": {},
   "source": [
    "##### Create a DataFrame from list of lists"
   ]
  },
  {
   "cell_type": "code",
   "execution_count": 58,
   "id": "fbd59362",
   "metadata": {},
   "outputs": [
    {
     "name": "stdout",
     "output_type": "stream",
     "text": [
      "        day  temperature  windspeed  event\n",
      "0  1/1/2017           32          6   Rain\n",
      "1  1/2/2017           35          7  Sunny\n",
      "2  1/3/2017           28          2   Snow\n"
     ]
    }
   ],
   "source": [
    "#Using a list of lists \n",
    "weather_data = [\n",
    "    ['1/1/2017',32,6,'Rain'],\n",
    "    ['1/2/2017',35,7,'Sunny'],\n",
    "    ['1/3/2017',28,2,'Snow']\n",
    "]\n",
    "df = pd.DataFrame(data=weather_data, columns=['day','temperature','windspeed','event'])\n",
    "print(df)"
   ]
  },
  {
   "cell_type": "markdown",
   "id": "8b075d26",
   "metadata": {},
   "source": [
    "### Load Files as DataFrame"
   ]
  },
  {
   "cell_type": "code",
   "execution_count": null,
   "id": "e7910f9f",
   "metadata": {},
   "outputs": [],
   "source": [
    "1. If your data sets are stored in a file, Pandas can load them into a DataFrame.\n",
    "\n",
    "    read_csv()   : Method to load  csv files as dataframe\n",
    "    read_excel() : Method to load  excel files as dataframe \n",
    "\n",
    "2. If you have a large DataFrame with many rows, Pandas will only return the first 5 rows, and the last 5 rows.\n",
    "\n",
    "to_string() : Method to print the entire DataFrame.\n",
    "\n",
    "max_rows    : The number of rows returned can be defined using \"pd.options.display.max_rows\" statement.\n"
   ]
  },
  {
   "cell_type": "markdown",
   "id": "c7178b9c",
   "metadata": {},
   "source": [
    "###### Loading a comma separated file (CSV file) into a DataFrame"
   ]
  },
  {
   "cell_type": "code",
   "execution_count": 33,
   "id": "7e57390f",
   "metadata": {},
   "outputs": [
    {
     "name": "stdout",
     "output_type": "stream",
     "text": [
      "     Duration  Pulse  Maxpulse  Calories\n",
      "0          60    110       130     409.1\n",
      "1          60    117       145     479.0\n",
      "2          60    103       135     340.0\n",
      "3          45    109       175     282.4\n",
      "4          45    117       148     406.0\n",
      "..        ...    ...       ...       ...\n",
      "164        60    105       140     290.8\n",
      "165        60    110       145     300.0\n",
      "166        60    115       145     310.2\n",
      "167        75    120       150     320.4\n",
      "168        75    125       150     330.4\n",
      "\n",
      "[169 rows x 4 columns]\n"
     ]
    }
   ],
   "source": [
    "#Loading a comma separated file (CSV file) into a DataFrame\n",
    "\n",
    "df =pd.read_csv(\"data.csv\")\n",
    "\n",
    "print(df) #returns only the first 5 rows, and the last 5 rows.\n",
    "\n",
    "#print(df.to_string()) #to_string() method orints entire dataframe"
   ]
  },
  {
   "cell_type": "code",
   "execution_count": 34,
   "id": "9fa5490f",
   "metadata": {},
   "outputs": [
    {
     "name": "stdout",
     "output_type": "stream",
     "text": [
      "60\n"
     ]
    }
   ],
   "source": [
    "#To check the number of maximum returned rows\n",
    "\n",
    "print(pd.options.display.max_rows) "
   ]
  },
  {
   "cell_type": "markdown",
   "id": "1f8e0206",
   "metadata": {},
   "source": [
    "In my system the number is 60, which means that if the DataFrame contains more than 60 rows, \n",
    "the print(df) statement will return only the headers and the first and last 5 rows.\n",
    "\n",
    "We have option to change the maximum number of returned rows using the same attribute max_rows."
   ]
  },
  {
   "cell_type": "code",
   "execution_count": 40,
   "id": "31587e08",
   "metadata": {},
   "outputs": [
    {
     "name": "stdout",
     "output_type": "stream",
     "text": [
      "9999\n"
     ]
    }
   ],
   "source": [
    "#Increase the maximum number of rows to display the entire DataFrame:\n",
    "\n",
    "\n",
    "pd.options.display.max_rows = 9999 #assigning custom value for max_rows\n",
    "print(pd.options.display.max_rows)"
   ]
  },
  {
   "cell_type": "markdown",
   "id": "3124425b",
   "metadata": {},
   "source": [
    "###### Loading a excel file into a DataFrame"
   ]
  },
  {
   "cell_type": "code",
   "execution_count": 54,
   "id": "04f7f1c7",
   "metadata": {},
   "outputs": [
    {
     "name": "stdout",
     "output_type": "stream",
     "text": [
      "   Unnamed: 0    Company  Price  Price to earnings ratio (P/E)\n",
      "0  2017-06-05   Facebook    155                          37.10\n",
      "1         NaT     Google    955                          32.00\n",
      "2         NaT  Microsoft     66                          30.31\n",
      "3  2017-06-06   Facebook    150                          36.98\n",
      "4         NaT     Google    987                          31.30\n",
      "5         NaT  Microsoft     69                          30.56\n",
      "6  2017-06-07   Facebook    153                          36.78\n",
      "7         NaT     Google    963                          31.70\n",
      "8         NaT  Microsoft     62                          30.46\n",
      "9  2017-06-08   Facebook    155                          36.11\n",
      "10        NaT     Google   1000                          31.20\n",
      "11        NaT  Microsoft     61                          30.11\n",
      "12 2017-06-09   Facebook    156                          37.07\n",
      "13        NaT     Google   1012                          30.00\n",
      "14        NaT  Microsoft     66                          31.00\n"
     ]
    }
   ],
   "source": [
    "#Loading a excel file into a DataFrame\n",
    "\n",
    "df =pd.read_excel(\"stack_3_levels.xlsx\",\"Sheet1\") \n",
    "#df =pd.read_excel(\"stack_3_levels.xlsx\",\"Sheet2\")\n",
    "#df =pd.read_excel(\"stack_3_levels.xlsx\",\"stock_price\")\n",
    "#df =pd.read_excel(\"stack_3_levels.xlsx\")\n",
    "\n",
    "print(df) "
   ]
  },
  {
   "cell_type": "markdown",
   "id": "b1abfb17",
   "metadata": {},
   "source": [
    "### Analyzing DataFrames"
   ]
  },
  {
   "cell_type": "code",
   "execution_count": null,
   "id": "16f16336",
   "metadata": {},
   "outputs": [],
   "source": [
    "There are several built-in methods in pandas for analyzing DataFrames:\n",
    "    \n",
    "head()     : One of the most used method for getting a quick overview of the DataFrame.\n",
    "             The head() method returns the headers and a specified number of rows, starting from the top.\n",
    "             if the number of rows is not specified, the head() method will return the top 5 rows.\n",
    "        \n",
    "tail()     : This method returns the headers and a specified number of rows, starting from the bottom.\n",
    "\n",
    "info()     : The DataFrames object has a method called info(), that gives information about the data set.\n",
    "             The info() method also tells us how many Non-Null values there are present in each column.\n",
    "        \n",
    "unique()   : This method displays unique values in a specified column\n",
    "\n",
    "describe() : This method displays statistical properties of all the numerical columns in the dataframe\n",
    "    \n",
    "isin()     : This method retun 'True' or 'False' based on the condition. isin() used to check whether a given value(s) \n",
    "             present in the specified column of a given dataset. If the value present it return 'True' else return 'False'.\n",
    "    \n",
    "shape      : Return the shape (number rows and columns) of the dataframe.\n",
    "    \n",
    "column     : Return all the columns in the specified dataframe.\n",
    "    \n",
    "index      :Argument used to display the index range of a given dataframe.\n",
    "    "
   ]
  },
  {
   "cell_type": "code",
   "execution_count": 7,
   "id": "24f65331",
   "metadata": {},
   "outputs": [
    {
     "name": "stdout",
     "output_type": "stream",
     "text": [
      "   Duration  Pulse  Maxpulse  Calories\n",
      "0        60    110       130     409.1\n",
      "1        60    117       145     479.0\n",
      "2        60    103       135     340.0\n",
      "3        45    109       175     282.4\n",
      "4        45    117       148     406.0\n"
     ]
    }
   ],
   "source": [
    "#head() method to return first 5 rows from the dataset.\n",
    "#We will be using a CSV file called 'data.csv'.\n",
    "\n",
    "df = pd.read_csv(\"data.csv\")\n",
    "print(df.head(5))\n"
   ]
  },
  {
   "cell_type": "code",
   "execution_count": 8,
   "id": "53d75e09",
   "metadata": {},
   "outputs": [
    {
     "name": "stdout",
     "output_type": "stream",
     "text": [
      "     Duration  Pulse  Maxpulse  Calories\n",
      "164        60    105       140     290.8\n",
      "165        60    110       145     300.0\n",
      "166        60    115       145     310.2\n",
      "167        75    120       150     320.4\n",
      "168        75    125       150     330.4\n"
     ]
    }
   ],
   "source": [
    "#head() method to return last 5 rows from the dataset.\n",
    "#We will be using a CSV file called 'data.csv'.\n",
    "\n",
    "df = pd.read_csv(\"data.csv\")\n",
    "print(df.tail(5))\n"
   ]
  },
  {
   "cell_type": "code",
   "execution_count": 9,
   "id": "9048e7c9",
   "metadata": {},
   "outputs": [
    {
     "name": "stdout",
     "output_type": "stream",
     "text": [
      "<class 'pandas.core.frame.DataFrame'>\n",
      "RangeIndex: 169 entries, 0 to 168\n",
      "Data columns (total 4 columns):\n",
      " #   Column    Non-Null Count  Dtype  \n",
      "---  ------    --------------  -----  \n",
      " 0   Duration  169 non-null    int64  \n",
      " 1   Pulse     169 non-null    int64  \n",
      " 2   Maxpulse  169 non-null    int64  \n",
      " 3   Calories  164 non-null    float64\n",
      "dtypes: float64(1), int64(3)\n",
      "memory usage: 5.4 KB\n",
      "None\n"
     ]
    }
   ],
   "source": [
    "# info() to get the information about the dataset\n",
    "\n",
    "df = pd.read_csv(\"data.csv\")\n",
    "print(df.info())"
   ]
  },
  {
   "cell_type": "code",
   "execution_count": 10,
   "id": "fd92673f",
   "metadata": {},
   "outputs": [
    {
     "name": "stdout",
     "output_type": "stream",
     "text": [
      "Index(['Duration', 'Pulse', 'Maxpulse', 'Calories'], dtype='object')\n"
     ]
    }
   ],
   "source": [
    "#To get the number columns in the dataset\n",
    "\n",
    "df = pd.read_csv(\"data.csv\")\n",
    "print(df.columns)"
   ]
  },
  {
   "cell_type": "code",
   "execution_count": 11,
   "id": "d6df0ed9",
   "metadata": {},
   "outputs": [
    {
     "name": "stdout",
     "output_type": "stream",
     "text": [
      "(169, 4)\n"
     ]
    }
   ],
   "source": [
    "#TO display the number of rows and columns\n",
    "\n",
    "df = pd.read_csv(\"data.csv\")\n",
    "print(df.shape) #This dataset has 169 rows and 4 columns"
   ]
  },
  {
   "cell_type": "code",
   "execution_count": 12,
   "id": "a7919499",
   "metadata": {},
   "outputs": [
    {
     "name": "stdout",
     "output_type": "stream",
     "text": [
      "         Duration       Pulse    Maxpulse     Calories\n",
      "count  169.000000  169.000000  169.000000   164.000000\n",
      "mean    63.846154  107.461538  134.047337   375.790244\n",
      "std     42.299949   14.510259   16.450434   266.379919\n",
      "min     15.000000   80.000000  100.000000    50.300000\n",
      "25%     45.000000  100.000000  124.000000   250.925000\n",
      "50%     60.000000  105.000000  131.000000   318.600000\n",
      "75%     60.000000  111.000000  141.000000   387.600000\n",
      "max    300.000000  159.000000  184.000000  1860.400000\n"
     ]
    }
   ],
   "source": [
    "#Display statistical properties of all the numerical columns in the dataframe\n",
    "\n",
    "df = pd.read_csv(\"data.csv\")\n",
    "print(df.describe())"
   ]
  },
  {
   "cell_type": "code",
   "execution_count": 14,
   "id": "67cc11aa",
   "metadata": {},
   "outputs": [
    {
     "name": "stdout",
     "output_type": "stream",
     "text": [
      "[ 60  45  30  80  20 210 160 180 150 300  90 120 270  15  25  75]\n"
     ]
    }
   ],
   "source": [
    "#Display unique values in a specified column\n",
    "\n",
    "df = pd.read_csv(\"data.csv\")\n",
    "print(df['Duration'].unique()) # Display all the unique values in 'Duration' column"
   ]
  },
  {
   "cell_type": "code",
   "execution_count": 17,
   "id": "409593cc",
   "metadata": {},
   "outputs": [
    {
     "data": {
      "text/html": [
       "<div>\n",
       "<style scoped>\n",
       "    .dataframe tbody tr th:only-of-type {\n",
       "        vertical-align: middle;\n",
       "    }\n",
       "\n",
       "    .dataframe tbody tr th {\n",
       "        vertical-align: top;\n",
       "    }\n",
       "\n",
       "    .dataframe thead th {\n",
       "        text-align: right;\n",
       "    }\n",
       "</style>\n",
       "<table border=\"1\" class=\"dataframe\">\n",
       "  <thead>\n",
       "    <tr style=\"text-align: right;\">\n",
       "      <th></th>\n",
       "      <th>Duration</th>\n",
       "      <th>Pulse</th>\n",
       "      <th>Maxpulse</th>\n",
       "      <th>Calories</th>\n",
       "    </tr>\n",
       "  </thead>\n",
       "  <tbody>\n",
       "    <tr>\n",
       "      <th>0</th>\n",
       "      <td>60</td>\n",
       "      <td>110</td>\n",
       "      <td>130</td>\n",
       "      <td>409.1</td>\n",
       "    </tr>\n",
       "    <tr>\n",
       "      <th>1</th>\n",
       "      <td>60</td>\n",
       "      <td>117</td>\n",
       "      <td>145</td>\n",
       "      <td>479.0</td>\n",
       "    </tr>\n",
       "    <tr>\n",
       "      <th>2</th>\n",
       "      <td>60</td>\n",
       "      <td>103</td>\n",
       "      <td>135</td>\n",
       "      <td>340.0</td>\n",
       "    </tr>\n",
       "    <tr>\n",
       "      <th>5</th>\n",
       "      <td>60</td>\n",
       "      <td>102</td>\n",
       "      <td>127</td>\n",
       "      <td>300.0</td>\n",
       "    </tr>\n",
       "    <tr>\n",
       "      <th>6</th>\n",
       "      <td>60</td>\n",
       "      <td>110</td>\n",
       "      <td>136</td>\n",
       "      <td>374.0</td>\n",
       "    </tr>\n",
       "    <tr>\n",
       "      <th>...</th>\n",
       "      <td>...</td>\n",
       "      <td>...</td>\n",
       "      <td>...</td>\n",
       "      <td>...</td>\n",
       "    </tr>\n",
       "    <tr>\n",
       "      <th>157</th>\n",
       "      <td>60</td>\n",
       "      <td>100</td>\n",
       "      <td>120</td>\n",
       "      <td>270.4</td>\n",
       "    </tr>\n",
       "    <tr>\n",
       "      <th>158</th>\n",
       "      <td>60</td>\n",
       "      <td>114</td>\n",
       "      <td>150</td>\n",
       "      <td>382.8</td>\n",
       "    </tr>\n",
       "    <tr>\n",
       "      <th>164</th>\n",
       "      <td>60</td>\n",
       "      <td>105</td>\n",
       "      <td>140</td>\n",
       "      <td>290.8</td>\n",
       "    </tr>\n",
       "    <tr>\n",
       "      <th>165</th>\n",
       "      <td>60</td>\n",
       "      <td>110</td>\n",
       "      <td>145</td>\n",
       "      <td>300.0</td>\n",
       "    </tr>\n",
       "    <tr>\n",
       "      <th>166</th>\n",
       "      <td>60</td>\n",
       "      <td>115</td>\n",
       "      <td>145</td>\n",
       "      <td>310.2</td>\n",
       "    </tr>\n",
       "  </tbody>\n",
       "</table>\n",
       "<p>79 rows × 4 columns</p>\n",
       "</div>"
      ],
      "text/plain": [
       "     Duration  Pulse  Maxpulse  Calories\n",
       "0          60    110       130     409.1\n",
       "1          60    117       145     479.0\n",
       "2          60    103       135     340.0\n",
       "5          60    102       127     300.0\n",
       "6          60    110       136     374.0\n",
       "..        ...    ...       ...       ...\n",
       "157        60    100       120     270.4\n",
       "158        60    114       150     382.8\n",
       "164        60    105       140     290.8\n",
       "165        60    110       145     300.0\n",
       "166        60    115       145     310.2\n",
       "\n",
       "[79 rows x 4 columns]"
      ]
     },
     "execution_count": 17,
     "metadata": {},
     "output_type": "execute_result"
    }
   ],
   "source": [
    "#Display rows where a condition is satisfied\n",
    "\n",
    "df =pd.read_csv(\"data.csv\")\n",
    "df[df['Duration']==60] #return rows that has \"Duration\"  equal to 60"
   ]
  },
  {
   "cell_type": "code",
   "execution_count": 23,
   "id": "d72af051",
   "metadata": {},
   "outputs": [
    {
     "name": "stdout",
     "output_type": "stream",
     "text": [
      "RangeIndex(start=0, stop=169, step=1)\n"
     ]
    }
   ],
   "source": [
    "#To display the range of indexex in the specified dataset.\n",
    "df = pd.read_csv(\"data.csv\")\n",
    "print(df.index)"
   ]
  },
  {
   "cell_type": "code",
   "execution_count": 36,
   "id": "6737b7e8",
   "metadata": {},
   "outputs": [
    {
     "name": "stdout",
     "output_type": "stream",
     "text": [
      "Display the Dataset 'Weather_data':\n",
      "\n",
      "         day  temperature  windspeed  event\n",
      "0  1/1/2017           32          6   Rain\n",
      "1  1/2/2017           35          7  Sunny\n",
      "2  1/3/2017           28          2   Snow\n",
      "3  1/4/2017           24          7   Snow\n",
      "4  1/5/2017           32          4   Rain\n",
      "5  1/6/2017           31          2  Sunny \n",
      "\n",
      "Check whether 'Snow' or 'Sunny' values present in the 'event' column:\n",
      "\n",
      "0    False\n",
      "1     True\n",
      "2     True\n",
      "3     True\n",
      "4    False\n",
      "5     True\n",
      "Name: event, dtype: bool\n"
     ]
    }
   ],
   "source": [
    "#isin() method to check whether 'Snow' or \"Sunny\" values present in the 'event' column of Dataframe \"Weather_data\"\n",
    "\n",
    "df = pd.read_csv(\"Weather_data.csv\")\n",
    "print(\"Display the Dataset 'Weather_data':\\n\\n\",df,\"\\n\")\n",
    "print(\"Check whether 'Snow' or 'Sunny' values present in the 'event' column:\\n\")\n",
    "print(df['event'].isin(['Snow','Sunny']))"
   ]
  },
  {
   "cell_type": "markdown",
   "id": "3a1a6656",
   "metadata": {},
   "source": [
    "### Data Correlations"
   ]
  },
  {
   "cell_type": "code",
   "execution_count": null,
   "id": "475556b1",
   "metadata": {},
   "outputs": [],
   "source": [
    "corr()  : The corr() method calculates the relationship between each column in your data set.\n",
    "          The corr() method ignores \"not numeric\" columns."
   ]
  },
  {
   "cell_type": "code",
   "execution_count": 19,
   "id": "0b180fbb",
   "metadata": {},
   "outputs": [
    {
     "name": "stdout",
     "output_type": "stream",
     "text": [
      "             temperature  windspeed\n",
      "temperature     1.000000   0.037226\n",
      "windspeed       0.037226   1.000000\n"
     ]
    },
    {
     "name": "stderr",
     "output_type": "stream",
     "text": [
      "C:\\Users\\rajee\\AppData\\Local\\Temp\\ipykernel_11652\\3625993116.py:4: FutureWarning: The default value of numeric_only in DataFrame.corr is deprecated. In a future version, it will default to False. Select only valid columns or specify the value of numeric_only to silence this warning.\n",
      "  print(df.corr())\n"
     ]
    }
   ],
   "source": [
    "#corr() method to find the correlation between columns in the dataset \"Weather_data.csv\"\n",
    "\n",
    "df = pd.read_csv(\"Weather_data.csv\")\n",
    "print(df.corr())"
   ]
  },
  {
   "cell_type": "markdown",
   "id": "6c21a900",
   "metadata": {},
   "source": [
    "### What is a good correlation"
   ]
  },
  {
   "cell_type": "code",
   "execution_count": null,
   "id": "1dec50d0",
   "metadata": {},
   "outputs": [],
   "source": [
    "    The Result of the corr() method is a table with a lot of numbers that varies from -1 to 1.Each number represents\n",
    "the relationship is between two columns.\n",
    "\n",
    "Correlation Values                            Meaning\n",
    " \n",
    "         1                        A perfect correlation (1 : 1 correlation)\n",
    "                                   (Each time a value went up in the first column, the other one went up as well)\n",
    "\n",
    "         0.9                      Good Correlation \n",
    "                                   (if you increase one value, the other will probably increase as well)\n",
    "                                   \n",
    "        -0.9                      Good relationship \n",
    "                                    (if you increase one value, the other will probably go down)\n",
    "                                   \n",
    "         0.2                      NOT a good relationship\n",
    "                                     (if one value goes up does not mean that the other will)\n",
    "                 \n",
    "\n",
    "What is a good correlation? \n",
    "\n",
    "    It depends on the use, but most of the time if you have at least 0.6 (or -0.6) ,we can call it as good correlation.\n",
    "\n"
   ]
  },
  {
   "cell_type": "markdown",
   "id": "32a3c401",
   "metadata": {},
   "source": [
    "### Cleaning Data"
   ]
  },
  {
   "cell_type": "code",
   "execution_count": null,
   "id": "fc7bafb8",
   "metadata": {},
   "outputs": [],
   "source": [
    "Data cleaning means fixing bad data in your data set.\n",
    "\n",
    "Bad data could be:\n",
    "\n",
    "1. Empty cells\n",
    "2. Data in wrong format\n",
    "3. Wrong data\n",
    "4. Duplicates"
   ]
  },
  {
   "cell_type": "markdown",
   "id": "ada3822d",
   "metadata": {},
   "source": [
    "### Cleaning Empty Cells"
   ]
  },
  {
   "cell_type": "code",
   "execution_count": null,
   "id": "9835d3f6",
   "metadata": {},
   "outputs": [],
   "source": [
    "Empty cells can potentially give you a wrong result when you analyze data.\n",
    "\n",
    "How to deal with empty cell :\n",
    "    \n",
    "Remove the row(s) that contain empty cell. since data sets can be very big, and removing a few rows \n",
    "will not have a big impact on the result.\n",
    "    \n",
    "How to remove empty cell :\n",
    "    \n",
    "dropna()          : This method returns a new Data Frame with no empty cells. By default, the dropna() method returns\n",
    "                    a new DataFrame, and will not change the original.  \n",
    "        \n",
    "inplace = True    : Use this argument ,if you want to change the original DataFrame. This argument will NOT return\n",
    "                    a new DataFrame, but it will remove all rows containing NULL values from the original DataFrame.\n",
    "    "
   ]
  },
  {
   "cell_type": "code",
   "execution_count": 6,
   "id": "36068995",
   "metadata": {},
   "outputs": [
    {
     "name": "stdout",
     "output_type": "stream",
     "text": [
      "     Duration  Pulse  Maxpulse  Calories\n",
      "1        60.0  117.0     145.0     479.0\n",
      "3        45.0  109.0     175.0     282.4\n",
      "5        60.0  102.0     127.0     300.0\n",
      "6        60.0  110.0     136.0     374.0\n",
      "7        45.0  104.0     134.0     253.3\n",
      "9        60.0   98.0     124.0     269.0\n",
      "11       60.0  100.0     120.0     250.7\n",
      "12       60.0  106.0     128.0     345.3\n",
      "13       60.0  104.0     132.0     379.3\n",
      "14       60.0   98.0     123.0     275.0\n",
      "15       60.0   98.0     120.0     215.2\n",
      "16       60.0  100.0     120.0     300.0\n",
      "18       60.0  103.0     123.0     323.0\n",
      "19       45.0   97.0     125.0     243.0\n",
      "20       60.0  108.0     131.0     364.2\n",
      "21       45.0  100.0     119.0     282.0\n",
      "22       60.0  130.0     101.0     300.0\n",
      "23       45.0  105.0     132.0     246.0\n",
      "24       60.0  102.0     126.0     334.5\n",
      "25       60.0  100.0     120.0     250.0\n",
      "26       60.0   92.0     118.0     241.0\n",
      "28       60.0  100.0     132.0     280.0\n",
      "29       60.0  102.0     129.0     380.3\n",
      "30       60.0   92.0     115.0     243.0\n",
      "31       45.0   90.0     112.0     180.1\n",
      "32       60.0  101.0     124.0     299.0\n",
      "33       60.0   93.0     113.0     223.0\n",
      "34       60.0  107.0     136.0     361.0\n",
      "35       60.0  114.0     140.0     415.0\n",
      "36       60.0  102.0     127.0     300.0\n",
      "37       60.0  100.0     120.0     300.0\n",
      "38       60.0  100.0     120.0     300.0\n",
      "39       45.0  104.0     129.0     266.0\n",
      "40       45.0   90.0     112.0     180.1\n",
      "41       60.0   98.0     126.0     286.0\n",
      "42       60.0  100.0     122.0     329.4\n",
      "43       60.0  111.0     138.0     400.0\n",
      "44       60.0  111.0     131.0     397.0\n",
      "45       60.0   99.0     119.0     273.0\n",
      "46       60.0  109.0     153.0     387.6\n",
      "47       45.0  111.0     136.0     300.0\n",
      "48       45.0  108.0     129.0     298.0\n",
      "49       60.0  111.0     139.0     397.6\n",
      "50       60.0  107.0     136.0     380.2\n",
      "51       80.0  123.0     146.0     643.1\n",
      "52       60.0  106.0     130.0     263.0\n",
      "53       60.0  118.0     151.0     486.0\n",
      "54       30.0  136.0     175.0     238.0\n",
      "55       60.0  121.0     146.0     450.7\n",
      "56       60.0  118.0     121.0     413.0\n",
      "57       45.0  115.0     144.0     305.0\n",
      "58       20.0  153.0     172.0     226.4\n",
      "59       45.0  123.0     152.0     321.0\n",
      "60      210.0  108.0     160.0    1376.0\n",
      "61      160.0  110.0     137.0    1034.4\n",
      "62      160.0  109.0     135.0     853.0\n",
      "63       45.0  118.0     141.0     341.0\n",
      "64       20.0  110.0     130.0     131.4\n",
      "65      180.0   90.0     130.0     800.4\n",
      "66      150.0  105.0     135.0     873.4\n",
      "67      150.0  107.0     130.0     816.0\n",
      "68       20.0  106.0     136.0     110.4\n",
      "69      300.0  108.0     143.0    1500.2\n",
      "70      150.0   97.0     129.0    1115.0\n",
      "71       60.0  109.0     153.0     387.6\n",
      "72       90.0  100.0     127.0     700.0\n",
      "73      150.0   97.0     127.0     953.2\n",
      "74       45.0  114.0     146.0     304.0\n",
      "75       90.0   98.0     125.0     563.2\n",
      "76       45.0  105.0     134.0     251.0\n",
      "77       45.0  110.0     141.0     300.0\n",
      "78      120.0  100.0     130.0     500.4\n",
      "79      270.0  100.0     131.0    1729.0\n",
      "80       30.0  159.0     182.0     319.2\n",
      "81       45.0  149.0     169.0     344.0\n",
      "82       30.0  103.0     139.0     151.1\n",
      "83      120.0  100.0     130.0     500.0\n",
      "84       45.0  100.0     120.0     225.3\n",
      "86       45.0  102.0     136.0     234.0\n",
      "87      120.0  100.0     157.0    1000.1\n",
      "88       45.0  129.0     103.0     242.0\n",
      "89       20.0   83.0     107.0      50.3\n",
      "90      180.0  101.0     127.0     600.1\n",
      "92       30.0   90.0     107.0     105.3\n",
      "93       15.0   80.0     100.0      50.5\n",
      "94       20.0  150.0     171.0     127.4\n",
      "96       30.0   95.0     128.0     128.2\n",
      "97       25.0  152.0     168.0     244.2\n",
      "98       30.0  109.0     131.0     188.2\n",
      "99       90.0   93.0     124.0     604.1\n",
      "100      20.0   95.0     112.0      77.7\n",
      "101      90.0   90.0     110.0     500.0\n",
      "102      90.0   90.0     100.0     500.0\n",
      "104      30.0   92.0     108.0      92.7\n",
      "105      30.0   93.0     128.0     124.0\n",
      "106     180.0   90.0     120.0     800.3\n",
      "107      30.0   90.0     120.0      86.2\n",
      "108      90.0   90.0     120.0     500.3\n",
      "109     210.0  137.0     184.0    1860.4\n",
      "111      45.0  107.0     124.0     275.0\n",
      "112      15.0  124.0     139.0     124.2\n",
      "113      45.0  100.0     120.0     225.3\n",
      "114      60.0  108.0     131.0     367.6\n",
      "115      60.0  108.0     151.0     351.7\n",
      "116      60.0  116.0     141.0     443.0\n",
      "117      60.0   97.0     122.0     277.4\n",
      "119      60.0  103.0     124.0     332.7\n",
      "120      30.0  112.0     137.0     193.9\n",
      "122      60.0  119.0     169.0     336.7\n",
      "124      60.0  111.0     151.0     368.5\n",
      "125      60.0   98.0     122.0     271.0\n",
      "126      60.0   97.0     124.0     275.3\n",
      "127      60.0  109.0     127.0     382.0\n",
      "128      90.0   99.0     125.0     466.4\n",
      "129      60.0  114.0     151.0     384.0\n",
      "130      60.0  104.0     134.0     342.5\n",
      "131      60.0  107.0     138.0     357.5\n",
      "132      60.0  103.0     133.0     335.0\n",
      "133      60.0  106.0     132.0     327.5\n",
      "134      60.0  103.0     136.0     339.0\n",
      "135      20.0  136.0     156.0     189.0\n",
      "136      45.0  117.0     143.0     317.7\n",
      "137      45.0  115.0     137.0     318.0\n",
      "138      45.0  113.0     138.0     308.0\n",
      "139      20.0  141.0     162.0     222.4\n",
      "140      60.0  108.0     135.0     390.0\n",
      "142      45.0  100.0     120.0     250.4\n",
      "143      45.0  122.0     149.0     335.4\n",
      "144      60.0  136.0     170.0     470.2\n",
      "145      45.0  106.0     126.0     270.8\n",
      "146      60.0  107.0     136.0     400.0\n",
      "147      60.0  112.0     146.0     361.9\n",
      "148      30.0  103.0     127.0     185.0\n",
      "149      60.0  110.0     150.0     409.4\n",
      "152      60.0  109.0     138.0     374.0\n",
      "154      60.0  105.0     128.0     328.0\n",
      "156      60.0   97.0     131.0     270.4\n",
      "157      60.0  100.0     120.0     270.4\n",
      "158      60.0  114.0     150.0     382.8\n",
      "159      30.0   80.0     120.0     240.9\n",
      "160      30.0   85.0     120.0     250.4\n",
      "162      45.0   95.0     130.0     270.0\n",
      "165      60.0  110.0     145.0     300.0\n",
      "166      60.0  115.0     145.0     310.2\n",
      "167      75.0  120.0     150.0     320.4\n",
      "168      75.0  125.0     150.0     330.4\n"
     ]
    }
   ],
   "source": [
    "#Remove all rows that contain empty cell( null values) from a given dataframe.\n",
    "\n",
    "df = pd.read_excel(\"data.xlsx\")\n",
    "new_df = df.dropna()\n",
    "print(new_df.to_string())#Return a new dataframe that has no empty cell\n",
    "\n",
    "#print(df.dropna(inplace=True)) #Remove all the rows that has empty cell from the original dataframe\n",
    "#print(df.to_string())"
   ]
  },
  {
   "cell_type": "code",
   "execution_count": 9,
   "id": "b01e0c06",
   "metadata": {},
   "outputs": [
    {
     "name": "stdout",
     "output_type": "stream",
     "text": [
      "None\n"
     ]
    }
   ],
   "source": [
    "#Remove all rows that contain empty cell( null values) from a given dataframe.\n",
    "\n",
    "df = pd.read_csv(\"data.csv\")\n",
    "#print(df.dropna()) #Return a new dataframe that has no empty cell\n",
    "print(df.dropna(inplace=True)) #Remove all the rows that has empty cell from the original dataframe\n",
    "#print(df.to_string())"
   ]
  },
  {
   "cell_type": "code",
   "execution_count": 13,
   "id": "0cddba58",
   "metadata": {},
   "outputs": [
    {
     "name": "stdout",
     "output_type": "stream",
     "text": [
      "None\n",
      "  tickers            eps  revenue price         people\n",
      "0   GOOGL          27.82       87   845     larry page\n",
      "1     WMT           4.61      484    65           n.a.\n",
      "2    MSFT             -1       85    64     bill gates\n",
      "3    RIL   not available       50  1023  mukesh ambani\n",
      "4    TATA            5.6       -1  n.a.     ratan tata\n"
     ]
    }
   ],
   "source": [
    "#Remove all rows that contain empty cell( null values) from a given dataframe.\n",
    "\n",
    "df = pd.read_csv(\"Stock_data.csv\")\n",
    "#print(df.dropna()) #Return a new dataframe that has no empty cell\n",
    "print(df.dropna(inplace=True)) #Remove all the rows that has empty cell from the original dataframe\n",
    "print(df.to_string())"
   ]
  },
  {
   "cell_type": "markdown",
   "id": "8d841606",
   "metadata": {},
   "source": [
    "### Replace Empty Values"
   ]
  },
  {
   "cell_type": "code",
   "execution_count": null,
   "id": "60a52c9e",
   "metadata": {},
   "outputs": [],
   "source": [
    "Another way of dealing with empty cells is to insert a new value instead of removing the cell(s).\n",
    "This way you do not have to delete entire rows just because of some empty cells.\n",
    "\n",
    "fillna()     : Method used to replace empty cells with a value.\n",
    "    \n",
    "We can also replace the null values of a specified column by mentioning the colum name inside square brackets."
   ]
  },
  {
   "cell_type": "code",
   "execution_count": 10,
   "id": "b7651b53",
   "metadata": {},
   "outputs": [
    {
     "name": "stdout",
     "output_type": "stream",
     "text": [
      "    Duration  Pulse Maxpulse Calories\n",
      "0       null  110.0    130.0    409.1\n",
      "1       60.0  117.0    145.0    479.0\n",
      "2       60.0  103.0     null    340.0\n",
      "3       45.0  109.0    175.0    282.4\n",
      "4       null  117.0    148.0    406.0\n",
      "5       60.0  102.0    127.0    300.0\n",
      "6       60.0  110.0    136.0    374.0\n",
      "7       45.0  104.0    134.0    253.3\n",
      "8       30.0   null    133.0    195.1\n",
      "9       60.0   98.0    124.0    269.0\n",
      "10      60.0  103.0    147.0     null\n",
      "11      60.0  100.0    120.0    250.7\n",
      "12      60.0  106.0    128.0    345.3\n",
      "13      60.0  104.0    132.0    379.3\n",
      "14      60.0   98.0    123.0    275.0\n",
      "15      60.0   98.0    120.0    215.2\n",
      "16      60.0  100.0    120.0    300.0\n",
      "17      45.0   90.0    112.0     null\n",
      "18      60.0  103.0    123.0    323.0\n",
      "19      45.0   97.0    125.0    243.0\n",
      "20      60.0  108.0    131.0    364.2\n",
      "21      45.0  100.0    119.0    282.0\n",
      "22      60.0  130.0    101.0    300.0\n",
      "23      45.0  105.0    132.0    246.0\n",
      "24      60.0  102.0    126.0    334.5\n",
      "25      60.0  100.0    120.0    250.0\n",
      "26      60.0   92.0    118.0    241.0\n",
      "27      60.0  103.0    132.0     null\n",
      "28      60.0  100.0    132.0    280.0\n",
      "29      60.0  102.0    129.0    380.3\n",
      "30      60.0   92.0    115.0    243.0\n",
      "31      45.0   90.0    112.0    180.1\n",
      "32      60.0  101.0    124.0    299.0\n",
      "33      60.0   93.0    113.0    223.0\n",
      "34      60.0  107.0    136.0    361.0\n",
      "35      60.0  114.0    140.0    415.0\n",
      "36      60.0  102.0    127.0    300.0\n",
      "37      60.0  100.0    120.0    300.0\n",
      "38      60.0  100.0    120.0    300.0\n",
      "39      45.0  104.0    129.0    266.0\n",
      "40      45.0   90.0    112.0    180.1\n",
      "41      60.0   98.0    126.0    286.0\n",
      "42      60.0  100.0    122.0    329.4\n",
      "43      60.0  111.0    138.0    400.0\n",
      "44      60.0  111.0    131.0    397.0\n",
      "45      60.0   99.0    119.0    273.0\n",
      "46      60.0  109.0    153.0    387.6\n",
      "47      45.0  111.0    136.0    300.0\n",
      "48      45.0  108.0    129.0    298.0\n",
      "49      60.0  111.0    139.0    397.6\n",
      "50      60.0  107.0    136.0    380.2\n",
      "51      80.0  123.0    146.0    643.1\n",
      "52      60.0  106.0    130.0    263.0\n",
      "53      60.0  118.0    151.0    486.0\n",
      "54      30.0  136.0    175.0    238.0\n",
      "55      60.0  121.0    146.0    450.7\n",
      "56      60.0  118.0    121.0    413.0\n",
      "57      45.0  115.0    144.0    305.0\n",
      "58      20.0  153.0    172.0    226.4\n",
      "59      45.0  123.0    152.0    321.0\n",
      "60     210.0  108.0    160.0   1376.0\n",
      "61     160.0  110.0    137.0   1034.4\n",
      "62     160.0  109.0    135.0    853.0\n",
      "63      45.0  118.0    141.0    341.0\n",
      "64      20.0  110.0    130.0    131.4\n",
      "65     180.0   90.0    130.0    800.4\n",
      "66     150.0  105.0    135.0    873.4\n",
      "67     150.0  107.0    130.0    816.0\n",
      "68      20.0  106.0    136.0    110.4\n",
      "69     300.0  108.0    143.0   1500.2\n",
      "70     150.0   97.0    129.0   1115.0\n",
      "71      60.0  109.0    153.0    387.6\n",
      "72      90.0  100.0    127.0    700.0\n",
      "73     150.0   97.0    127.0    953.2\n",
      "74      45.0  114.0    146.0    304.0\n",
      "75      90.0   98.0    125.0    563.2\n",
      "76      45.0  105.0    134.0    251.0\n",
      "77      45.0  110.0    141.0    300.0\n",
      "78     120.0  100.0    130.0    500.4\n",
      "79     270.0  100.0    131.0   1729.0\n",
      "80      30.0  159.0    182.0    319.2\n",
      "81      45.0  149.0    169.0    344.0\n",
      "82      30.0  103.0    139.0    151.1\n",
      "83     120.0  100.0    130.0    500.0\n",
      "84      45.0  100.0    120.0    225.3\n",
      "85      30.0   null    170.0    300.0\n",
      "86      45.0  102.0    136.0    234.0\n",
      "87     120.0  100.0    157.0   1000.1\n",
      "88      45.0  129.0    103.0    242.0\n",
      "89      20.0   83.0    107.0     50.3\n",
      "90     180.0  101.0    127.0    600.1\n",
      "91      45.0  107.0    137.0     null\n",
      "92      30.0   90.0    107.0    105.3\n",
      "93      15.0   80.0    100.0     50.5\n",
      "94      20.0  150.0    171.0    127.4\n",
      "95      20.0  151.0     null    229.4\n",
      "96      30.0   95.0    128.0    128.2\n",
      "97      25.0  152.0    168.0    244.2\n",
      "98      30.0  109.0    131.0    188.2\n",
      "99      90.0   93.0    124.0    604.1\n",
      "100     20.0   95.0    112.0     77.7\n",
      "101     90.0   90.0    110.0    500.0\n",
      "102     90.0   90.0    100.0    500.0\n",
      "103     90.0   90.0     null    500.4\n",
      "104     30.0   92.0    108.0     92.7\n",
      "105     30.0   93.0    128.0    124.0\n",
      "106    180.0   90.0    120.0    800.3\n",
      "107     30.0   90.0    120.0     86.2\n",
      "108     90.0   90.0    120.0    500.3\n",
      "109    210.0  137.0    184.0   1860.4\n",
      "110     60.0   null    124.0    325.2\n",
      "111     45.0  107.0    124.0    275.0\n",
      "112     15.0  124.0    139.0    124.2\n",
      "113     45.0  100.0    120.0    225.3\n",
      "114     60.0  108.0    131.0    367.6\n",
      "115     60.0  108.0    151.0    351.7\n",
      "116     60.0  116.0    141.0    443.0\n",
      "117     60.0   97.0    122.0    277.4\n",
      "118     60.0  105.0    125.0     null\n",
      "119     60.0  103.0    124.0    332.7\n",
      "120     30.0  112.0    137.0    193.9\n",
      "121     null  100.0    120.0    100.7\n",
      "122     60.0  119.0    169.0    336.7\n",
      "123     60.0  107.0     null    344.9\n",
      "124     60.0  111.0    151.0    368.5\n",
      "125     60.0   98.0    122.0    271.0\n",
      "126     60.0   97.0    124.0    275.3\n",
      "127     60.0  109.0    127.0    382.0\n",
      "128     90.0   99.0    125.0    466.4\n",
      "129     60.0  114.0    151.0    384.0\n",
      "130     60.0  104.0    134.0    342.5\n",
      "131     60.0  107.0    138.0    357.5\n",
      "132     60.0  103.0    133.0    335.0\n",
      "133     60.0  106.0    132.0    327.5\n",
      "134     60.0  103.0    136.0    339.0\n",
      "135     20.0  136.0    156.0    189.0\n",
      "136     45.0  117.0    143.0    317.7\n",
      "137     45.0  115.0    137.0    318.0\n",
      "138     45.0  113.0    138.0    308.0\n",
      "139     20.0  141.0    162.0    222.4\n",
      "140     60.0  108.0    135.0    390.0\n",
      "141     60.0   97.0    127.0     null\n",
      "142     45.0  100.0    120.0    250.4\n",
      "143     45.0  122.0    149.0    335.4\n",
      "144     60.0  136.0    170.0    470.2\n",
      "145     45.0  106.0    126.0    270.8\n",
      "146     60.0  107.0    136.0    400.0\n",
      "147     60.0  112.0    146.0    361.9\n",
      "148     30.0  103.0    127.0    185.0\n",
      "149     60.0  110.0    150.0    409.4\n",
      "150     null  106.0    134.0    343.0\n",
      "151     60.0   null    129.0    353.2\n",
      "152     60.0  109.0    138.0    374.0\n",
      "153     30.0   null    167.0    275.8\n",
      "154     60.0  105.0    128.0    328.0\n",
      "155     60.0  111.0    151.0     null\n",
      "156     60.0   97.0    131.0    270.4\n",
      "157     60.0  100.0    120.0    270.4\n",
      "158     60.0  114.0    150.0    382.8\n",
      "159     30.0   80.0    120.0    240.9\n",
      "160     30.0   85.0    120.0    250.4\n",
      "161     45.0   null    130.0    260.4\n",
      "162     45.0   95.0    130.0    270.0\n",
      "163     null  100.0    140.0    280.9\n",
      "164     60.0  105.0     null    290.8\n",
      "165     60.0  110.0    145.0    300.0\n",
      "166     60.0  115.0    145.0    310.2\n",
      "167     75.0  120.0    150.0    320.4\n",
      "168     75.0  125.0    150.0    330.4\n"
     ]
    }
   ],
   "source": [
    "#Replace NULL values with the number Null:\n",
    "\n",
    "\n",
    "df = pd.read_excel('data.xlsx')\n",
    "df.fillna('null', inplace = True)\n",
    "print(df.to_string())\n",
    "\n",
    "#Notice in the result: empty cells will get value 'null'"
   ]
  },
  {
   "cell_type": "code",
   "execution_count": 13,
   "id": "5bfa7d40",
   "metadata": {},
   "outputs": [
    {
     "name": "stdout",
     "output_type": "stream",
     "text": [
      "    Duration  Pulse  Maxpulse  Calories\n",
      "0         NA  110.0     130.0     409.1\n",
      "1       60.0  117.0     145.0     479.0\n",
      "2       60.0  103.0       NaN     340.0\n",
      "3       45.0  109.0     175.0     282.4\n",
      "4         NA  117.0     148.0     406.0\n",
      "5       60.0  102.0     127.0     300.0\n",
      "6       60.0  110.0     136.0     374.0\n",
      "7       45.0  104.0     134.0     253.3\n",
      "8       30.0    NaN     133.0     195.1\n",
      "9       60.0   98.0     124.0     269.0\n",
      "10      60.0  103.0     147.0       NaN\n",
      "11      60.0  100.0     120.0     250.7\n",
      "12      60.0  106.0     128.0     345.3\n",
      "13      60.0  104.0     132.0     379.3\n",
      "14      60.0   98.0     123.0     275.0\n",
      "15      60.0   98.0     120.0     215.2\n",
      "16      60.0  100.0     120.0     300.0\n",
      "17      45.0   90.0     112.0       NaN\n",
      "18      60.0  103.0     123.0     323.0\n",
      "19      45.0   97.0     125.0     243.0\n",
      "20      60.0  108.0     131.0     364.2\n",
      "21      45.0  100.0     119.0     282.0\n",
      "22      60.0  130.0     101.0     300.0\n",
      "23      45.0  105.0     132.0     246.0\n",
      "24      60.0  102.0     126.0     334.5\n",
      "25      60.0  100.0     120.0     250.0\n",
      "26      60.0   92.0     118.0     241.0\n",
      "27      60.0  103.0     132.0       NaN\n",
      "28      60.0  100.0     132.0     280.0\n",
      "29      60.0  102.0     129.0     380.3\n",
      "30      60.0   92.0     115.0     243.0\n",
      "31      45.0   90.0     112.0     180.1\n",
      "32      60.0  101.0     124.0     299.0\n",
      "33      60.0   93.0     113.0     223.0\n",
      "34      60.0  107.0     136.0     361.0\n",
      "35      60.0  114.0     140.0     415.0\n",
      "36      60.0  102.0     127.0     300.0\n",
      "37      60.0  100.0     120.0     300.0\n",
      "38      60.0  100.0     120.0     300.0\n",
      "39      45.0  104.0     129.0     266.0\n",
      "40      45.0   90.0     112.0     180.1\n",
      "41      60.0   98.0     126.0     286.0\n",
      "42      60.0  100.0     122.0     329.4\n",
      "43      60.0  111.0     138.0     400.0\n",
      "44      60.0  111.0     131.0     397.0\n",
      "45      60.0   99.0     119.0     273.0\n",
      "46      60.0  109.0     153.0     387.6\n",
      "47      45.0  111.0     136.0     300.0\n",
      "48      45.0  108.0     129.0     298.0\n",
      "49      60.0  111.0     139.0     397.6\n",
      "50      60.0  107.0     136.0     380.2\n",
      "51      80.0  123.0     146.0     643.1\n",
      "52      60.0  106.0     130.0     263.0\n",
      "53      60.0  118.0     151.0     486.0\n",
      "54      30.0  136.0     175.0     238.0\n",
      "55      60.0  121.0     146.0     450.7\n",
      "56      60.0  118.0     121.0     413.0\n",
      "57      45.0  115.0     144.0     305.0\n",
      "58      20.0  153.0     172.0     226.4\n",
      "59      45.0  123.0     152.0     321.0\n",
      "60     210.0  108.0     160.0    1376.0\n",
      "61     160.0  110.0     137.0    1034.4\n",
      "62     160.0  109.0     135.0     853.0\n",
      "63      45.0  118.0     141.0     341.0\n",
      "64      20.0  110.0     130.0     131.4\n",
      "65     180.0   90.0     130.0     800.4\n",
      "66     150.0  105.0     135.0     873.4\n",
      "67     150.0  107.0     130.0     816.0\n",
      "68      20.0  106.0     136.0     110.4\n",
      "69     300.0  108.0     143.0    1500.2\n",
      "70     150.0   97.0     129.0    1115.0\n",
      "71      60.0  109.0     153.0     387.6\n",
      "72      90.0  100.0     127.0     700.0\n",
      "73     150.0   97.0     127.0     953.2\n",
      "74      45.0  114.0     146.0     304.0\n",
      "75      90.0   98.0     125.0     563.2\n",
      "76      45.0  105.0     134.0     251.0\n",
      "77      45.0  110.0     141.0     300.0\n",
      "78     120.0  100.0     130.0     500.4\n",
      "79     270.0  100.0     131.0    1729.0\n",
      "80      30.0  159.0     182.0     319.2\n",
      "81      45.0  149.0     169.0     344.0\n",
      "82      30.0  103.0     139.0     151.1\n",
      "83     120.0  100.0     130.0     500.0\n",
      "84      45.0  100.0     120.0     225.3\n",
      "85      30.0    NaN     170.0     300.0\n",
      "86      45.0  102.0     136.0     234.0\n",
      "87     120.0  100.0     157.0    1000.1\n",
      "88      45.0  129.0     103.0     242.0\n",
      "89      20.0   83.0     107.0      50.3\n",
      "90     180.0  101.0     127.0     600.1\n",
      "91      45.0  107.0     137.0       NaN\n",
      "92      30.0   90.0     107.0     105.3\n",
      "93      15.0   80.0     100.0      50.5\n",
      "94      20.0  150.0     171.0     127.4\n",
      "95      20.0  151.0       NaN     229.4\n",
      "96      30.0   95.0     128.0     128.2\n",
      "97      25.0  152.0     168.0     244.2\n",
      "98      30.0  109.0     131.0     188.2\n",
      "99      90.0   93.0     124.0     604.1\n",
      "100     20.0   95.0     112.0      77.7\n",
      "101     90.0   90.0     110.0     500.0\n",
      "102     90.0   90.0     100.0     500.0\n",
      "103     90.0   90.0       NaN     500.4\n",
      "104     30.0   92.0     108.0      92.7\n",
      "105     30.0   93.0     128.0     124.0\n",
      "106    180.0   90.0     120.0     800.3\n",
      "107     30.0   90.0     120.0      86.2\n",
      "108     90.0   90.0     120.0     500.3\n",
      "109    210.0  137.0     184.0    1860.4\n",
      "110     60.0    NaN     124.0     325.2\n",
      "111     45.0  107.0     124.0     275.0\n",
      "112     15.0  124.0     139.0     124.2\n",
      "113     45.0  100.0     120.0     225.3\n",
      "114     60.0  108.0     131.0     367.6\n",
      "115     60.0  108.0     151.0     351.7\n",
      "116     60.0  116.0     141.0     443.0\n",
      "117     60.0   97.0     122.0     277.4\n",
      "118     60.0  105.0     125.0       NaN\n",
      "119     60.0  103.0     124.0     332.7\n",
      "120     30.0  112.0     137.0     193.9\n",
      "121       NA  100.0     120.0     100.7\n",
      "122     60.0  119.0     169.0     336.7\n",
      "123     60.0  107.0       NaN     344.9\n",
      "124     60.0  111.0     151.0     368.5\n",
      "125     60.0   98.0     122.0     271.0\n",
      "126     60.0   97.0     124.0     275.3\n",
      "127     60.0  109.0     127.0     382.0\n",
      "128     90.0   99.0     125.0     466.4\n",
      "129     60.0  114.0     151.0     384.0\n",
      "130     60.0  104.0     134.0     342.5\n",
      "131     60.0  107.0     138.0     357.5\n",
      "132     60.0  103.0     133.0     335.0\n",
      "133     60.0  106.0     132.0     327.5\n",
      "134     60.0  103.0     136.0     339.0\n",
      "135     20.0  136.0     156.0     189.0\n",
      "136     45.0  117.0     143.0     317.7\n",
      "137     45.0  115.0     137.0     318.0\n",
      "138     45.0  113.0     138.0     308.0\n",
      "139     20.0  141.0     162.0     222.4\n",
      "140     60.0  108.0     135.0     390.0\n",
      "141     60.0   97.0     127.0       NaN\n",
      "142     45.0  100.0     120.0     250.4\n",
      "143     45.0  122.0     149.0     335.4\n",
      "144     60.0  136.0     170.0     470.2\n",
      "145     45.0  106.0     126.0     270.8\n",
      "146     60.0  107.0     136.0     400.0\n",
      "147     60.0  112.0     146.0     361.9\n",
      "148     30.0  103.0     127.0     185.0\n",
      "149     60.0  110.0     150.0     409.4\n",
      "150       NA  106.0     134.0     343.0\n",
      "151     60.0    NaN     129.0     353.2\n",
      "152     60.0  109.0     138.0     374.0\n",
      "153     30.0    NaN     167.0     275.8\n",
      "154     60.0  105.0     128.0     328.0\n",
      "155     60.0  111.0     151.0       NaN\n",
      "156     60.0   97.0     131.0     270.4\n",
      "157     60.0  100.0     120.0     270.4\n",
      "158     60.0  114.0     150.0     382.8\n",
      "159     30.0   80.0     120.0     240.9\n",
      "160     30.0   85.0     120.0     250.4\n",
      "161     45.0    NaN     130.0     260.4\n",
      "162     45.0   95.0     130.0     270.0\n",
      "163       NA  100.0     140.0     280.9\n",
      "164     60.0  105.0       NaN     290.8\n",
      "165     60.0  110.0     145.0     300.0\n",
      "166     60.0  115.0     145.0     310.2\n",
      "167     75.0  120.0     150.0     320.4\n",
      "168     75.0  125.0     150.0     330.4\n"
     ]
    }
   ],
   "source": [
    "#To only replace empty values for one column, specify the column name for the DataFrame.\n",
    "\n",
    "df = pd.read_excel(\"data.xlsx\")\n",
    "df[\"Duration\"].fillna(\"NA\",inplace=True)\n",
    "print(df.to_string())\n",
    "\n",
    "#Notice in the result: empty cells of \"Duration\" column  will get the value 'NA'"
   ]
  },
  {
   "cell_type": "markdown",
   "id": "d8715ee1",
   "metadata": {},
   "source": [
    "### Replace Using Mean, Median, or Mode"
   ]
  },
  {
   "cell_type": "code",
   "execution_count": null,
   "id": "038289e4",
   "metadata": {},
   "outputs": [],
   "source": [
    "A common way to replace empty cells, is to calculate the mean, median or mode value of the column.\n",
    "\n",
    "Pandas uses the follwing function:\n",
    "    \n",
    "mean()   : Method to calculate mean [ the average value (the sum of all values divided by number of values)]\n",
    "median() : Method to calculate median [the value in the middle, after you have sorted all values ascending]\n",
    "mode()   : Method to calculate mode  [the value that appears most frequently]"
   ]
  },
  {
   "cell_type": "code",
   "execution_count": 16,
   "id": "ee6e294a",
   "metadata": {},
   "outputs": [
    {
     "name": "stdout",
     "output_type": "stream",
     "text": [
      "     Duration  Pulse  Maxpulse  Calories\n",
      "0      317.85  110.0     130.0     409.1\n",
      "1       60.00  117.0     145.0     479.0\n",
      "2       60.00  103.0       NaN     340.0\n",
      "3       45.00  109.0     175.0     282.4\n",
      "4      317.85  117.0     148.0     406.0\n",
      "5       60.00  102.0     127.0     300.0\n",
      "6       60.00  110.0     136.0     374.0\n",
      "7       45.00  104.0     134.0     253.3\n",
      "8       30.00    NaN     133.0     195.1\n",
      "9       60.00   98.0     124.0     269.0\n",
      "10      60.00  103.0     147.0       NaN\n",
      "11      60.00  100.0     120.0     250.7\n",
      "12      60.00  106.0     128.0     345.3\n",
      "13      60.00  104.0     132.0     379.3\n",
      "14      60.00   98.0     123.0     275.0\n",
      "15      60.00   98.0     120.0     215.2\n",
      "16      60.00  100.0     120.0     300.0\n",
      "17      45.00   90.0     112.0       NaN\n",
      "18      60.00  103.0     123.0     323.0\n",
      "19      45.00   97.0     125.0     243.0\n",
      "20      60.00  108.0     131.0     364.2\n",
      "21      45.00  100.0     119.0     282.0\n",
      "22      60.00  130.0     101.0     300.0\n",
      "23      45.00  105.0     132.0     246.0\n",
      "24      60.00  102.0     126.0     334.5\n",
      "25      60.00  100.0     120.0     250.0\n",
      "26      60.00   92.0     118.0     241.0\n",
      "27      60.00  103.0     132.0       NaN\n",
      "28      60.00  100.0     132.0     280.0\n",
      "29      60.00  102.0     129.0     380.3\n",
      "30      60.00   92.0     115.0     243.0\n",
      "31      45.00   90.0     112.0     180.1\n",
      "32      60.00  101.0     124.0     299.0\n",
      "33      60.00   93.0     113.0     223.0\n",
      "34      60.00  107.0     136.0     361.0\n",
      "35      60.00  114.0     140.0     415.0\n",
      "36      60.00  102.0     127.0     300.0\n",
      "37      60.00  100.0     120.0     300.0\n",
      "38      60.00  100.0     120.0     300.0\n",
      "39      45.00  104.0     129.0     266.0\n",
      "40      45.00   90.0     112.0     180.1\n",
      "41      60.00   98.0     126.0     286.0\n",
      "42      60.00  100.0     122.0     329.4\n",
      "43      60.00  111.0     138.0     400.0\n",
      "44      60.00  111.0     131.0     397.0\n",
      "45      60.00   99.0     119.0     273.0\n",
      "46      60.00  109.0     153.0     387.6\n",
      "47      45.00  111.0     136.0     300.0\n",
      "48      45.00  108.0     129.0     298.0\n",
      "49      60.00  111.0     139.0     397.6\n",
      "50      60.00  107.0     136.0     380.2\n",
      "51      80.00  123.0     146.0     643.1\n",
      "52      60.00  106.0     130.0     263.0\n",
      "53      60.00  118.0     151.0     486.0\n",
      "54      30.00  136.0     175.0     238.0\n",
      "55      60.00  121.0     146.0     450.7\n",
      "56      60.00  118.0     121.0     413.0\n",
      "57      45.00  115.0     144.0     305.0\n",
      "58      20.00  153.0     172.0     226.4\n",
      "59      45.00  123.0     152.0     321.0\n",
      "60     210.00  108.0     160.0    1376.0\n",
      "61     160.00  110.0     137.0    1034.4\n",
      "62     160.00  109.0     135.0     853.0\n",
      "63      45.00  118.0     141.0     341.0\n",
      "64      20.00  110.0     130.0     131.4\n",
      "65     180.00   90.0     130.0     800.4\n",
      "66     150.00  105.0     135.0     873.4\n",
      "67     150.00  107.0     130.0     816.0\n",
      "68      20.00  106.0     136.0     110.4\n",
      "69     300.00  108.0     143.0    1500.2\n",
      "70     150.00   97.0     129.0    1115.0\n",
      "71      60.00  109.0     153.0     387.6\n",
      "72      90.00  100.0     127.0     700.0\n",
      "73     150.00   97.0     127.0     953.2\n",
      "74      45.00  114.0     146.0     304.0\n",
      "75      90.00   98.0     125.0     563.2\n",
      "76      45.00  105.0     134.0     251.0\n",
      "77      45.00  110.0     141.0     300.0\n",
      "78     120.00  100.0     130.0     500.4\n",
      "79     270.00  100.0     131.0    1729.0\n",
      "80      30.00  159.0     182.0     319.2\n",
      "81      45.00  149.0     169.0     344.0\n",
      "82      30.00  103.0     139.0     151.1\n",
      "83     120.00  100.0     130.0     500.0\n",
      "84      45.00  100.0     120.0     225.3\n",
      "85      30.00    NaN     170.0     300.0\n",
      "86      45.00  102.0     136.0     234.0\n",
      "87     120.00  100.0     157.0    1000.1\n",
      "88      45.00  129.0     103.0     242.0\n",
      "89      20.00   83.0     107.0      50.3\n",
      "90     180.00  101.0     127.0     600.1\n",
      "91      45.00  107.0     137.0       NaN\n",
      "92      30.00   90.0     107.0     105.3\n",
      "93      15.00   80.0     100.0      50.5\n",
      "94      20.00  150.0     171.0     127.4\n",
      "95      20.00  151.0       NaN     229.4\n",
      "96      30.00   95.0     128.0     128.2\n",
      "97      25.00  152.0     168.0     244.2\n",
      "98      30.00  109.0     131.0     188.2\n",
      "99      90.00   93.0     124.0     604.1\n",
      "100     20.00   95.0     112.0      77.7\n",
      "101     90.00   90.0     110.0     500.0\n",
      "102     90.00   90.0     100.0     500.0\n",
      "103     90.00   90.0       NaN     500.4\n",
      "104     30.00   92.0     108.0      92.7\n",
      "105     30.00   93.0     128.0     124.0\n",
      "106    180.00   90.0     120.0     800.3\n",
      "107     30.00   90.0     120.0      86.2\n",
      "108     90.00   90.0     120.0     500.3\n",
      "109    210.00  137.0     184.0    1860.4\n",
      "110     60.00    NaN     124.0     325.2\n",
      "111     45.00  107.0     124.0     275.0\n",
      "112     15.00  124.0     139.0     124.2\n",
      "113     45.00  100.0     120.0     225.3\n",
      "114     60.00  108.0     131.0     367.6\n",
      "115     60.00  108.0     151.0     351.7\n",
      "116     60.00  116.0     141.0     443.0\n",
      "117     60.00   97.0     122.0     277.4\n",
      "118     60.00  105.0     125.0       NaN\n",
      "119     60.00  103.0     124.0     332.7\n",
      "120     30.00  112.0     137.0     193.9\n",
      "121    317.85  100.0     120.0     100.7\n",
      "122     60.00  119.0     169.0     336.7\n",
      "123     60.00  107.0       NaN     344.9\n",
      "124     60.00  111.0     151.0     368.5\n",
      "125     60.00   98.0     122.0     271.0\n",
      "126     60.00   97.0     124.0     275.3\n",
      "127     60.00  109.0     127.0     382.0\n",
      "128     90.00   99.0     125.0     466.4\n",
      "129     60.00  114.0     151.0     384.0\n",
      "130     60.00  104.0     134.0     342.5\n",
      "131     60.00  107.0     138.0     357.5\n",
      "132     60.00  103.0     133.0     335.0\n",
      "133     60.00  106.0     132.0     327.5\n",
      "134     60.00  103.0     136.0     339.0\n",
      "135     20.00  136.0     156.0     189.0\n",
      "136     45.00  117.0     143.0     317.7\n",
      "137     45.00  115.0     137.0     318.0\n",
      "138     45.00  113.0     138.0     308.0\n",
      "139     20.00  141.0     162.0     222.4\n",
      "140     60.00  108.0     135.0     390.0\n",
      "141     60.00   97.0     127.0       NaN\n",
      "142     45.00  100.0     120.0     250.4\n",
      "143     45.00  122.0     149.0     335.4\n",
      "144     60.00  136.0     170.0     470.2\n",
      "145     45.00  106.0     126.0     270.8\n",
      "146     60.00  107.0     136.0     400.0\n",
      "147     60.00  112.0     146.0     361.9\n",
      "148     30.00  103.0     127.0     185.0\n",
      "149     60.00  110.0     150.0     409.4\n",
      "150    317.85  106.0     134.0     343.0\n",
      "151     60.00    NaN     129.0     353.2\n",
      "152     60.00  109.0     138.0     374.0\n",
      "153     30.00    NaN     167.0     275.8\n",
      "154     60.00  105.0     128.0     328.0\n",
      "155     60.00  111.0     151.0       NaN\n",
      "156     60.00   97.0     131.0     270.4\n",
      "157     60.00  100.0     120.0     270.4\n",
      "158     60.00  114.0     150.0     382.8\n",
      "159     30.00   80.0     120.0     240.9\n",
      "160     30.00   85.0     120.0     250.4\n",
      "161     45.00    NaN     130.0     260.4\n",
      "162     45.00   95.0     130.0     270.0\n",
      "163    317.85  100.0     140.0     280.9\n",
      "164     60.00  105.0       NaN     290.8\n",
      "165     60.00  110.0     145.0     300.0\n",
      "166     60.00  115.0     145.0     310.2\n",
      "167     75.00  120.0     150.0     320.4\n",
      "168     75.00  125.0     150.0     330.4\n"
     ]
    }
   ],
   "source": [
    "# Calculate the Median, and replace any empty values with it.\n",
    "\n",
    "df = pd.read_excel(\"data.xlsx\")\n",
    "n = df[\"Calories\"].median()\n",
    "#m = df[\"Calories\"].mean()\n",
    "df[\"Duration\"].fillna(n,inplace=True) #Replace empty cell with median value\n",
    "#df[\"Duration\"].fillna(m,inplace=True) #Replace empty cell with mean value\n",
    "print(df.to_string())\n",
    "\n",
    "#Notice in the result: empty cells of column \"Calories\" will get median value '317.85'"
   ]
  },
  {
   "cell_type": "markdown",
   "id": "f9b27f4f",
   "metadata": {},
   "source": [
    "### Cleaning Data of Wrong Format"
   ]
  },
  {
   "cell_type": "code",
   "execution_count": null,
   "id": "b2a52fb8",
   "metadata": {},
   "outputs": [],
   "source": [
    "Cells with data of wrong format can make it difficult to analyze data.\n",
    "There are two waus to remove datas with wrong format:\n",
    "    \n",
    "    1. Remove the entire rows that contain data of wrong format.\n",
    "    2. Convert all cells in the columns into the same format."
   ]
  },
  {
   "cell_type": "code",
   "execution_count": 25,
   "id": "2c0c7a68",
   "metadata": {},
   "outputs": [
    {
     "name": "stdout",
     "output_type": "stream",
     "text": [
      "            Date  Temperature  Windspeed  Event\n",
      "0   '2020/12/01'           32          6   Rain\n",
      "1   '2020/12/02'           35          7  Sunny\n",
      "2   '2020/12/03'           28          2   Snow\n",
      "3       20201204           24          7   Snow\n",
      "4            NaN           32          4   Rain\n",
      "5   '2020/12/06'           31          2  Sunny\n"
     ]
    }
   ],
   "source": [
    "# Convert all cells in the columns into the same format.\n",
    "# In our Data Frame, we have two cells with the wrong format. \n",
    "#Check out row 3 and 4, the 'date' column should be a string that represents a date:\n",
    "\n",
    "df = pd.read_csv(\"Weather_data.csv\")\n",
    "print(df)"
   ]
  },
  {
   "cell_type": "markdown",
   "id": "e13585ef",
   "metadata": {},
   "source": [
    "##### Convert all cells in the columns into the same format."
   ]
  },
  {
   "cell_type": "code",
   "execution_count": 26,
   "id": "8afcaf0c",
   "metadata": {},
   "outputs": [
    {
     "name": "stdout",
     "output_type": "stream",
     "text": [
      "        Date  Temperature  Windspeed  Event\n",
      "0 2020-12-01           32          6   Rain\n",
      "1 2020-12-02           35          7  Sunny\n",
      "2 2020-12-03           28          2   Snow\n",
      "3 2020-12-04           24          7   Snow\n",
      "4        NaT           32          4   Rain\n",
      "5 2020-12-06           31          2  Sunny\n"
     ]
    }
   ],
   "source": [
    "# To convert all cells in the 'Date' column into dates.\n",
    "# Pandas has a to_datetime() method for this.\n",
    "\n",
    "\n",
    "df = pd.read_csv('Weather_data.csv')\n",
    "\n",
    "df['Date'] = pd.to_datetime(df['Date'])\n",
    "print(df.to_string())"
   ]
  },
  {
   "cell_type": "code",
   "execution_count": null,
   "id": "7b6bb740",
   "metadata": {},
   "outputs": [],
   "source": [
    "As you can see from the result:\n",
    "    \n",
    "The date in row 3 was fixed, \n",
    "row 4 got a NaT (Not a Time) value, in other words an empty value. \n",
    "\n",
    "One way to deal with empty values is simply removing the entire row."
   ]
  },
  {
   "cell_type": "markdown",
   "id": "8803688b",
   "metadata": {},
   "source": [
    "##### Removing Rows with wrong data\n",
    "\n",
    "dropna() : Method to remove rows having null values."
   ]
  },
  {
   "cell_type": "code",
   "execution_count": 27,
   "id": "710bf38f",
   "metadata": {},
   "outputs": [
    {
     "name": "stdout",
     "output_type": "stream",
     "text": [
      "        Date  Temperature  Windspeed  Event\n",
      "0 2020-12-01           32          6   Rain\n",
      "1 2020-12-02           35          7  Sunny\n",
      "2 2020-12-03           28          2   Snow\n",
      "3 2020-12-04           24          7   Snow\n",
      "5 2020-12-06           31          2  Sunny\n"
     ]
    }
   ],
   "source": [
    "#Remove rows with a NULL value in the \"Date\" column:\n",
    "\n",
    "df.dropna(subset=['Date'], inplace = True)\n",
    "print(df.to_string()) # row with date value null (Nat) has been removed."
   ]
  },
  {
   "cell_type": "markdown",
   "id": "554f6b0a",
   "metadata": {},
   "source": [
    "### Removing Duplicates"
   ]
  },
  {
   "cell_type": "code",
   "execution_count": null,
   "id": "8df86ed2",
   "metadata": {},
   "outputs": [],
   "source": [
    "Duplicate rows are rows that have been registered more than one time.\n",
    "\n",
    "duplicated()       : Method to discover duplicate rows. This method returns True for every row that is a duplicate, \n",
    "                     othwerwise False.\n",
    "        \n",
    "drop_duplicates()  : Method to remove duplicate rows."
   ]
  },
  {
   "cell_type": "code",
   "execution_count": 37,
   "id": "568ab752",
   "metadata": {},
   "outputs": [
    {
     "name": "stdout",
     "output_type": "stream",
     "text": [
      "0      False\n",
      "1      False\n",
      "2      False\n",
      "3      False\n",
      "4      False\n",
      "5      False\n",
      "6      False\n",
      "7       True\n",
      "8      False\n",
      "9      False\n",
      "10      True\n",
      "11      True\n",
      "12      True\n",
      "13     False\n",
      "14     False\n",
      "15     False\n",
      "16     False\n",
      "17      True\n",
      "18     False\n",
      "19      True\n",
      "20     False\n",
      "21      True\n",
      "22     False\n",
      "23     False\n",
      "24     False\n",
      "25     False\n",
      "26     False\n",
      "27      True\n",
      "28      True\n",
      "29     False\n",
      "30      True\n",
      "31     False\n",
      "32     False\n",
      "33     False\n",
      "34     False\n",
      "35     False\n",
      "36     False\n",
      "37     False\n",
      "38     False\n",
      "39     False\n",
      "40     False\n",
      "41     False\n",
      "42     False\n",
      "43     False\n",
      "44     False\n",
      "45     False\n",
      "46      True\n",
      "47      True\n",
      "48      True\n",
      "49     False\n",
      "50      True\n",
      "51     False\n",
      "52     False\n",
      "53     False\n",
      "54     False\n",
      "55     False\n",
      "56     False\n",
      "57     False\n",
      "58     False\n",
      "59     False\n",
      "60     False\n",
      "61     False\n",
      "62     False\n",
      "63     False\n",
      "64     False\n",
      "65     False\n",
      "66     False\n",
      "67     False\n",
      "68     False\n",
      "69     False\n",
      "70     False\n",
      "71     False\n",
      "72     False\n",
      "73     False\n",
      "74     False\n",
      "75     False\n",
      "76     False\n",
      "77     False\n",
      "78     False\n",
      "79     False\n",
      "80     False\n",
      "81      True\n",
      "82     False\n",
      "83     False\n",
      "84     False\n",
      "85     False\n",
      "86     False\n",
      "87     False\n",
      "88     False\n",
      "89     False\n",
      "90     False\n",
      "91     False\n",
      "92     False\n",
      "93     False\n",
      "94     False\n",
      "95     False\n",
      "96     False\n",
      "97     False\n",
      "98     False\n",
      "99     False\n",
      "100    False\n",
      "101    False\n",
      "102    False\n",
      "103    False\n",
      "104    False\n",
      "105    False\n",
      "106    False\n",
      "107    False\n",
      "108    False\n",
      "109    False\n",
      "110    False\n",
      "111    False\n",
      "112    False\n",
      "113    False\n",
      "114    False\n",
      "115    False\n",
      "116    False\n",
      "117    False\n",
      "118    False\n",
      "119    False\n",
      "120    False\n",
      "121    False\n",
      "122    False\n",
      "123     True\n",
      "124    False\n",
      "125    False\n",
      "126    False\n",
      "127    False\n",
      "128    False\n",
      "129    False\n",
      "130    False\n",
      "131    False\n",
      "132    False\n",
      "133    False\n",
      "134    False\n",
      "135    False\n",
      "136    False\n",
      "137    False\n",
      "138    False\n",
      "139    False\n",
      "140    False\n",
      "141    False\n",
      "142    False\n",
      "143    False\n",
      "144    False\n",
      "145    False\n",
      "146    False\n",
      "147    False\n",
      "148    False\n",
      "149    False\n",
      "150    False\n",
      "151    False\n",
      "152    False\n",
      "153    False\n",
      "154    False\n",
      "155    False\n",
      "156    False\n",
      "157    False\n",
      "158    False\n",
      "159    False\n",
      "160    False\n",
      "161    False\n",
      "162    False\n",
      "163    False\n",
      "164    False\n",
      "165     True\n",
      "166    False\n",
      "167    False\n",
      "168    False\n",
      "169    False\n",
      "170    False\n",
      "171    False\n",
      "172    False\n",
      "173    False\n",
      "174    False\n",
      "175    False\n",
      "176    False\n",
      "177    False\n",
      "178    False\n"
     ]
    }
   ],
   "source": [
    "#Discover duplicates from a given dataframe.\n",
    "\n",
    "df = pd.read_csv(\"data.csv\")\n",
    "df1 = df.duplicated() # True - duplicated row , False - not a duplicate row\n",
    "print(df1.to_string())"
   ]
  },
  {
   "cell_type": "code",
   "execution_count": 41,
   "id": "45b56928",
   "metadata": {},
   "outputs": [
    {
     "name": "stdout",
     "output_type": "stream",
     "text": [
      "0      False\n",
      "1      False\n",
      "2      False\n",
      "3      False\n",
      "4      False\n",
      "5      False\n",
      "6      False\n",
      "8      False\n",
      "9      False\n",
      "13     False\n",
      "14     False\n",
      "15     False\n",
      "16     False\n",
      "18     False\n",
      "20     False\n",
      "22     False\n",
      "23     False\n",
      "24     False\n",
      "25     False\n",
      "26     False\n",
      "29     False\n",
      "31     False\n",
      "32     False\n",
      "33     False\n",
      "34     False\n",
      "35     False\n",
      "36     False\n",
      "37     False\n",
      "38     False\n",
      "39     False\n",
      "40     False\n",
      "41     False\n",
      "42     False\n",
      "43     False\n",
      "44     False\n",
      "45     False\n",
      "49     False\n",
      "51     False\n",
      "52     False\n",
      "53     False\n",
      "54     False\n",
      "55     False\n",
      "56     False\n",
      "57     False\n",
      "58     False\n",
      "59     False\n",
      "60     False\n",
      "61     False\n",
      "62     False\n",
      "63     False\n",
      "64     False\n",
      "65     False\n",
      "66     False\n",
      "67     False\n",
      "68     False\n",
      "69     False\n",
      "70     False\n",
      "71     False\n",
      "72     False\n",
      "73     False\n",
      "74     False\n",
      "75     False\n",
      "76     False\n",
      "77     False\n",
      "78     False\n",
      "79     False\n",
      "80     False\n",
      "82     False\n",
      "83     False\n",
      "84     False\n",
      "85     False\n",
      "86     False\n",
      "87     False\n",
      "88     False\n",
      "89     False\n",
      "90     False\n",
      "91     False\n",
      "92     False\n",
      "93     False\n",
      "94     False\n",
      "95     False\n",
      "96     False\n",
      "97     False\n",
      "98     False\n",
      "99     False\n",
      "100    False\n",
      "101    False\n",
      "102    False\n",
      "103    False\n",
      "104    False\n",
      "105    False\n",
      "106    False\n",
      "107    False\n",
      "108    False\n",
      "109    False\n",
      "110    False\n",
      "111    False\n",
      "112    False\n",
      "113    False\n",
      "114    False\n",
      "115    False\n",
      "116    False\n",
      "117    False\n",
      "118    False\n",
      "119    False\n",
      "120    False\n",
      "121    False\n",
      "122    False\n",
      "124    False\n",
      "125    False\n",
      "126    False\n",
      "127    False\n",
      "128    False\n",
      "129    False\n",
      "130    False\n",
      "131    False\n",
      "132    False\n",
      "133    False\n",
      "134    False\n",
      "135    False\n",
      "136    False\n",
      "137    False\n",
      "138    False\n",
      "139    False\n",
      "140    False\n",
      "141    False\n",
      "142    False\n",
      "143    False\n",
      "144    False\n",
      "145    False\n",
      "146    False\n",
      "147    False\n",
      "148    False\n",
      "149    False\n",
      "150    False\n",
      "151    False\n",
      "152    False\n",
      "153    False\n",
      "154    False\n",
      "155    False\n",
      "156    False\n",
      "157    False\n",
      "158    False\n",
      "159    False\n",
      "160    False\n",
      "161    False\n",
      "162    False\n",
      "163    False\n",
      "164    False\n",
      "166    False\n",
      "167    False\n",
      "168    False\n",
      "169    False\n",
      "170    False\n",
      "171    False\n",
      "172    False\n",
      "173    False\n",
      "174    False\n",
      "175    False\n",
      "176    False\n",
      "177    False\n",
      "178    False\n"
     ]
    }
   ],
   "source": [
    "#Remove duplicated rows\n",
    "\n",
    "df = pd.read_csv(\"data.csv\")\n",
    "df.drop_duplicates(inplace = True) # Dropped the duplicated rows\n",
    "df1 = df.duplicated() # (Check again after dropping the duplicated rows, True - duplicated row , False - not a duplicate row\n",
    "print(df1.to_string()) # output shows only 'False' value means no duplicated rows."
   ]
  },
  {
   "cell_type": "markdown",
   "id": "37fe57dc",
   "metadata": {},
   "source": [
    "### Group By function\n",
    "\n",
    "Pandas dataframe.groupby() function is used to split the data into groups based on some criteria. This function retuns a  GroupBy object."
   ]
  },
  {
   "cell_type": "code",
   "execution_count": 42,
   "id": "41651ed1",
   "metadata": {},
   "outputs": [
    {
     "name": "stdout",
     "output_type": "stream",
     "text": [
      "       date      city  temperature  humidity\n",
      "0  5/1/2017  new york           65        56\n",
      "1  5/1/2017  new york           61        54\n",
      "2  5/2/2017  new york           70        60\n",
      "3  5/2/2017  new york           72        62\n",
      "4  5/1/2017    mumbai           75        80\n",
      "5  5/1/2017    mumbai           78        83\n",
      "6  5/2/2017    mumbai           82        85\n",
      "7  5/2/2017    mumbai           80        26\n"
     ]
    }
   ],
   "source": [
    "\n",
    "df = pd.read_csv(\"weather2.csv\")\n",
    "print(df)"
   ]
  },
  {
   "cell_type": "code",
   "execution_count": 46,
   "id": "7e6f054d",
   "metadata": {},
   "outputs": [
    {
     "name": "stdout",
     "output_type": "stream",
     "text": [
      "<pandas.core.groupby.generic.DataFrameGroupBy object at 0x0000017A9F06CEE0>\n"
     ]
    }
   ],
   "source": [
    "#Groupby() method will create a object \n",
    "df1 = df.groupby(\"city\") #create a groupby based on column 'city'\n",
    "print(df1)"
   ]
  },
  {
   "cell_type": "code",
   "execution_count": 48,
   "id": "66eec012",
   "metadata": {},
   "outputs": [
    {
     "name": "stdout",
     "output_type": "stream",
     "text": [
      "       date    city  temperature  humidity\n",
      "4  5/1/2017  mumbai           75        80\n",
      "5  5/1/2017  mumbai           78        83\n",
      "6  5/2/2017  mumbai           82        85\n",
      "7  5/2/2017  mumbai           80        26\n"
     ]
    }
   ],
   "source": [
    "# get_group() method to retrieve a specified group from column 'city' from \"weather2.csv\" dataframe. \n",
    "\n",
    "print(df1.get_group('mumbai')) #Display row that has 'city' as 'mumbai'\n"
   ]
  },
  {
   "cell_type": "code",
   "execution_count": 50,
   "id": "9802c0df",
   "metadata": {},
   "outputs": [
    {
     "name": "stdout",
     "output_type": "stream",
     "text": [
      "0    65\n",
      "1    61\n",
      "2    70\n",
      "3    72\n",
      "Name: temperature, dtype: int64\n"
     ]
    }
   ],
   "source": [
    "#Accessing a group\n",
    "print(df1.get_group('new york')['temperature']) #This displays only temperatue column value of 'new york' city"
   ]
  },
  {
   "cell_type": "code",
   "execution_count": 51,
   "id": "71bb585c",
   "metadata": {},
   "outputs": [
    {
     "name": "stdout",
     "output_type": "stream",
     "text": [
      "          temperature  humidity\n",
      "city                           \n",
      "mumbai            315       274\n",
      "new york          268       232\n"
     ]
    },
    {
     "name": "stderr",
     "output_type": "stream",
     "text": [
      "C:\\Users\\rajee\\AppData\\Local\\Temp\\ipykernel_4968\\129731223.py:1: FutureWarning: The default value of numeric_only in DataFrameGroupBy.sum is deprecated. In a future version, numeric_only will default to False. Either specify numeric_only or select only columns which should be valid for the function.\n",
      "  print(df1.sum())\n"
     ]
    }
   ],
   "source": [
    "# sum() method to return the sum values of all numerical columns.\n",
    "print(df1.sum())"
   ]
  },
  {
   "cell_type": "code",
   "execution_count": 52,
   "id": "bdb47997",
   "metadata": {},
   "outputs": [
    {
     "name": "stdout",
     "output_type": "stream",
     "text": [
      "          temperature  humidity\n",
      "city                           \n",
      "mumbai          78.75      68.5\n",
      "new york        67.00      58.0\n"
     ]
    },
    {
     "name": "stderr",
     "output_type": "stream",
     "text": [
      "C:\\Users\\rajee\\AppData\\Local\\Temp\\ipykernel_4968\\281642230.py:3: FutureWarning: The default value of numeric_only in DataFrameGroupBy.mean is deprecated. In a future version, numeric_only will default to False. Either specify numeric_only or select only columns which should be valid for the function.\n",
      "  print(df1.mean())\n"
     ]
    }
   ],
   "source": [
    "#mean() method to return the sum values of all numerical columns.\n",
    "\n",
    "print(df1.mean())"
   ]
  },
  {
   "cell_type": "markdown",
   "id": "1c2fc89a",
   "metadata": {},
   "source": [
    "### Pandas  Plotting"
   ]
  },
  {
   "cell_type": "code",
   "execution_count": null,
   "id": "dd537a0f",
   "metadata": {},
   "outputs": [],
   "source": [
    "Plot()  :Pandas uses plot() method to plot diagrams.\n",
    "    \n",
    "We can use Pyplot, a submodule of the Matplotlib library to visualize the diagram on the screen.\n",
    "\n",
    "\n",
    "kind    : Argument used to specify the type of chart we want to plot. The values of kind can be scatter plot,Histogram etc.\n",
    "          It gives Line chart by default."
   ]
  },
  {
   "cell_type": "code",
   "execution_count": 2,
   "id": "f5a8353f",
   "metadata": {},
   "outputs": [],
   "source": [
    "#Import pyplot from Matplotlib and visualize our DataFrame:\n",
    "\n",
    "import matplotlib.pyplot as plt"
   ]
  },
  {
   "cell_type": "markdown",
   "id": "ba27b68a",
   "metadata": {},
   "source": [
    "### Plot a DataFrame"
   ]
  },
  {
   "cell_type": "code",
   "execution_count": 15,
   "id": "5853cc78",
   "metadata": {},
   "outputs": [
    {
     "data": {
      "image/png": "[encoded data removed]",
      "text/plain": [
       "<Figure size 640x480 with 1 Axes>"
      ]
     },
     "metadata": {},
     "output_type": "display_data"
    },
    {
     "data": {
      "image/png": "[encoded data removed]",
      "text/plain": [
       "<Figure size 640x480 with 1 Axes>"
      ]
     },
     "metadata": {},
     "output_type": "display_data"
    },
    {
     "data": {
      "image/png": "[encoded data removed]",
      "text/plain": [
       "<Figure size 640x480 with 1 Axes>"
      ]
     },
     "metadata": {},
     "output_type": "display_data"
    }
   ],
   "source": [
    "#To plot a DataFrame\n",
    "\n",
    "df = pd.read_csv(\"Weather_data.csv\")\n",
    "df.plot() #By default it shows line chart\n",
    "df.plot(kind=\"bar\") #If you want bar chart\n",
    "df.plot(kind=\"area\") #If you want area chart \n",
    "plt.show()"
   ]
  },
  {
   "cell_type": "markdown",
   "id": "a1181b75",
   "metadata": {},
   "source": [
    "### Scatter Plot"
   ]
  },
  {
   "cell_type": "code",
   "execution_count": 20,
   "id": "bb31296b",
   "metadata": {},
   "outputs": [
    {
     "data": {
      "image/png": "[encoded data removed]",
      "text/plain": [
       "<Figure size 640x480 with 1 Axes>"
      ]
     },
     "metadata": {},
     "output_type": "display_data"
    }
   ],
   "source": [
    "#Plot a scatter plot by loading csv file as DataFrame\n",
    "#A scatter plot needs an x- and a y-axis.\n",
    "\n",
    "df = pd.read_csv('data.csv')\n",
    "\n",
    "df.plot(kind = 'scatter', x = 'Duration', y = 'Calories')\n",
    "\n",
    "plt.show()"
   ]
  },
  {
   "cell_type": "markdown",
   "id": "46fcd4cc",
   "metadata": {},
   "source": [
    "### Histogram"
   ]
  },
  {
   "cell_type": "code",
   "execution_count": 22,
   "id": "f0317e8d",
   "metadata": {},
   "outputs": [
    {
     "data": {
      "image/png": "[encoded data removed]",
      "text/plain": [
       "<Figure size 640x480 with 1 Axes>"
      ]
     },
     "metadata": {},
     "output_type": "display_data"
    }
   ],
   "source": [
    "#Plot a Histogram\n",
    "# A histogram needs only one column.\n",
    "# Here,we will use the \"Duration\" column to create the histogram.\n",
    "\n",
    "#A histogram shows us the frequency of each interval, e.g. how many workouts lasted between 50 and 60 minutes?\n",
    "#The histogram tells us that there were over 100 workouts that lasted between 50 and 60 minute\n",
    "\n",
    "df[\"Duration\"].plot(kind = 'hist',color=\"green\")\n",
    "plt.show()"
   ]
  },
  {
   "cell_type": "markdown",
   "id": "90fc11a0",
   "metadata": {},
   "source": [
    "# END"
   ]
  }
 ],
 "metadata": {
  "kernelspec": {
   "display_name": "Python 3 (ipykernel)",
   "language": "python",
   "name": "python3"
  },
  "language_info": {
   "codemirror_mode": {
    "name": "ipython",
    "version": 3
   },
   "file_extension": ".py",
   "mimetype": "text/x-python",
   "name": "python",
   "nbconvert_exporter": "python",
   "pygments_lexer": "ipython3",
   "version": "3.10.13"
  }
 },
 "nbformat": 4,
 "nbformat_minor": 5
}
