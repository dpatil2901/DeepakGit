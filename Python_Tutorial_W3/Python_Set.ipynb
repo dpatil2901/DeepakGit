{
 "cells": [
  {
   "cell_type": "markdown",
   "id": "373a8c3d",
   "metadata": {},
   "source": [
    "# Set\n",
    "\n",
    "1. Set is a built-in collection data type.\n",
    "2. Sets are used to store multiple items in a single variable.\n",
    "3. Sets are written with curly brackets.\n",
    "                 eg : s = {1,2,3}"
   ]
  },
  {
   "cell_type": "code",
   "execution_count": 1,
   "id": "bcde1757",
   "metadata": {},
   "outputs": [
    {
     "name": "stdout",
     "output_type": "stream",
     "text": [
      "Example Set: {1, 2, 3, 4}\n"
     ]
    }
   ],
   "source": [
    "#Create a Set\n",
    "\n",
    "s = {1,2,3,4}\n",
    "print(\"Example Set:\",s)"
   ]
  },
  {
   "cell_type": "markdown",
   "id": "870b6584",
   "metadata": {},
   "source": [
    "### Characteristics of a Set"
   ]
  },
  {
   "cell_type": "code",
   "execution_count": null,
   "id": "dfbfa191",
   "metadata": {},
   "outputs": [],
   "source": [
    "Set items are :\n",
    "1. Unordered                       : Items in a Set do not have a defined order.Set items can appear in a different order \n",
    "                                     every time you use them, and cannot be referred to by index or key.\n",
    "        \n",
    "2. Unchangeable (Immutable)        : Once a set is created, you cannot change its items, but you can remove items and add \n",
    "                                     new items.\n",
    "        \n",
    "3. Do not allow duplicate values   : Do not allow same values more than one time. "
   ]
  },
  {
   "cell_type": "code",
   "execution_count": 4,
   "id": "da1812a9",
   "metadata": {},
   "outputs": [
    {
     "name": "stdout",
     "output_type": "stream",
     "text": [
      "{'b', 'a', 'd', 'c'}\n",
      "{1, 2, 3, 4}\n"
     ]
    }
   ],
   "source": [
    "#Check whether set allow duplicate values\n",
    "\n",
    "s = {1,2,3,2,4,1}\n",
    "s1 = {'a','b','c','d'}\n",
    "print(s1) # print items in different order than the input order     \n",
    "print(s) #duplicate values has been removed."
   ]
  },
  {
   "cell_type": "markdown",
   "id": "3cf76d2a",
   "metadata": {},
   "source": [
    "### The values True and 1 (also, False and 0) are considered the same value in sets, and are treated as duplicates:"
   ]
  },
  {
   "cell_type": "code",
   "execution_count": 9,
   "id": "a2a7b456",
   "metadata": {},
   "outputs": [
    {
     "name": "stdout",
     "output_type": "stream",
     "text": [
      "{0, 1, 2, 3}\n"
     ]
    }
   ],
   "source": [
    "#The values True and 1 are considered the same value in sets, and are treated as duplicates\n",
    "s = {1,2,True,3,0,False}\n",
    "print(s) #True ,False has been removed"
   ]
  },
  {
   "cell_type": "markdown",
   "id": "9ef052fd",
   "metadata": {},
   "source": [
    "### Set Length"
   ]
  },
  {
   "cell_type": "code",
   "execution_count": null,
   "id": "60a22305",
   "metadata": {},
   "outputs": [],
   "source": [
    "len() :Method to find the length of a set.Length means the no. of items in a set."
   ]
  },
  {
   "cell_type": "code",
   "execution_count": 10,
   "id": "d35819ba",
   "metadata": {},
   "outputs": [
    {
     "name": "stdout",
     "output_type": "stream",
     "text": [
      "Length of set is:  5\n"
     ]
    }
   ],
   "source": [
    "#Length of a set\n",
    "s = {1,2,3,4,5}\n",
    "print(\"Length of set is: \",len(s))"
   ]
  },
  {
   "cell_type": "markdown",
   "id": "e904b532",
   "metadata": {},
   "source": [
    "### Set Items - Data Types\n",
    "Set items can take any data type.\n",
    "Set can have different datatypes as their elements.\n",
    "\n",
    "type() : Method to find the type of a variale"
   ]
  },
  {
   "cell_type": "code",
   "execution_count": 16,
   "id": "dae3f4f4",
   "metadata": {},
   "outputs": [
    {
     "name": "stdout",
     "output_type": "stream",
     "text": [
      "{1, 2, 3, 4} \n",
      " {'Tutorial', 'set', 'to', 'welcome'} \n",
      " {False, True} \n",
      " {'Welcome', True, 3}\n"
     ]
    }
   ],
   "source": [
    "#set with integer,string,boolean data items.\n",
    "s1 = {1,2,3,4} # integer data items\n",
    "s2 = {\"welcome\",\"to\",\"set\",\"Tutorial\"} #string data items\n",
    "s3 = {True,False} #boolean data items\n",
    "s4 = {3,\"Welcome\",True} #different data items\n",
    "print(s1,\"\\n\",s2,\"\\n\",s3,\"\\n\",s4)"
   ]
  },
  {
   "cell_type": "code",
   "execution_count": 17,
   "id": "7d64c34b",
   "metadata": {},
   "outputs": [
    {
     "name": "stdout",
     "output_type": "stream",
     "text": [
      "<class 'set'>\n"
     ]
    }
   ],
   "source": [
    "#identify the type of a variale\n",
    "s = {1,2,3,4} \n",
    "print(type(s))"
   ]
  },
  {
   "cell_type": "code",
   "execution_count": null,
   "id": "bce317ca",
   "metadata": {},
   "outputs": [],
   "source": [
    "The set() Constructor"
   ]
  },
  {
   "cell_type": "code",
   "execution_count": null,
   "id": "4a3a6e10",
   "metadata": {},
   "outputs": [],
   "source": [
    "set() : Constructor of class Set, used to make a set."
   ]
  },
  {
   "cell_type": "code",
   "execution_count": 18,
   "id": "c19b6898",
   "metadata": {},
   "outputs": [
    {
     "name": "stdout",
     "output_type": "stream",
     "text": [
      "{1, 2, 3, 4, 5}\n",
      "<class 'set'>\n"
     ]
    }
   ],
   "source": [
    "#set constructor\n",
    "l = [1,2,3,4,5]\n",
    "s =set(l)\n",
    "print(s) # list turned to a set\n",
    "print(type(s))"
   ]
  },
  {
   "cell_type": "markdown",
   "id": "1b82e44b",
   "metadata": {},
   "source": [
    "### Set Methods"
   ]
  },
  {
   "cell_type": "code",
   "execution_count": null,
   "id": "5faf3bc3",
   "metadata": {},
   "outputs": [],
   "source": [
    "Python has a set of built-in methods that you can use on sets.\n",
    "\n",
    "Method             Description\n",
    "add()                   Adds an element to the set\n",
    "clear()                 Removes all the elements from the set\n",
    "copy()                  Returns a copy of the set\n",
    "difference()            Returns a set containing the difference between two or more sets\n",
    "difference_update()     Removes the items in this set that are also included in another, specified set\n",
    "discard()               Remove the specified item\n",
    "intersection()          Returns a set, that is the intersection of two other sets\n",
    "intersection_update()   Removes the items in this set that are not present in other, specified set(s)\n",
    "isdisjoint()            Returns whether two sets have a intersection or not\n",
    "issubset()              Returns whether another set contains this set or not\n",
    "issuperset()            Returns whether this set contains another set or not\n",
    "pop()                   Removes an element from the set\n",
    "remove()                Removes the specified element\n",
    "union()                 Return a set containing the union of sets\n",
    "update()                Update the set with the union of this set and others"
   ]
  },
  {
   "cell_type": "markdown",
   "id": "cb91ca9e",
   "metadata": {},
   "source": [
    "### Access Set Items"
   ]
  },
  {
   "cell_type": "code",
   "execution_count": null,
   "id": "4ed4c59a",
   "metadata": {},
   "outputs": [],
   "source": [
    "We cannot access items in a set by referring to an index or a key.\n",
    "But you can loop through the set items using a for loop.\n",
    "in  :Keyword to check whether an item present or not"
   ]
  },
  {
   "cell_type": "code",
   "execution_count": 19,
   "id": "a5a44c95",
   "metadata": {},
   "outputs": [
    {
     "name": "stdout",
     "output_type": "stream",
     "text": [
      "1\n",
      "2\n",
      "3\n",
      "4\n",
      "5\n"
     ]
    }
   ],
   "source": [
    "#loop through each item using for loop\n",
    "s = {1,2,3,4,5}\n",
    "for i in s:\n",
    "    print(i)"
   ]
  },
  {
   "cell_type": "code",
   "execution_count": 20,
   "id": "54043e04",
   "metadata": {},
   "outputs": [
    {
     "name": "stdout",
     "output_type": "stream",
     "text": [
      "yes,Item present\n"
     ]
    }
   ],
   "source": [
    "#in keyword to check an item present or not\n",
    "s = {1,2,3,4,5}\n",
    "if 4 in s:\n",
    "    print(\"yes,Item present\")\n",
    "else:\n",
    "    print(\"No,Item not present\")"
   ]
  },
  {
   "cell_type": "markdown",
   "id": "8136deac",
   "metadata": {},
   "source": [
    "### Change Items\n",
    "We can not change an existing item in a set but we can add new items to the set."
   ]
  },
  {
   "cell_type": "markdown",
   "id": "cf346214",
   "metadata": {},
   "source": [
    "### Add Set Items"
   ]
  },
  {
   "cell_type": "code",
   "execution_count": null,
   "id": "b1e42a0f",
   "metadata": {},
   "outputs": [],
   "source": [
    "add()      : Method in set used to add new items to the set. This method takes exactly one argument.\n",
    "update()   : To add items from another set into the current set. The object in the update() method \n",
    "             does not have to be a set, it can be any iterable object (tuples, lists, dictionaries etc.)."
   ]
  },
  {
   "cell_type": "code",
   "execution_count": 23,
   "id": "117e0e22",
   "metadata": {},
   "outputs": [
    {
     "name": "stdout",
     "output_type": "stream",
     "text": [
      "{1, 2, 3, 4, 5, 6}\n"
     ]
    }
   ],
   "source": [
    "# Add new item to the set\n",
    "s = {1,2,3,4,5}\n",
    "s.add(6)\n",
    "print(s)"
   ]
  },
  {
   "cell_type": "code",
   "execution_count": 26,
   "id": "6f82e14c",
   "metadata": {},
   "outputs": [
    {
     "name": "stdout",
     "output_type": "stream",
     "text": [
      "{1, 2, 3, 4, 5, 6, 7, 8, 9, 10}\n",
      "{6, 7, 8, 9, 10, 'c', 'd', 'b', 'a'}\n"
     ]
    }
   ],
   "source": [
    "# update() method\n",
    "s1 = {1,2,3,4,5}\n",
    "s2 = {6,7,8,9,10}\n",
    "l = ['a','b','c','d']\n",
    "s1.update(s2) # add items from another set\n",
    "s2.update(l) #add items from a list\n",
    "print(s1)\n",
    "print(s2)"
   ]
  },
  {
   "cell_type": "markdown",
   "id": "ac92bc8e",
   "metadata": {},
   "source": [
    "### Remove Set Items"
   ]
  },
  {
   "cell_type": "code",
   "execution_count": null,
   "id": "666046b0",
   "metadata": {},
   "outputs": [],
   "source": [
    "remove()   : Method to remove an item from set.If the item to remove does not exist, remove() will raise an error.\n",
    "    \n",
    "discard()  : Method to remove an item from set.If the item to remove does not exist, discard() will not raise an error.\n",
    "    \n",
    "pop()      : Method to remove an item, but this method will remove a random item,\n",
    "             so you cannot be sure what item that gets removed.\n",
    "    \n",
    "clear()    : Method to empties the set.\n",
    "    \n",
    "del        : Keyword to delete the set completely."
   ]
  },
  {
   "cell_type": "code",
   "execution_count": 3,
   "id": "2573dd35",
   "metadata": {},
   "outputs": [
    {
     "name": "stdout",
     "output_type": "stream",
     "text": [
      "{1, 2, 4, 5}\n"
     ]
    }
   ],
   "source": [
    "#use of remove()\n",
    "s ={1,2,3,4,5}\n",
    "s.remove(3)\n",
    "#s.remove(6) #throw error since item dosen't exist.\n",
    "print(s)"
   ]
  },
  {
   "cell_type": "code",
   "execution_count": 6,
   "id": "f58adb4c",
   "metadata": {},
   "outputs": [
    {
     "name": "stdout",
     "output_type": "stream",
     "text": [
      "{1, 2, 4, 5}\n"
     ]
    }
   ],
   "source": [
    "#use of discard()\n",
    "s ={1,2,3,4,5}\n",
    "s.discard(3)\n",
    "s.discard(6) #will not throw error even if the item dosen't exist.\n",
    "print(s)"
   ]
  },
  {
   "cell_type": "code",
   "execution_count": 7,
   "id": "3e839a5c",
   "metadata": {},
   "outputs": [
    {
     "name": "stdout",
     "output_type": "stream",
     "text": [
      "{2, 3, 4, 5}\n"
     ]
    }
   ],
   "source": [
    "#use of pop()\n",
    "s ={1,2,3,4,5}\n",
    "s.pop() #remove a random item from the set\n",
    "print(s)"
   ]
  },
  {
   "cell_type": "code",
   "execution_count": 10,
   "id": "3702eb3a",
   "metadata": {},
   "outputs": [
    {
     "name": "stdout",
     "output_type": "stream",
     "text": [
      "set()\n"
     ]
    }
   ],
   "source": [
    "#use of clear()\n",
    "s ={1,2,3,4,5}\n",
    "s.clear() #Empties the set\n",
    "print(s)"
   ]
  },
  {
   "cell_type": "code",
   "execution_count": 11,
   "id": "8410846f",
   "metadata": {},
   "outputs": [
    {
     "ename": "NameError",
     "evalue": "name 's' is not defined",
     "output_type": "error",
     "traceback": [
      "\u001b[1;31m---------------------------------------------------------------------------\u001b[0m",
      "\u001b[1;31mNameError\u001b[0m                                 Traceback (most recent call last)",
      "Cell \u001b[1;32mIn[11], line 4\u001b[0m\n\u001b[0;32m      2\u001b[0m s \u001b[38;5;241m=\u001b[39m{\u001b[38;5;241m1\u001b[39m,\u001b[38;5;241m2\u001b[39m,\u001b[38;5;241m3\u001b[39m,\u001b[38;5;241m4\u001b[39m,\u001b[38;5;241m5\u001b[39m}\n\u001b[0;32m      3\u001b[0m \u001b[38;5;28;01mdel\u001b[39;00m s\n\u001b[1;32m----> 4\u001b[0m \u001b[38;5;28mprint\u001b[39m(\u001b[43ms\u001b[49m)\n",
      "\u001b[1;31mNameError\u001b[0m: name 's' is not defined"
     ]
    }
   ],
   "source": [
    "#use of del keyword\n",
    "s ={1,2,3,4,5}\n",
    "del s #completely deleted the set\n",
    "print(s) #throw error since the set was deleted"
   ]
  },
  {
   "cell_type": "markdown",
   "id": "8a3d4b27",
   "metadata": {},
   "source": [
    "### Loop Sets\n",
    "We can use for loop to iterate through set elements."
   ]
  },
  {
   "cell_type": "code",
   "execution_count": 12,
   "id": "fd76004a",
   "metadata": {},
   "outputs": [
    {
     "name": "stdout",
     "output_type": "stream",
     "text": [
      "set\n",
      "tutorial\n",
      "to\n",
      "pyhton\n",
      "Welcome\n"
     ]
    }
   ],
   "source": [
    "#Use of for loop \n",
    "\n",
    "s ={\"Welcome\",\"to\",\"pyhton\",\"set\",\"tutorial\"}\n",
    "for i in s:\n",
    "    print(i) #items comes in different order since set is unorderd"
   ]
  },
  {
   "cell_type": "markdown",
   "id": "ffef355b",
   "metadata": {},
   "source": [
    "### Join Sets"
   ]
  },
  {
   "cell_type": "code",
   "execution_count": null,
   "id": "b6c08081",
   "metadata": {},
   "outputs": [],
   "source": [
    "There are several ways to join two or more sets in Python:\n",
    "    \n",
    "1. union()                : Returns a new set containing all items from both sets. \n",
    "\n",
    "2. update()               : Method to inserts all the items from one set into another.\n",
    "    \n",
    "3. intersection_update()  : Method to keep only the items that are present in both sets.\n",
    "    \n",
    "4. intersection()         : Method will return a new set, that only contains the items that are present in both sets.\n",
    "\n",
    "5. symmetric_difference() : Method will return a new set, that contains only the elements that are NOT present in both sets.\n",
    "\n",
    "6. symmetric_difference_update() : Method will keep only the elements that are not present in both sets. \n",
    "        \n",
    "Both union() and update() will exclude any duplicate items."
   ]
  },
  {
   "cell_type": "code",
   "execution_count": 13,
   "id": "725ba729",
   "metadata": {},
   "outputs": [
    {
     "name": "stdout",
     "output_type": "stream",
     "text": [
      "{1, 2, 3, 4, 5, 6, 7, 8}\n"
     ]
    }
   ],
   "source": [
    "#use of join() \n",
    "\n",
    "s1 = {1,2,3,4}\n",
    "s2 = {5,6,7,8}\n",
    "s = s1.union(s2)\n",
    "print(s)"
   ]
  },
  {
   "cell_type": "code",
   "execution_count": 16,
   "id": "7154598b",
   "metadata": {},
   "outputs": [
    {
     "name": "stdout",
     "output_type": "stream",
     "text": [
      "{1, 2, 3, 4, 5, 6, 7, 8}\n"
     ]
    }
   ],
   "source": [
    "#use of update() \n",
    "\n",
    "s1 = {1,2,3,4}\n",
    "s2 = {5,6,7,8}\n",
    "s1.update(s2)\n",
    "print(s1)"
   ]
  },
  {
   "cell_type": "code",
   "execution_count": 17,
   "id": "ae3b29b0",
   "metadata": {},
   "outputs": [
    {
     "name": "stdout",
     "output_type": "stream",
     "text": [
      "{2, 5}\n"
     ]
    }
   ],
   "source": [
    "#use of intersection_update()\n",
    "\n",
    "s1 = {1,2,5,4}\n",
    "s2 = {5,2,7,8}\n",
    "s1.intersection_update(s2)\n",
    "print(s1)"
   ]
  },
  {
   "cell_type": "code",
   "execution_count": 18,
   "id": "8eb88779",
   "metadata": {},
   "outputs": [
    {
     "name": "stdout",
     "output_type": "stream",
     "text": [
      "{2, 5}\n"
     ]
    }
   ],
   "source": [
    "#use of intersection()\n",
    "\n",
    "s1 = {1,2,5,4}\n",
    "s2 = {5,2,7,8}\n",
    "s3 = s1.intersection(s2)\n",
    "print(s3)"
   ]
  },
  {
   "cell_type": "code",
   "execution_count": 20,
   "id": "e7bbbfe8",
   "metadata": {},
   "outputs": [
    {
     "name": "stdout",
     "output_type": "stream",
     "text": [
      "{1, 4, 7, 8}\n"
     ]
    }
   ],
   "source": [
    "#use of symmetric_difference()\n",
    "\n",
    "s1 = {1,2,5,4}\n",
    "s2 = {5,2,7,8}\n",
    "s3 = s1.symmetric_difference(s2)\n",
    "print(s3)"
   ]
  },
  {
   "cell_type": "code",
   "execution_count": 22,
   "id": "a79b047f",
   "metadata": {},
   "outputs": [
    {
     "name": "stdout",
     "output_type": "stream",
     "text": [
      "{1, 4, 7, 8}\n"
     ]
    }
   ],
   "source": [
    "#use of symmetric_difference_update()\n",
    "\n",
    "s1 = {1,2,5,4}\n",
    "s2 = {5,2,7,8}\n",
    "s1.symmetric_difference_update(s2)\n",
    "print(s1)"
   ]
  },
  {
   "cell_type": "markdown",
   "id": "f6a9dfff",
   "metadata": {},
   "source": [
    "# End"
   ]
  }
 ],
 "metadata": {
  "kernelspec": {
   "display_name": "Python 3 (ipykernel)",
   "language": "python",
   "name": "python3"
  },
  "language_info": {
   "codemirror_mode": {
    "name": "ipython",
    "version": 3
   },
   "file_extension": ".py",
   "mimetype": "text/x-python",
   "name": "python",
   "nbconvert_exporter": "python",
   "pygments_lexer": "ipython3",
   "version": "3.10.13"
  }
 },
 "nbformat": 4,
 "nbformat_minor": 5
}
