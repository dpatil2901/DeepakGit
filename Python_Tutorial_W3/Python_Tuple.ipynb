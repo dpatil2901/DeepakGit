{
 "cells": [
  {
   "cell_type": "markdown",
   "id": "d748f8ce",
   "metadata": {},
   "source": [
    "# Tuple"
   ]
  },
  {
   "cell_type": "code",
   "execution_count": null,
   "id": "1e2c7eab",
   "metadata": {},
   "outputs": [],
   "source": [
    "1. Tuple is a built-in collection data type.\n",
    "2. Tuples are used to store multiple items in a single variable.\n",
    "3. Tuples are written with round brackets.\n",
    "                 eg : t = (1,2,3,4)"
   ]
  },
  {
   "cell_type": "code",
   "execution_count": 2,
   "id": "874629ef",
   "metadata": {},
   "outputs": [
    {
     "name": "stdout",
     "output_type": "stream",
     "text": [
      "Example Tuple: (1, 2, 3, 4, 5)\n"
     ]
    }
   ],
   "source": [
    "#Create a Tuple\n",
    "\n",
    "t =(1,2,3,4,5)\n",
    "print(\"Example Tuple:\",t)"
   ]
  },
  {
   "cell_type": "markdown",
   "id": "b5714c7e",
   "metadata": {},
   "source": [
    "### Characteristics of a Tuple"
   ]
  },
  {
   "cell_type": "code",
   "execution_count": null,
   "id": "f1a6b1f9",
   "metadata": {},
   "outputs": [],
   "source": [
    "Tuple items are :\n",
    "1. Ordered                  : Items in a tuple have a defined order, and that order will not change.\n",
    "2. Unchangeable (Immutable) : we cannot change, add or remove items after the tuple has been created.\n",
    "3. Allow duplicate values   : Allow same values more than one time since tuple is indexed.\n",
    "    \n",
    "Tuple items are indexed, the first item has index [0], the second item has index [1] etc."
   ]
  },
  {
   "cell_type": "code",
   "execution_count": 4,
   "id": "1d769aeb",
   "metadata": {},
   "outputs": [
    {
     "name": "stdout",
     "output_type": "stream",
     "text": [
      "(10, 20, 30, 40)\n"
     ]
    }
   ],
   "source": [
    "#Tuple are ordered.\n",
    "t =(10,20,30,40)\n",
    "print(t) #Print the items in the same order."
   ]
  },
  {
   "cell_type": "code",
   "execution_count": 5,
   "id": "034b7ea2",
   "metadata": {},
   "outputs": [
    {
     "name": "stdout",
     "output_type": "stream",
     "text": [
      "(10, 20, 30, 40, 10, 20, 30)\n"
     ]
    }
   ],
   "source": [
    "#allow duplicates\n",
    "t=(10,20,30,40,10,20,30)\n",
    "print(t) #allow duplicates"
   ]
  },
  {
   "cell_type": "markdown",
   "id": "82e33323",
   "metadata": {},
   "source": [
    "### Tuple Length"
   ]
  },
  {
   "cell_type": "code",
   "execution_count": null,
   "id": "796477bb",
   "metadata": {},
   "outputs": [],
   "source": [
    "len() :Method to find the length of a tuple.Length means the no. of items in a tuple."
   ]
  },
  {
   "cell_type": "code",
   "execution_count": 6,
   "id": "2e4edea8",
   "metadata": {},
   "outputs": [
    {
     "name": "stdout",
     "output_type": "stream",
     "text": [
      "Length of tuple is:  5\n"
     ]
    }
   ],
   "source": [
    "#Length of a tuple\n",
    "t = (1,2,3,4,5)\n",
    "print(\"Length of tuple is: \",len(t))"
   ]
  },
  {
   "cell_type": "markdown",
   "id": "6a872c72",
   "metadata": {},
   "source": [
    "### Create Tuple With One Item"
   ]
  },
  {
   "cell_type": "code",
   "execution_count": null,
   "id": "425d43d2",
   "metadata": {},
   "outputs": [],
   "source": [
    "To create a tuple with only one item, you have to add a comma after the item, \n",
    "otherwise Python will not recognize it as a tuple."
   ]
  },
  {
   "cell_type": "code",
   "execution_count": 11,
   "id": "4ab9861c",
   "metadata": {},
   "outputs": [
    {
     "name": "stdout",
     "output_type": "stream",
     "text": [
      "<class 'str'>\n",
      "<class 'tuple'>\n",
      "('Welcome',)\n"
     ]
    }
   ],
   "source": [
    "#Tuple with one item\n",
    "t =(\"Welcome\",)\n",
    "t1=(\"welcome\")\n",
    "print(type(t1)) # consider as string\n",
    "print(type(t)) # consider as tuple\n",
    "print(t)"
   ]
  },
  {
   "cell_type": "markdown",
   "id": "dc93a723",
   "metadata": {},
   "source": [
    "### Tuple Items - Data Types"
   ]
  },
  {
   "cell_type": "code",
   "execution_count": null,
   "id": "e2348416",
   "metadata": {},
   "outputs": [],
   "source": [
    "Tuple items can be of any data type such as integer, float, string etc.\n",
    "Tuple can have different datatypes as their elements.\n",
    "\n",
    "type() : Method to find the type of a variale"
   ]
  },
  {
   "cell_type": "code",
   "execution_count": 12,
   "id": "0ed4d2af",
   "metadata": {},
   "outputs": [
    {
     "name": "stdout",
     "output_type": "stream",
     "text": [
      "(1, 2, 'Welcome', 5, 'hello', 67.9)\n"
     ]
    }
   ],
   "source": [
    "#tuple with different data items.\n",
    "t = (1,2,\"Welcome\",5,\"hello\",67.90)\n",
    "print(t)"
   ]
  },
  {
   "cell_type": "code",
   "execution_count": 13,
   "id": "4af6570d",
   "metadata": {},
   "outputs": [
    {
     "name": "stdout",
     "output_type": "stream",
     "text": [
      "<class 'tuple'>\n"
     ]
    }
   ],
   "source": [
    "#type() method to determine datatype\n",
    "t = (\"welcome\",\"to\",\"tuple\")\n",
    "print(type(t)) # t is a tuple"
   ]
  },
  {
   "cell_type": "markdown",
   "id": "c596268f",
   "metadata": {},
   "source": [
    "### The tuple() Constructor"
   ]
  },
  {
   "cell_type": "code",
   "execution_count": null,
   "id": "e7c6f396",
   "metadata": {},
   "outputs": [],
   "source": [
    "tuple() : Constructor of class Tuple, used to make a tuple."
   ]
  },
  {
   "cell_type": "code",
   "execution_count": 14,
   "id": "75fd7c23",
   "metadata": {},
   "outputs": [
    {
     "name": "stdout",
     "output_type": "stream",
     "text": [
      "(1, 2, 3, 4, 5)\n",
      "<class 'tuple'>\n"
     ]
    }
   ],
   "source": [
    "#tuple constructor\n",
    "l = [1,2,3,4,5]\n",
    "t =tuple(l)\n",
    "print(t) # list turned to a tuple\n",
    "print(type(t))"
   ]
  },
  {
   "cell_type": "markdown",
   "id": "808d4684",
   "metadata": {},
   "source": [
    "### Tuple Methods"
   ]
  },
  {
   "cell_type": "code",
   "execution_count": null,
   "id": "9e7095b6",
   "metadata": {},
   "outputs": [],
   "source": [
    "Python has two built-in methods that you can use on tuples:\n",
    "\n",
    "Method                          Description\n",
    "\n",
    "count()     Returns the number of times a specified value occurs in a tuple\n",
    "index()     Searches the tuple for a specified value and returns the position of where it was found."
   ]
  },
  {
   "cell_type": "markdown",
   "id": "211222c0",
   "metadata": {},
   "source": [
    "### Access Tuple Items\n",
    "We can access tuple items by referring to the index number, inside square brackets."
   ]
  },
  {
   "cell_type": "code",
   "execution_count": 1,
   "id": "074fbeef",
   "metadata": {},
   "outputs": [
    {
     "name": "stdout",
     "output_type": "stream",
     "text": [
      "1\n",
      "2\n",
      "5\n"
     ]
    }
   ],
   "source": [
    "#Access tuple items.\n",
    "t = (1,2,3,4,5)\n",
    "print(t[0]) #access first item\n",
    "print(t[1]) #access second item\n",
    "print(t[4]) #access fifth item"
   ]
  },
  {
   "cell_type": "markdown",
   "id": "62a73827",
   "metadata": {},
   "source": [
    "### Negative Indexing\n",
    "\n",
    "Negative indexing means start from the end.\n",
    "-1 refers to the last item, -2 refers to the second last item etc."
   ]
  },
  {
   "cell_type": "code",
   "execution_count": 2,
   "id": "0e49fc56",
   "metadata": {},
   "outputs": [
    {
     "name": "stdout",
     "output_type": "stream",
     "text": [
      "5\n",
      "4\n",
      "1\n"
     ]
    }
   ],
   "source": [
    "#Negative indexing\n",
    "t = (1,2,3,4,5)\n",
    "print(t[-1]) #access last item\n",
    "print(t[-2]) #access second last item\n",
    "print(t[-5]) #access first item"
   ]
  },
  {
   "cell_type": "markdown",
   "id": "88ed43bc",
   "metadata": {},
   "source": [
    "### Range of Indexes\n",
    "Specify a range of indexes by specifying where to start and where to end the range.\n",
    "When specifying a range, the return value will be a new tuple with the specified items.\n"
   ]
  },
  {
   "cell_type": "code",
   "execution_count": 6,
   "id": "789574b9",
   "metadata": {},
   "outputs": [
    {
     "name": "stdout",
     "output_type": "stream",
     "text": [
      "(6, 8, 10)\n",
      "(2, 4, 6, 8)\n",
      "(8, 10, 12)\n"
     ]
    }
   ],
   "source": [
    "# To return a specified range of items from list\n",
    "t = (2,4,6,8,10,12)\n",
    "print(t[2:5]) # range start at index 2 (included) end at index 5(not included)\n",
    "\n",
    "print(t[:4]) #Start from the 0th index end at index 4(not included)\n",
    "             # By leaving out the start value, the range will start at the first item\n",
    "\n",
    "print(t[3:])  #Start from the 3rd index to the end of tuple.\n",
    "              # By leaving out the end value, the range will go on to the end of the tuple"
   ]
  },
  {
   "cell_type": "markdown",
   "id": "3f2b6f1f",
   "metadata": {},
   "source": [
    "### Range of Negative Indexes\n",
    "Specify negative indexes if you want to display from the end of the tuple."
   ]
  },
  {
   "cell_type": "code",
   "execution_count": 1,
   "id": "30d8d1c4",
   "metadata": {},
   "outputs": [
    {
     "name": "stdout",
     "output_type": "stream",
     "text": [
      "(4, 6, 8, 10)\n"
     ]
    }
   ],
   "source": [
    "## To return a specified range of items from the end of the list\n",
    "t = (2,4,6,8,10,12)\n",
    "print(t[-5:-1]) #start from index -5 and print up to index -2"
   ]
  },
  {
   "cell_type": "markdown",
   "id": "2ad242d0",
   "metadata": {},
   "source": [
    "### Check if Item Exists"
   ]
  },
  {
   "cell_type": "code",
   "execution_count": null,
   "id": "20ecaca4",
   "metadata": {},
   "outputs": [],
   "source": [
    "in : keyword to determine a specified item is present in a tuple."
   ]
  },
  {
   "cell_type": "code",
   "execution_count": 5,
   "id": "4fb2b4d4",
   "metadata": {},
   "outputs": [
    {
     "name": "stdout",
     "output_type": "stream",
     "text": [
      "yes,item present in the list\n"
     ]
    }
   ],
   "source": [
    "#check if an item present or not in a given list.\n",
    "\n",
    "t = (12,14,16,18,20)\n",
    "if 14 in t:\n",
    "    print(\"yes,item present in the list\")\n",
    "else:\n",
    "    print(\"no,item not present in the list\")    "
   ]
  },
  {
   "cell_type": "markdown",
   "id": "4b395819",
   "metadata": {},
   "source": [
    "### Update Tuples\n",
    "Tuples are unchangeable, meaning that you cannot change, add, or remove items once the tuple is created.\n",
    "But there is a solition if you want to update a tuple , that is You can convert the tuple into a list, \n",
    "change the list, and convert the list back into a tuple."
   ]
  },
  {
   "cell_type": "code",
   "execution_count": 7,
   "id": "d1c43c66",
   "metadata": {},
   "outputs": [
    {
     "name": "stdout",
     "output_type": "stream",
     "text": [
      "(2, 40, 6, 8)\n"
     ]
    }
   ],
   "source": [
    "#converting a tuple to list to change an item in the tuple.\n",
    "t = (2,4,6,8)\n",
    "l =list(t)\n",
    "l[1] =40\n",
    "t = tuple(l)\n",
    "print(t) "
   ]
  },
  {
   "cell_type": "markdown",
   "id": "f81801c5",
   "metadata": {},
   "source": [
    "### Add Items\n",
    " We are allowed to add tuples to tuples,if you want to add one item, (or many), create a new tuple with the item(s), and add it to the existing tuple."
   ]
  },
  {
   "cell_type": "code",
   "execution_count": 8,
   "id": "b6d77669",
   "metadata": {},
   "outputs": [
    {
     "name": "stdout",
     "output_type": "stream",
     "text": [
      "(1, 2, 3, 4, 5, 6, 7, 8)\n"
     ]
    }
   ],
   "source": [
    "#adding one tuple to another\n",
    "\n",
    "t1 = (1,2,3,4)\n",
    "t2 = (5,6,7,8)\n",
    "t1+=t2 # t1 = t1+t2\n",
    "print(t1)\n"
   ]
  },
  {
   "cell_type": "markdown",
   "id": "d06594c0",
   "metadata": {},
   "source": [
    "### Delete a Tuple"
   ]
  },
  {
   "cell_type": "code",
   "execution_count": null,
   "id": "3c4b8608",
   "metadata": {},
   "outputs": [],
   "source": [
    "del - Keyword used to delete a tuple."
   ]
  },
  {
   "cell_type": "code",
   "execution_count": 11,
   "id": "32fe400c",
   "metadata": {},
   "outputs": [
    {
     "name": "stdout",
     "output_type": "stream",
     "text": [
      "(1, 2, 3, 4)\n"
     ]
    },
    {
     "ename": "NameError",
     "evalue": "name 't' is not defined",
     "output_type": "error",
     "traceback": [
      "\u001b[1;31m---------------------------------------------------------------------------\u001b[0m",
      "\u001b[1;31mNameError\u001b[0m                                 Traceback (most recent call last)",
      "Cell \u001b[1;32mIn[11], line 5\u001b[0m\n\u001b[0;32m      3\u001b[0m \u001b[38;5;28mprint\u001b[39m(t)\n\u001b[0;32m      4\u001b[0m \u001b[38;5;28;01mdel\u001b[39;00m t\n\u001b[1;32m----> 5\u001b[0m \u001b[38;5;28mprint\u001b[39m(\u001b[43mt\u001b[49m)\n",
      "\u001b[1;31mNameError\u001b[0m: name 't' is not defined"
     ]
    }
   ],
   "source": [
    "#Delete a tuple\n",
    "t = (1,2,3,4)\n",
    "print(t) # print tuple t\n",
    "del t\n",
    "print(t) # this shows error since tuple t was deleted "
   ]
  },
  {
   "cell_type": "markdown",
   "id": "ae090caf",
   "metadata": {},
   "source": [
    "### Unpack Tuples"
   ]
  },
  {
   "cell_type": "code",
   "execution_count": null,
   "id": "52cc1d12",
   "metadata": {},
   "outputs": [],
   "source": [
    "Packing a tuple   : Assigning values to tuple when we create it.\n",
    "Unpacking a tuple : Unpacking allowes to extract the values back into variables.\n",
    "                    The number of variables must match the number of values in the tuple, \n",
    "                    if not, you must use an asterisk to collect the remaining values as a list\n",
    "            \n",
    "Using Asterisk*\n",
    "\n",
    "If the number of variables is less than the number of values,\n",
    "you can add an * to the variable name and the values will be assigned to the variable as a list"
   ]
  },
  {
   "cell_type": "code",
   "execution_count": 12,
   "id": "a9805aca",
   "metadata": {},
   "outputs": [
    {
     "name": "stdout",
     "output_type": "stream",
     "text": [
      "Mango\n",
      "Orange\n",
      "Apple\n"
     ]
    }
   ],
   "source": [
    "#Unpacking a tuple\n",
    "fruits = (\"Mango\",\"Orange\",\"Apple\")\n",
    "(yellow,orange,red) = fruits\n",
    "print(yellow)\n",
    "print(orange)\n",
    "print(red)"
   ]
  },
  {
   "cell_type": "code",
   "execution_count": 26,
   "id": "887126be",
   "metadata": {},
   "outputs": [
    {
     "name": "stdout",
     "output_type": "stream",
     "text": [
      "yellow =  Mango\n",
      "orange =  ['Orange', 'Apple', 'tomato', 'Cherry']\n",
      "red =  rasberry\n"
     ]
    }
   ],
   "source": [
    "#Unpacking a tuple using *\n",
    "\n",
    "fruits = (\"Mango\",\"Orange\",\"Apple\",\"tomato\",\"Cherry\",\"rasberry\")\n",
    "#(yellow,orange,red) = fruits #Here no.of varialbe less than no.of items in the tuple \n",
    "\n",
    "(yellow,orange,*red) = fruits # So use astric with variale red so remaining items in the tuple stored in variable 'red' as a list. \n",
    "\n",
    "#(*yellow,orange,red) = fruits #if you want variable 'yellow' as a list\n",
    "\n",
    "#(yellow,*orange,red) = fruits #if you want variable 'orange' as a list\n",
    "\n",
    "print(\"yellow = \",yellow)\n",
    "print(\"orange = \",orange)\n",
    "print(\"red = \",red)\n"
   ]
  },
  {
   "cell_type": "markdown",
   "id": "cd5b720a",
   "metadata": {},
   "source": [
    "### Loop Tuples\n",
    "We can use for loop to iterate through tuple items."
   ]
  },
  {
   "cell_type": "code",
   "execution_count": 27,
   "id": "c620586e",
   "metadata": {},
   "outputs": [
    {
     "name": "stdout",
     "output_type": "stream",
     "text": [
      "11\n",
      "22\n",
      "33\n",
      "44\n",
      "55\n"
     ]
    }
   ],
   "source": [
    "#loop through tuples\n",
    "\n",
    "t = (11,22,33,44,55)\n",
    "for i in t:\n",
    "    print(i)"
   ]
  },
  {
   "cell_type": "markdown",
   "id": "4acae5bf",
   "metadata": {},
   "source": [
    "### Loop through index numbers\n",
    "We can loop through index numbers using range() and len() method."
   ]
  },
  {
   "cell_type": "code",
   "execution_count": 29,
   "id": "a8708c51",
   "metadata": {},
   "outputs": [
    {
     "name": "stdout",
     "output_type": "stream",
     "text": [
      "0\n",
      "1\n",
      "2\n",
      "3\n",
      "4\n"
     ]
    }
   ],
   "source": [
    "#Loop through index numbers.\n",
    "\n",
    "t = (11,22,33,44,55)\n",
    "for i in range(len(t)):\n",
    "    print(i)\n"
   ]
  },
  {
   "cell_type": "markdown",
   "id": "89fb5aa7",
   "metadata": {},
   "source": [
    "### Using a While Loop"
   ]
  },
  {
   "cell_type": "code",
   "execution_count": 31,
   "id": "c6ee8eb7",
   "metadata": {},
   "outputs": [
    {
     "name": "stdout",
     "output_type": "stream",
     "text": [
      "11\n",
      "22\n",
      "33\n",
      "44\n",
      "55\n"
     ]
    }
   ],
   "source": [
    "#iterate through tuple items using while loop\n",
    "\n",
    "t = (11,22,33,44,55)\n",
    "i=0\n",
    "while(i<len(t)):\n",
    "    print(t[i])\n",
    "    i+=1"
   ]
  },
  {
   "cell_type": "code",
   "execution_count": 32,
   "id": "ca2a88f5",
   "metadata": {},
   "outputs": [
    {
     "name": "stdout",
     "output_type": "stream",
     "text": [
      "0\n",
      "1\n",
      "2\n",
      "3\n",
      "4\n"
     ]
    }
   ],
   "source": [
    "#iterate through tuple items' indexes using while loop\n",
    "\n",
    "t = (11,22,33,44,55)\n",
    "i=0\n",
    "while(i<len(t)):\n",
    "    print(i)\n",
    "    i+=1"
   ]
  },
  {
   "cell_type": "markdown",
   "id": "e8721e30",
   "metadata": {},
   "source": [
    "### Join Tuples"
   ]
  },
  {
   "cell_type": "code",
   "execution_count": null,
   "id": "d033f27b",
   "metadata": {},
   "outputs": [],
   "source": [
    "1. '+' operator  : Join two tuples\n",
    "2. '*' operator  :Multiply the content of a tuple a given number of times."
   ]
  },
  {
   "cell_type": "code",
   "execution_count": 34,
   "id": "7a3e6b85",
   "metadata": {},
   "outputs": [
    {
     "name": "stdout",
     "output_type": "stream",
     "text": [
      "(1, 2, 3, 4, 5, 6, 7, 8)\n"
     ]
    }
   ],
   "source": [
    "#Join two tuples using '+' \n",
    "\n",
    "t1 = (1,2,3,4)\n",
    "t2 = (5,6,7,8)\n",
    "t3 = t1 + t2 \n",
    "print(t3)"
   ]
  },
  {
   "cell_type": "code",
   "execution_count": 38,
   "id": "787b1057",
   "metadata": {},
   "outputs": [
    {
     "name": "stdout",
     "output_type": "stream",
     "text": [
      "(1, 2, 3, 4, 1, 2, 3, 4, 1, 2, 3, 4)\n",
      "('Apple', 'Orange', 'Grapes', 'Apple', 'Orange', 'Grapes')\n"
     ]
    }
   ],
   "source": [
    "#Multiply the content of a tuple a given number of times using '*'\n",
    "\n",
    "t1 = (1,2,3,4)\n",
    "t2 =(\"Apple\",\"Orange\",\"Grapes\")\n",
    "t3 = t1*3\n",
    "t4 = t2*2\n",
    "print(t3)\n",
    "print(t4)"
   ]
  },
  {
   "cell_type": "markdown",
   "id": "5883c25e",
   "metadata": {},
   "source": [
    "# End"
   ]
  }
 ],
 "metadata": {
  "kernelspec": {
   "display_name": "Python 3 (ipykernel)",
   "language": "python",
   "name": "python3"
  },
  "language_info": {
   "codemirror_mode": {
    "name": "ipython",
    "version": 3
   },
   "file_extension": ".py",
   "mimetype": "text/x-python",
   "name": "python",
   "nbconvert_exporter": "python",
   "pygments_lexer": "ipython3",
   "version": "3.10.9"
  }
 },
 "nbformat": 4,
 "nbformat_minor": 5
}
